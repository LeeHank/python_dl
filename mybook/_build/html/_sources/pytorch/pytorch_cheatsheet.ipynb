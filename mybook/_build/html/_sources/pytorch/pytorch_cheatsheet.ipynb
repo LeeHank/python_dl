{
 "cells": [
  {
   "cell_type": "markdown",
   "metadata": {},
   "source": [
    "# Pytorch Cheatsheet"
   ]
  },
  {
   "cell_type": "markdown",
   "metadata": {},
   "source": [
    "* settings"
   ]
  },
  {
   "cell_type": "code",
   "execution_count": null,
   "metadata": {},
   "outputs": [],
   "source": [
    "from google.colab import drive\n",
    "drive.mount('/content/drive')"
   ]
  },
  {
   "cell_type": "code",
   "execution_count": null,
   "metadata": {},
   "outputs": [],
   "source": [
    "import os\n",
    "os.chdir(\"/content/drive/MyDrive/0. codepool_python/python_dl/mybook/pytorch\")"
   ]
  },
  {
   "cell_type": "code",
   "execution_count": 30,
   "metadata": {},
   "outputs": [],
   "source": [
    "import numpy as np\n",
    "import torch\n",
    "import matplotlib.pyplot as plt"
   ]
  },
  {
   "cell_type": "markdown",
   "metadata": {},
   "source": [
    "## Data preparation"
   ]
  },
  {
   "cell_type": "markdown",
   "metadata": {},
   "source": [
    "### Dataset - 自訂 class"
   ]
  },
  {
   "cell_type": "code",
   "execution_count": 12,
   "metadata": {},
   "outputs": [],
   "source": [
    "from torch.utils.data import Dataset\n",
    "\n",
    "class MyDataset(Dataset):\n",
    "    def __init__(self, feature_matrix, label_vector):             # 把資料存進 class object\n",
    "        self.feature_matrix = feature_matrix\n",
    "        self.label_vector = label_vector\n",
    "    def __len__(self):\n",
    "        assert len(self.feature_matrix) == len(self.label_vector) # 確定資料有互相對應\n",
    "        return len(self.feature_matrix)\n",
    "    def __getitem__(self, idx):                     # 定義我們需要取得某筆資料的方式\n",
    "        return self.feature_matrix[idx], self.label_vector[idx]"
   ]
  },
  {
   "cell_type": "code",
   "execution_count": 14,
   "metadata": {},
   "outputs": [
    {
     "data": {
      "text/plain": [
       "((100, 100, 1), (10,))"
      ]
     },
     "execution_count": 14,
     "metadata": {},
     "output_type": "execute_result"
    }
   ],
   "source": [
    "# 測試看看\n",
    "\n",
    "X = np.random.rand(1000, 100, 100, 1)   # 虛構 1000 張 100 x 100 單色圖片\n",
    "Y = np.random.randint(0, 7, [1000, 10]) # 虛構 1000 個 labels\n",
    "\n",
    "my_dataset = MyDataset(X.astype(np.float32), Y.astype(np.float32))\n",
    "taken_x, taken_y = my_dataset[0] # 取得第一筆資料\n",
    "taken_x.shape, taken_y.shape"
   ]
  },
  {
   "cell_type": "markdown",
   "metadata": {},
   "source": [
    "### Dataset - 直接用 `TensorDataset`"
   ]
  },
  {
   "cell_type": "code",
   "execution_count": 8,
   "metadata": {},
   "outputs": [],
   "source": [
    "from torch.utils.data import TensorDataset\n",
    "\n",
    "# 手上有的資料，先轉成 Tensor\n",
    "X = np.random.rand(1000, 100, 100, 1)   # 虛構 1000 張 100 x 100 單色圖片\n",
    "Y = np.random.randint(0, 7, [1000, 10]) # 虛構 1000 個 labels\n",
    "tsrX, tsrY = torch.tensor(X), torch.tensor(Y)\n",
    "\n",
    "# 餵到 TensorDataset 裡面\n",
    "tsrdataset = TensorDataset(tsrX, tsrY)"
   ]
  },
  {
   "cell_type": "code",
   "execution_count": 11,
   "metadata": {},
   "outputs": [
    {
     "data": {
      "text/plain": [
       "(torch.Size([100, 100, 1]), torch.Size([10]))"
      ]
     },
     "execution_count": 11,
     "metadata": {},
     "output_type": "execute_result"
    }
   ],
   "source": [
    "# 測試看看\n",
    "taken_x, taken_y = tsrdataset[0] # 取得第一筆資料\n",
    "taken_x.shape, taken_y.shape"
   ]
  },
  {
   "cell_type": "markdown",
   "metadata": {},
   "source": [
    "### DataLoader"
   ]
  },
  {
   "cell_type": "code",
   "execution_count": 17,
   "metadata": {},
   "outputs": [
    {
     "name": "stdout",
     "output_type": "stream",
     "text": [
      "(torch.Size([4, 100, 100, 1]), torch.Size([4, 10]))\n"
     ]
    }
   ],
   "source": [
    "from torch.utils.data import DataLoader\n",
    "\n",
    "# 將 dataset 包裝成 dataloader\n",
    "my_dataloader = DataLoader(\n",
    "    my_dataset, \n",
    "    batch_size=4,\n",
    "    shuffle=True #, \n",
    "    # num_workers=4\n",
    ")\n",
    "\n",
    "# 跑一個 loop 確認拿到的 batch 是否正確\n",
    "for batch_x, batch_y in my_dataloader:\n",
    "    print((batch_x.shape, batch_y.shape))\n",
    "    break"
   ]
  },
  {
   "cell_type": "markdown",
   "metadata": {},
   "source": [
    "## Transforms"
   ]
  },
  {
   "cell_type": "markdown",
   "metadata": {},
   "source": [
    "## NN structures"
   ]
  },
  {
   "cell_type": "markdown",
   "metadata": {},
   "source": [
    "### import"
   ]
  },
  {
   "cell_type": "markdown",
   "metadata": {},
   "source": [
    "* 萬用起手式"
   ]
  },
  {
   "cell_type": "code",
   "execution_count": 18,
   "metadata": {},
   "outputs": [],
   "source": [
    "import torch.nn as nn\n",
    "import torch.nn.functional as F"
   ]
  },
  {
   "cell_type": "markdown",
   "metadata": {},
   "source": [
    "### activation functions"
   ]
  },
  {
   "cell_type": "markdown",
   "metadata": {},
   "source": [
    "#### 內建"
   ]
  },
  {
   "cell_type": "markdown",
   "metadata": {},
   "source": [
    "| activation function | `torch.nn as nn`                    | `torch.nn.functional as F` |\n",
    "|:-------------------:| ----------------------------------- | -------------------------- |\n",
    "| Sigmoid             | `nn.Sigmoid()`                      | `F.sigmoid`                |\n",
    "| Softmax             | `nn.Softmax(dim=None)`              | `F.softmax`                |\n",
    "| ReLU                | `nn.ReLU()`                         | `F.relu`                   |\n",
    "| LeakyReLU           | `nn.LeakyReLU(negative_slope=0.01)` | `F.leaky_relu`             |\n",
    "| Tanh                | `nn.Tanh()`                         | `F.tanh`                   |\n",
    "| GELU                | `nn.GELU()`                         | `F.gelu`                   |\n",
    "| ReLU6               | `nn.ReLU6()`                        | `F.relu6`                  |"
   ]
  },
  {
   "cell_type": "markdown",
   "metadata": {},
   "source": [
    "##### ReLU"
   ]
  },
  {
   "cell_type": "markdown",
   "metadata": {},
   "source": [
    "* 主要重點：  \n",
    "  * $ReLU(x) = max(x, 0)$  \n",
    "  * $\\frac{x}{dx} ReLU(x) = 1$ if x > 0; $\\frac{x}{dx} ReLU(x) = 0$ if x <= 0\n",
    "  * relu 的導數，在 x = 0 時，數學上是不存在，但在工程上 \"定義\" 導數為 0，這樣就能繼續做了  \n",
    "  * relu 的優點是求導的結果簡單，不是 0 就是 1，在 backward 更新參數時， `weight_new = weight_old - learning_rate * grad`，那 grad 不是 0 就是 1，減輕了以往NN的梯度消失問題。  \n",
    "* 簡單範例："
   ]
  },
  {
   "cell_type": "code",
   "execution_count": 38,
   "metadata": {},
   "outputs": [
    {
     "name": "stdout",
     "output_type": "stream",
     "text": [
      "tensor([0.0000, 0.0000, 0.0000, 0.0000, 0.0000, 0.0000, 0.0000, 0.0000, 0.0000,\n",
      "        0.0000, 0.0000, 0.0000, 0.0000, 0.0000, 0.0000, 0.0000, 0.0000, 0.0000,\n",
      "        0.0000, 0.0000, 0.0000, 0.0000, 0.0000, 0.0000, 0.0000, 0.0000, 0.0000,\n",
      "        0.0000, 0.0000, 0.0000, 0.0000, 0.0000, 0.0000, 0.0000, 0.0000, 0.0000,\n",
      "        0.0000, 0.0000, 0.0000, 0.0000, 0.0000, 0.0000, 0.0000, 0.0000, 0.0000,\n",
      "        0.0000, 0.0000, 0.0000, 0.0000, 0.0000, 0.0000, 0.0000, 0.0000, 0.0000,\n",
      "        0.0000, 0.0000, 0.0000, 0.0000, 0.0000, 0.0000, 0.0000, 0.0000, 0.0000,\n",
      "        0.0000, 0.0000, 0.0000, 0.0000, 0.0000, 0.0000, 0.0000, 0.0000, 0.0000,\n",
      "        0.0000, 0.0000, 0.0000, 0.0000, 0.0000, 0.0000, 0.0000, 0.0000, 0.0000,\n",
      "        0.1000, 0.2000, 0.3000, 0.4000, 0.5000, 0.6000, 0.7000, 0.8000, 0.9000,\n",
      "        1.0000, 1.1000, 1.2000, 1.3000, 1.4000, 1.5000, 1.6000, 1.7000, 1.8000,\n",
      "        1.9000, 2.0000, 2.1000, 2.2000, 2.3000, 2.4000, 2.5000, 2.6000, 2.7000,\n",
      "        2.8000, 2.9000, 3.0000, 3.1000, 3.2000, 3.3000, 3.4000, 3.5000, 3.6000,\n",
      "        3.7000, 3.8000, 3.9000, 4.0000, 4.1000, 4.2000, 4.3000, 4.4000, 4.5000,\n",
      "        4.6000, 4.7000, 4.8000, 4.9000, 5.0000, 5.1000, 5.2000, 5.3000, 5.4000,\n",
      "        5.5000, 5.6000, 5.7000, 5.8000, 5.9000, 6.0000, 6.1000, 6.2000, 6.3000,\n",
      "        6.4000, 6.5000, 6.6000, 6.7000, 6.8000, 6.9000, 7.0000, 7.1000, 7.2000,\n",
      "        7.3000, 7.4000, 7.5000, 7.6000, 7.7000, 7.8000, 7.9000],\n",
      "       grad_fn=<ReluBackward0>)\n"
     ]
    }
   ],
   "source": [
    "activation = nn.ReLU()\n",
    "\n",
    "x = torch.arange(-8.0, 8.0, 0.1, requires_grad=True)\n",
    "y = activation(x)\n",
    "print(y)"
   ]
  },
  {
   "cell_type": "code",
   "execution_count": 39,
   "metadata": {},
   "outputs": [
    {
     "data": {
      "image/png": "[encoded data removed]",
      "text/plain": [
       "<Figure size 432x288 with 1 Axes>"
      ]
     },
     "metadata": {
      "needs_background": "light"
     },
     "output_type": "display_data"
    }
   ],
   "source": [
    "plt.plot(x.detach(), y.detach());"
   ]
  },
  {
   "cell_type": "code",
   "execution_count": 40,
   "metadata": {},
   "outputs": [
    {
     "data": {
      "image/png": "[encoded data removed]",
      "text/plain": [
       "<Figure size 432x288 with 1 Axes>"
      ]
     },
     "metadata": {
      "needs_background": "light"
     },
     "output_type": "display_data"
    }
   ],
   "source": [
    "y.backward(torch.ones_like(x), retain_graph=True)\n",
    "plt.plot(x.detach(), x.grad); # gradient"
   ]
  },
  {
   "cell_type": "markdown",
   "metadata": {},
   "source": [
    "##### Sigmoid"
   ]
  },
  {
   "cell_type": "markdown",
   "metadata": {},
   "source": [
    "* 主要重點：  \n",
    "  * $sigmoid(x) = \\frac{1}{1 + exp(-x)}$  \n",
    "  * $\\frac{x}{dx} sigmoid(x) = sigmoid(x)(1-sigmoid(x))$  \n",
    "  * 從導數的性質，可以發現，gradient 在 x 靠近 0 時，值較大 (參數更新較快）， x 遠離 0 時， gradient 趨近於 0 (參數停止更新)"
   ]
  },
  {
   "cell_type": "code",
   "execution_count": 41,
   "metadata": {},
   "outputs": [
    {
     "data": {
      "image/png": "[encoded data removed]",
      "text/plain": [
       "<Figure size 432x288 with 1 Axes>"
      ]
     },
     "metadata": {
      "needs_background": "light"
     },
     "output_type": "display_data"
    }
   ],
   "source": [
    "activation = nn.Sigmoid()\n",
    "\n",
    "x = torch.arange(-8.0, 8.0, 0.1, requires_grad=True)\n",
    "y = activation(x)\n",
    "\n",
    "plt.plot(x.detach(), y.detach());"
   ]
  },
  {
   "cell_type": "code",
   "execution_count": 45,
   "metadata": {},
   "outputs": [
    {
     "data": {
      "image/png": "[encoded data removed]",
      "text/plain": [
       "<Figure size 432x288 with 1 Axes>"
      ]
     },
     "metadata": {
      "needs_background": "light"
     },
     "output_type": "display_data"
    }
   ],
   "source": [
    "# gradients\n",
    "y.backward(torch.ones_like(x),retain_graph=True)\n",
    "plt.plot(x.detach(), x.grad);"
   ]
  },
  {
   "cell_type": "markdown",
   "metadata": {},
   "source": [
    "#### 自訂"
   ]
  },
  {
   "cell_type": "markdown",
   "metadata": {},
   "source": [
    "* 直接定義一個 function"
   ]
  },
  {
   "cell_type": "code",
   "execution_count": 46,
   "metadata": {},
   "outputs": [],
   "source": [
    "def relu(x):\n",
    "    a = torch.zeros_like(x) # shape 會與 x 一樣\n",
    "    return torch.max(x, a)"
   ]
  },
  {
   "cell_type": "markdown",
   "metadata": {},
   "source": [
    "### layers"
   ]
  },
  {
   "cell_type": "markdown",
   "metadata": {},
   "source": [
    "#### NN"
   ]
  },
  {
   "cell_type": "markdown",
   "metadata": {},
   "source": [
    "##### `nn.Linear(in_dim, out_dim)`"
   ]
  },
  {
   "cell_type": "markdown",
   "metadata": {},
   "source": [
    "#### CNN"
   ]
  },
  {
   "cell_type": "markdown",
   "metadata": {},
   "source": [
    "##### convolution"
   ]
  },
  {
   "cell_type": "markdown",
   "metadata": {},
   "source": [
    "* 2d convolution: `nn.Conv2d(in_channels, out_channels, kernel_size, stride=1, padding=0)`  \n",
    "* 1d convolution"
   ]
  },
  {
   "cell_type": "markdown",
   "metadata": {},
   "source": [
    "##### pooling"
   ]
  },
  {
   "cell_type": "markdown",
   "metadata": {},
   "source": [
    "* maximum pooling:  `nn.MaxPool2d(kernel_size, stride=None, padding=0, dilation=1)`   \n",
    "* average pooling:   \n",
    "* global maximum pooling:   \n",
    "* global average pooling:  "
   ]
  },
  {
   "cell_type": "markdown",
   "metadata": {},
   "source": [
    "#### RNN"
   ]
  },
  {
   "cell_type": "markdown",
   "metadata": {},
   "source": [
    "#### 自訂 layers"
   ]
  },
  {
   "cell_type": "markdown",
   "metadata": {},
   "source": [
    "#### 將 layer 組成 block"
   ]
  },
  {
   "cell_type": "markdown",
   "metadata": {},
   "source": [
    "##### `nn.Sequential(layer1, layer2, ...)`"
   ]
  },
  {
   "cell_type": "markdown",
   "metadata": {},
   "source": [
    "##### 自訂 module"
   ]
  },
  {
   "cell_type": "markdown",
   "metadata": {},
   "source": [
    "#### 經典 block"
   ]
  },
  {
   "cell_type": "markdown",
   "metadata": {},
   "source": [
    "##### vgg block"
   ]
  },
  {
   "cell_type": "markdown",
   "metadata": {},
   "source": [
    "##### resnet block"
   ]
  },
  {
   "cell_type": "markdown",
   "metadata": {},
   "source": [
    "## Loss"
   ]
  },
  {
   "cell_type": "markdown",
   "metadata": {},
   "source": [
    "### 二元分類問題"
   ]
  },
  {
   "cell_type": "markdown",
   "metadata": {},
   "source": [
    "### 多元分類問題"
   ]
  },
  {
   "cell_type": "markdown",
   "metadata": {},
   "source": [
    "### 回歸問題"
   ]
  },
  {
   "cell_type": "markdown",
   "metadata": {},
   "source": [
    "### 自訂 loss"
   ]
  },
  {
   "cell_type": "markdown",
   "metadata": {},
   "source": [
    "### 對比學習"
   ]
  },
  {
   "cell_type": "markdown",
   "metadata": {},
   "source": [
    "### autoencoder"
   ]
  },
  {
   "cell_type": "markdown",
   "metadata": {},
   "source": [
    "## Optimizer"
   ]
  },
  {
   "cell_type": "markdown",
   "metadata": {},
   "source": [
    "### 建立 optimizer"
   ]
  },
  {
   "cell_type": "code",
   "execution_count": null,
   "metadata": {},
   "outputs": [],
   "source": []
  },
  {
   "cell_type": "markdown",
   "metadata": {},
   "source": [
    "## Training loops"
   ]
  },
  {
   "cell_type": "markdown",
   "metadata": {},
   "source": [
    "### 完整版 (了解概念用)"
   ]
  },
  {
   "cell_type": "markdown",
   "metadata": {},
   "source": [
    "* Data 準備"
   ]
  },
  {
   "cell_type": "code",
   "execution_count": 25,
   "metadata": {},
   "outputs": [],
   "source": [
    "from torch.utils.data import TensorDataset\n",
    "\n",
    "# Training\n",
    "X = np.random.rand(1000, 100, 100, 1)   # 虛構 1000 張 100 x 100 單色圖片\n",
    "Y = np.random.randint(0, 7, [1000, 10]) # 虛構 1000 個 labels\n",
    "\n",
    "X, Y = X.astype(np.float32), Y.astype(np.float32)\n",
    "tsrX, tsrY = torch.tensor(X), torch.tensor(Y)\n",
    "tsrdataset = TensorDataset(tsrX, tsrY)\n",
    "\n",
    "tsrdataloader = DataLoader(\n",
    "    tsrdataset, batch_size=4,\n",
    "    shuffle=True, num_workers=4)\n",
    "\n",
    "# Validation\n",
    "vX = np.random.rand(100, 100, 100, 1)   # 虛構 100 張 100 x 100 單色圖片\n",
    "vY = np.random.randint(0, 7, [100, 10]) # 虛構 100 個 labels\n",
    "\n",
    "vX, vY = vX.astype(np.float32), vY.astype(np.float32)\n",
    "vtsrX, vtsrY = torch.tensor(vX), torch.tensor(vY)\n",
    "vtsrdataset = TensorDataset(tsrX, tsrY)\n",
    "\n",
    "vtsrdataloader = DataLoader(\n",
    "    vtsrdataset, batch_size=4,\n",
    "    shuffle=False, num_workers=4) # Validation 不需要 shuffle"
   ]
  },
  {
   "cell_type": "markdown",
   "metadata": {},
   "source": [
    "* model structure"
   ]
  },
  {
   "cell_type": "code",
   "execution_count": 58,
   "metadata": {},
   "outputs": [],
   "source": [
    "class SimpleNN(nn.Module):\n",
    "    def __init__(self):\n",
    "        super(SimpleNN, self).__init__()\n",
    "        self.fc = nn.Sequential(\n",
    "            nn.Flatten(),\n",
    "            nn.Linear(10000, 500),\n",
    "            nn.ReLU(),\n",
    "            nn.Linear(500, 10)\n",
    "        )\n",
    "    def forward(self, x):\n",
    "        # 傳入 model 的函數會經過 forward 做 inference\n",
    "        # x = x.view(x.size(0), -1) # flatten 的意思，原本的 x.size = (batch_size, 100, 100, 1) -> 改成 (batch_size, 100*100*1)\n",
    "        return self.fc(x)"
   ]
  },
  {
   "cell_type": "markdown",
   "metadata": {},
   "source": [
    "* 確定 device"
   ]
  },
  {
   "cell_type": "code",
   "execution_count": 56,
   "metadata": {},
   "outputs": [
    {
     "data": {
      "text/plain": [
       "'cpu'"
      ]
     },
     "execution_count": 56,
     "metadata": {},
     "output_type": "execute_result"
    }
   ],
   "source": [
    "device = \"cuda\" if torch.cuda.is_available() else \"cpu\"\n",
    "device"
   ]
  },
  {
   "cell_type": "code",
   "execution_count": 57,
   "metadata": {},
   "outputs": [],
   "source": [
    "# model structure\n",
    "simpleNN = SimpleNN()\n",
    "simpleNN.to(device)                           # 把 model 移到 GPU 計算\n",
    "\n",
    "# optimizer\n",
    "optim = torch.optim.Adam(\n",
    "    simpleNN.parameters(), lr=1e-4)\n",
    "\n",
    "# loss\n",
    "criterion = nn.MSELoss()"
   ]
  },
  {
   "cell_type": "markdown",
   "metadata": {},
   "source": [
    "* tensorboard 設定"
   ]
  },
  {
   "cell_type": "code",
   "execution_count": 59,
   "metadata": {},
   "outputs": [],
   "source": [
    "# tensorboard setting\n",
    "%load_ext tensorboard\n",
    "\n",
    "import os\n",
    "logs_base_dir = \"runs\" # training 的紀錄，放在這個路徑下\n",
    "os.makedirs(logs_base_dir, exist_ok=True)\n",
    "\n",
    "from torch.utils.tensorboard import SummaryWriter\n",
    "tb = SummaryWriter()"
   ]
  },
  {
   "cell_type": "markdown",
   "metadata": {},
   "source": [
    "* 開始 Training， 本質就是跑一個迴圈，在每一次（叫一個 **epoch**）要做的事有——\n",
    "  1. 載入資料\n",
    "  2. 經過 model 跑一次\n",
    "  3. 比對資料的正確性，算誤差（loss）\n",
    "  4. 把梯度清掉，然後根據這次誤差算新的梯度\n",
    "  5. 根據 optimizer 更新參數\n",
    "  6. 為了方便觀察，將本次 epoch 訓練的變化顯示出來，包括\n",
    "     - 進度條（觀察訓練快慢）\n",
    "     - batch loss （這個有時候會輸出太多東西）\n",
    "     - epoch loss （記得累計並除掉資料數量）\n",
    "     - 記錄到其他變數中（方便作圖）\n",
    "     - 記錄到 Tensorboard 中（SummaryWriter）\n",
    "\n",
    "* 為了避免 overfit，我們每個 epoch 還會進行一次 validation，事情少一些，變成——\n",
    "  1. 載入資料\n",
    "  2. 經過 model 跑一次\n",
    "  3. 比對資料的正確性，算誤差（loss）\n",
    "  4. 為了方便觀察，將本次 epoch validate 的結果顯示出來，包括\n",
    "     - 進度條（觀察訓練快慢）\n",
    "     - batch loss （這個有時候會輸出太多東西）\n",
    "     - epoch loss （記得累計並除掉資料數量）\n",
    "     - 記錄到其他變數中（方便作圖）\n",
    "     - 記錄到 Tensorboard 中（SummaryWriter）"
   ]
  },
  {
   "cell_type": "code",
   "execution_count": null,
   "metadata": {},
   "outputs": [],
   "source": [
    "%tensorboard --logdir {logs_base_dir} # 開啟 tensorboard"
   ]
  },
  {
   "cell_type": "code",
   "execution_count": 61,
   "metadata": {},
   "outputs": [
    {
     "name": "stdout",
     "output_type": "stream",
     "text": [
      "Training   Epoch  1: Loss = 1.0920\n",
      "Validation Epoch  1: Loss = 0.9851\n",
      "Training   Epoch  2: Loss = 0.9812\n",
      "Validation Epoch  2: Loss = 0.9269\n",
      "Training   Epoch  3: Loss = 0.9155\n",
      "Validation Epoch  3: Loss = 0.8980\n",
      "Training   Epoch  4: Loss = 0.8593\n",
      "Validation Epoch  4: Loss = 0.7541\n",
      "Training   Epoch  5: Loss = 0.7777\n",
      "Validation Epoch  5: Loss = 0.6951\n",
      "Training   Epoch  6: Loss = 0.7110\n",
      "Validation Epoch  6: Loss = 0.6363\n",
      "Training   Epoch  7: Loss = 0.6274\n",
      "Validation Epoch  7: Loss = 0.5730\n",
      "Training   Epoch  8: Loss = 0.5564\n",
      "Validation Epoch  8: Loss = 0.4740\n",
      "Training   Epoch  9: Loss = 0.4752\n",
      "Validation Epoch  9: Loss = 0.3994\n",
      "Training   Epoch 10: Loss = 0.3927\n",
      "Validation Epoch 10: Loss = 0.3577\n"
     ]
    }
   ],
   "source": [
    "# training loop\n",
    "EPOCHS = 10\n",
    "for epoch in range(EPOCHS):\n",
    "    # training step (training data)\n",
    "    simpleNN.train() # 切換 simpleNN 為 training 模式，dropout 之類的操作會開啟\n",
    "    epoch_loss = 0.0\n",
    "    for x, y in tsrdataloader:\n",
    "        y_hat = simpleNN(x.to(device))        # 把 x tensor 移到 GPU 計算\n",
    "        loss = criterion(y.to(device), y_hat) # 把 y tensor 移到 GPU 計算，\n",
    "                                              ##  y_hat 因為是從 GPU model input GPU Tensor 出來的\n",
    "                                              ##  所以不用再次 .to(device) 當然要也是沒差啦 =_=|||\n",
    "        optim.zero_grad() # 把 trainable variable/weights/parameters 的 gradient 給 歸 0\n",
    "        loss.backward() # 利用 loss，計算出每個 trainable variable/weights/parameters 所對應的 gradient\n",
    "        optim.step() # 更新 trainable variable/weights/parameters 的值： parameters_new = parameters_old - learning_rate * gradient\n",
    "        epoch_loss += loss.item()\n",
    "    average_epoch_loss = epoch_loss / len(tsrdataset)\n",
    "    print(f\"Training   Epoch {epoch + 1:2d}: Loss = {average_epoch_loss:.4f}\")\n",
    "    tb.add_scalar(\"Loss/train\", average_epoch_loss, epoch + 1) # 寫進 tensorboard\n",
    "    \n",
    "\n",
    "    # evaluation step (validation data)\n",
    "    simpleNN.eval() # 將 simpleNN 切換到 evaluation mode， dropout 之類的操作會關閉\n",
    "    vepoch_loss = 0.0\n",
    "    for x, y in vtsrdataloader:\n",
    "        y_hat = simpleNN(x.to(device))\n",
    "        loss = criterion(y.to(device), y_hat)\n",
    "        vepoch_loss += loss.item()\n",
    "    vaverage_epoch_loss = vepoch_loss / len(vtsrdataset)\n",
    "    print(f\"Validation Epoch {epoch + 1:2d}: Loss = {vaverage_epoch_loss:.4f}\")\n",
    "    tb.add_scalar(\"Loss/val\", vaverage_epoch_loss, epoch + 1) # 寫進 tensorboard\n",
    "tb.close() # 加這個"
   ]
  },
  {
   "cell_type": "markdown",
   "metadata": {},
   "source": [
    "### 模組版 (實際做實驗, deploy 時用)"
   ]
  },
  {
   "cell_type": "code",
   "execution_count": 51,
   "metadata": {},
   "outputs": [],
   "source": [
    "def accuracy(y_hat, y):  #@save\n",
    "    \"\"\"計算預測正確的數量\"\"\"\n",
    "    if len(y_hat.shape) > 1 and y_hat.shape[1] > 1:\n",
    "        y_hat = y_hat.argmax(axis=1)\n",
    "    cmp = y_hat.type(y.dtype) == y\n",
    "    return float(cmp.type(y.dtype).sum())"
   ]
  },
  {
   "cell_type": "code",
   "execution_count": 52,
   "metadata": {},
   "outputs": [],
   "source": [
    "# 計算 metric 時用的\n",
    "class Accumulator:  #@save\n",
    "    \"\"\"在n个變量上累加\"\"\"\n",
    "    def __init__(self, n):\n",
    "        self.data = [0.0] * n # [0.0, 0.0, ..., 0.0], 共 n 個 0.0\n",
    "\n",
    "    def add(self, *args):\n",
    "        self.data = [a + float(b) for a, b in zip(self.data, args)]\n",
    "\n",
    "    def reset(self):\n",
    "        self.data = [0.0] * len(self.data)\n",
    "\n",
    "    def __getitem__(self, idx):\n",
    "        return self.data[idx]"
   ]
  },
  {
   "cell_type": "code",
   "execution_count": 53,
   "metadata": {},
   "outputs": [],
   "source": [
    "def evaluate_accuracy(model, data_iter):  #@save\n",
    "    \"\"\"計算在指定數據集上，模型的準確度\"\"\"\n",
    "    if isinstance(model, torch.nn.Module):\n",
    "        model.eval()  # 将模型设置为评估模式\n",
    "    metric = Accumulator(2)  # 正确预测数、预测总数\n",
    "    with torch.no_grad():\n",
    "        for X, y in data_iter:\n",
    "            metric.add(accuracy(net(X), y), y.numel())\n",
    "    return metric[0] / metric[1]"
   ]
  },
  {
   "cell_type": "code",
   "execution_count": 54,
   "metadata": {},
   "outputs": [],
   "source": [
    "# 單一 epoch 裡要做的事\n",
    "def train_epoch(model, train_iter, loss, optimizer):  #@save\n",
    "    \n",
    "    model.train()\n",
    "    # 訓練損失總和、訓練準確度總和、樣本數\n",
    "    metric = Accumulator(3)\n",
    "    for X, y in train_iter:\n",
    "        y_hat = model(X)\n",
    "        l = loss(y_hat, y)\n",
    "        optimizer.zero_grad()\n",
    "        l.mean().backward()\n",
    "        optimizer.step()\n",
    "        \n",
    "        metric.add(float(l.sum()), accuracy(y_hat, y), y.numel())\n",
    "    # 返回訓練損失 & 訓練準確度\n",
    "    return metric[0] / metric[2], metric[1] / metric[2]"
   ]
  },
  {
   "cell_type": "code",
   "execution_count": null,
   "metadata": {},
   "outputs": [],
   "source": [
    "class Animator:  #@save\n",
    "    \"\"\"在動畫中繪製數據\"\"\"\n",
    "    def __init__(self, xlabel=None, ylabel=None, legend=None, xlim=None,\n",
    "                 ylim=None, xscale='linear', yscale='linear',\n",
    "                 fmts=('-', 'm--', 'g-.', 'r:'), nrows=1, ncols=1,\n",
    "                 figsize=(3.5, 2.5)):\n",
    "        # 增量地绘制多条线\n",
    "        if legend is None:\n",
    "            legend = []\n",
    "        d2l.use_svg_display()\n",
    "        self.fig, self.axes = d2l.plt.subplots(nrows, ncols, figsize=figsize)\n",
    "        if nrows * ncols == 1:\n",
    "            self.axes = [self.axes, ]\n",
    "        # 使用lambda函数捕获参数\n",
    "        self.config_axes = lambda: d2l.set_axes(\n",
    "            self.axes[0], xlabel, ylabel, xlim, ylim, xscale, yscale, legend)\n",
    "        self.X, self.Y, self.fmts = None, None, fmts\n",
    "\n",
    "    def add(self, x, y):\n",
    "        # 向图表中添加多个数据点\n",
    "        if not hasattr(y, \"__len__\"):\n",
    "            y = [y]\n",
    "        n = len(y)\n",
    "        if not hasattr(x, \"__len__\"):\n",
    "            x = [x] * n\n",
    "        if not self.X:\n",
    "            self.X = [[] for _ in range(n)]\n",
    "        if not self.Y:\n",
    "            self.Y = [[] for _ in range(n)]\n",
    "        for i, (a, b) in enumerate(zip(x, y)):\n",
    "            if a is not None and b is not None:\n",
    "                self.X[i].append(a)\n",
    "                self.Y[i].append(b)\n",
    "        self.axes[0].cla()\n",
    "        for x, y, fmt in zip(self.X, self.Y, self.fmts):\n",
    "            self.axes[0].plot(x, y, fmt)\n",
    "        self.config_axes()\n",
    "        display.display(self.fig)\n",
    "        display.clear_output(wait=True)"
   ]
  },
  {
   "cell_type": "code",
   "execution_count": null,
   "metadata": {},
   "outputs": [],
   "source": [
    "def train(model, train_iter, valid_iter, loss, num_epochs, optimizer):  #@save\n",
    "    #animator = Animator(xlabel='epoch', xlim=[1, num_epochs], ylim=[0.3, 0.9],\n",
    "    #                    legend=['train loss', 'train acc', 'test acc'])\n",
    "    for epoch in range(num_epochs):\n",
    "        train_metrics = train_epoch(model, train_iter, loss, updater)\n",
    "        valid_acc = evaluate_accuracy(model, valid_iter)\n",
    "        animator.add(epoch + 1, train_metrics + (valid_acc,))\n",
    "    train_loss, train_acc = train_metrics\n",
    "    assert train_loss < 0.5, train_loss\n",
    "    assert train_acc <= 1 and train_acc > 0.7, train_acc\n",
    "    assert valid_acc <= 1 and valid_acc > 0.7, valid_acc"
   ]
  },
  {
   "cell_type": "markdown",
   "metadata": {},
   "source": [
    "### CNN"
   ]
  },
  {
   "cell_type": "markdown",
   "metadata": {},
   "source": [
    "## Inspection"
   ]
  },
  {
   "cell_type": "markdown",
   "metadata": {},
   "source": [
    "## Prediction"
   ]
  },
  {
   "cell_type": "markdown",
   "metadata": {},
   "source": [
    "* data 準備 (testing data)"
   ]
  },
  {
   "cell_type": "code",
   "execution_count": 27,
   "metadata": {},
   "outputs": [],
   "source": [
    "# Testing\n",
    "tX = np.random.rand(100, 100, 100, 1)   # 虛構 100 張 100 x 100 單色圖片\n",
    "tY = np.random.randint(0, 7, [100, 10]) # 虛構 100 個 labels\n",
    "\n",
    "tX, tY = tX.astype(np.float32), tY.astype(np.float32)\n",
    "ttsrX, ttsrY = torch.tensor(tX), torch.tensor(tY)\n",
    "ttsrdataset = TensorDataset(tsrX, tsrY)\n",
    "\n",
    "ttsrdataloader = DataLoader(\n",
    "    ttsrdataset, batch_size=4,\n",
    "    shuffle=False, num_workers=4) # Testing 不需要 shuffle"
   ]
  },
  {
   "cell_type": "code",
   "execution_count": null,
   "metadata": {},
   "outputs": [],
   "source": [
    "# prediction\n",
    "simpleNN.eval()\n",
    "y_hat = [simpleNN(x) for x, y in ttsrdataloader]"
   ]
  },
  {
   "cell_type": "code",
   "execution_count": null,
   "metadata": {},
   "outputs": [],
   "source": [
    "def predict(model, test_iter, n=6):  #@save\n",
    "    for X, y in test_iter:\n",
    "        break\n",
    "    trues = d2l.get_fashion_mnist_labels(y)\n",
    "    preds = d2l.get_fashion_mnist_labels(net(X).argmax(axis=1))\n",
    "    titles = [true +'\\n' + pred for true, pred in zip(trues, preds)]\n",
    "    d2l.show_images(\n",
    "        X[0:n].reshape((n, 28, 28)), 1, n, titles=titles[0:n])\n",
    "\n",
    "predict_ch3(net, test_iter)"
   ]
  },
  {
   "cell_type": "markdown",
   "metadata": {},
   "source": [
    "## Evaluation"
   ]
  },
  {
   "cell_type": "markdown",
   "metadata": {},
   "source": [
    "## Save/ load model"
   ]
  },
  {
   "cell_type": "markdown",
   "metadata": {},
   "source": [
    "### checkpoints"
   ]
  },
  {
   "cell_type": "code",
   "execution_count": null,
   "metadata": {},
   "outputs": [],
   "source": [
    "# Save model\n",
    "simpleNN.cpu() # 先移回 CPU\n",
    "torch.save(simpleNN.state_dict(), \"randmodel.model\")\n",
    "\n",
    "# Load model\n",
    "model2 = SimpleNN()\n",
    "model2.load_state_dict(torch.load(\"randmodel.model\"))\n",
    "\n",
    "# 確認是同一個 model\n",
    "torch.equal(model2(x), simpleNN(x))"
   ]
  },
  {
   "cell_type": "markdown",
   "metadata": {},
   "source": [
    "## Visualization"
   ]
  },
  {
   "cell_type": "markdown",
   "metadata": {},
   "source": [
    "## Explaianation"
   ]
  },
  {
   "cell_type": "code",
   "execution_count": null,
   "metadata": {},
   "outputs": [],
   "source": []
  }
 ],
 "metadata": {
  "kernelspec": {
   "display_name": "Python 3",
   "language": "python",
   "name": "python3"
  },
  "language_info": {
   "codemirror_mode": {
    "name": "ipython",
    "version": 3
   },
   "file_extension": ".py",
   "mimetype": "text/x-python",
   "name": "python",
   "nbconvert_exporter": "python",
   "pygments_lexer": "ipython3",
   "version": "3.8.0"
  }
 },
 "nbformat": 4,
 "nbformat_minor": 4
}
