{
 "cells": [
  {
   "cell_type": "markdown",
   "metadata": {
    "origin_pos": 0
   },
   "source": [
    "# Linear regression (d2l)"
   ]
  },
  {
   "cell_type": "markdown",
   "metadata": {},
   "source": [
    "* 修改自 d2l 的 3.1 ~ 3.3 (線性回歸從0開始實現、線性回歸的簡潔實現）([link](https://zh.d2l.ai/chapter_linear-networks/linear-regression-scratch.html))\n",
    "* 這一章，我們要:\n",
    "  * 先 靠自己刻出 linear regression (from scratch)\n",
    "  * 再用 pytorch 內建 NN 來做做看. \n",
    "  * 比較 自己寫的 和 內建 的差異"
   ]
  },
  {
   "cell_type": "code",
   "execution_count": 20,
   "metadata": {
    "origin_pos": 2,
    "tab": [
     "pytorch"
    ]
   },
   "outputs": [],
   "source": [
    "%matplotlib inline\n",
    "import random\n",
    "import torch\n",
    "import numpy as np\n",
    "import matplotlib.pyplot as plt\n",
    "# from d2l import torch as d2l"
   ]
  },
  {
   "cell_type": "markdown",
   "metadata": {
    "origin_pos": 4
   },
   "source": [
    "## 生 data"
   ]
  },
  {
   "cell_type": "markdown",
   "metadata": {},
   "source": [
    "* linear model 定義為： $\\mathbf{y}= \\mathbf{X} \\mathbf{w} + b + \\mathbf\\epsilon.$\n",
    "* 其中， y 是 n 維向量，w 是 p 維向量 (feature維度)，X 是 nxp 矩陣，b 是 scalar\n",
    "* 先寫一個 function 來產生模擬資料："
   ]
  },
  {
   "cell_type": "code",
   "execution_count": 21,
   "metadata": {},
   "outputs": [],
   "source": [
    "def synthetic_data(w, b, num_examples):  #@save\n",
    "    p = len(w) # feature 個數\n",
    "    X = torch.normal(0, 1, (num_examples, p)) # 生出 shape = (n, p) 的 matrix\n",
    "    y = torch.matmul(X, w) + b\n",
    "    y += torch.normal(0, 0.01, y.shape)\n",
    "    return X, y.reshape((-1, 1))"
   ]
  },
  {
   "cell_type": "markdown",
   "metadata": {},
   "source": [
    "* 現在來產出模擬資料：  \n",
    "  * n = 1000, p = 2\n",
    "  * w = [2, -3.4], b = 4.2"
   ]
  },
  {
   "cell_type": "code",
   "execution_count": 22,
   "metadata": {},
   "outputs": [],
   "source": [
    "true_w = torch.tensor([2, -3.4])\n",
    "true_b = 4.2\n",
    "features, labels = synthetic_data(true_w, true_b, 1000)"
   ]
  },
  {
   "cell_type": "code",
   "execution_count": 23,
   "metadata": {},
   "outputs": [
    {
     "data": {
      "text/plain": [
       "tensor([[-0.8164, -0.9453],\n",
       "        [-1.2195,  0.1272],\n",
       "        [ 0.5601,  1.0297],\n",
       "        ...,\n",
       "        [ 0.6262, -1.1752],\n",
       "        [ 0.6752, -1.0719],\n",
       "        [ 0.6124,  0.5205]])"
      ]
     },
     "execution_count": 23,
     "metadata": {},
     "output_type": "execute_result"
    }
   ],
   "source": [
    "features"
   ]
  },
  {
   "cell_type": "code",
   "execution_count": 24,
   "metadata": {},
   "outputs": [
    {
     "data": {
      "text/plain": [
       "tensor([[5.8100],\n",
       "        [1.3357],\n",
       "        [1.8175],\n",
       "        [5.5317],\n",
       "        [4.9031]])"
      ]
     },
     "execution_count": 24,
     "metadata": {},
     "output_type": "execute_result"
    }
   ],
   "source": [
    "labels[:5]"
   ]
  },
  {
   "cell_type": "markdown",
   "metadata": {},
   "source": [
    "* 畫一下 y 對 x1, y 對 x2 的 scatter plot"
   ]
  },
  {
   "cell_type": "code",
   "execution_count": 25,
   "metadata": {},
   "outputs": [
    {
     "data": {
      "image/png": "[encoded data removed]",
      "text/plain": [
       "<Figure size 432x288 with 1 Axes>"
      ]
     },
     "metadata": {
      "filenames": {
       "image/png": "/Volumes/GoogleDrive/我的雲端硬碟/0. codepool_python/python_dl/mybook/_build/jupyter_execute/pytorch/d2l/d2l_linear_regression_11_0.png"
      },
      "needs_background": "light"
     },
     "output_type": "display_data"
    }
   ],
   "source": [
    "plt.scatter(features[:, 0].detach().numpy(), labels.detach().numpy());\n",
    "plt.axis(\"off\");"
   ]
  },
  {
   "cell_type": "code",
   "execution_count": 26,
   "metadata": {},
   "outputs": [
    {
     "data": {
      "image/png": "[encoded data removed]",
      "text/plain": [
       "<Figure size 432x288 with 1 Axes>"
      ]
     },
     "metadata": {
      "filenames": {
       "image/png": "/Volumes/GoogleDrive/我的雲端硬碟/0. codepool_python/python_dl/mybook/_build/jupyter_execute/pytorch/d2l/d2l_linear_regression_12_0.png"
      },
      "needs_background": "light"
     },
     "output_type": "display_data"
    }
   ],
   "source": [
    "plt.scatter(features[:, 1].detach().numpy(), labels.detach().numpy());\n",
    "plt.axis(\"off\");"
   ]
  },
  {
   "cell_type": "markdown",
   "metadata": {},
   "source": [
    "## from scratch"
   ]
  },
  {
   "cell_type": "markdown",
   "metadata": {
    "origin_pos": 12
   },
   "source": [
    "### data iter"
   ]
  },
  {
   "cell_type": "markdown",
   "metadata": {},
   "source": [
    "* 我們要來做出一個 iterator，在讀資料時，每次都可以吐 batch size 的資料出來  \n",
    "* 這邊複習一下 `range(0, 10, 3)` 的意思，是 0~10，每 3 個取一個，所以結果會是： [0, 3, 6, 9]，最後一個分不完就不取了"
   ]
  },
  {
   "cell_type": "code",
   "execution_count": 27,
   "metadata": {
    "origin_pos": 13,
    "tab": [
     "pytorch"
    ]
   },
   "outputs": [],
   "source": [
    "def my_data_iter(batch_size, features, labels):\n",
    "    num_examples = len(features)\n",
    "    indices = list(range(num_examples)) # [0,1,...,n]\n",
    "    random.shuffle(indices) # [4,1,25,0,...]\n",
    "    for i in range(0, num_examples, batch_size):\n",
    "        batch_indices = torch.tensor(\n",
    "            indices[i: min(i + batch_size, num_examples)])\n",
    "        yield features[batch_indices], labels[batch_indices]"
   ]
  },
  {
   "cell_type": "markdown",
   "metadata": {},
   "source": [
    "* 驗證一下，如果 batch size = 10，看一下第一個 batch 的長相"
   ]
  },
  {
   "cell_type": "code",
   "execution_count": 28,
   "metadata": {},
   "outputs": [
    {
     "name": "stdout",
     "output_type": "stream",
     "text": [
      "tensor([[ 0.0324, -0.3804],\n",
      "        [-0.2023,  0.1426],\n",
      "        [ 0.0364,  1.5655],\n",
      "        [-1.3299, -0.7282],\n",
      "        [-0.1377, -0.3729],\n",
      "        [ 1.6993,  0.4536],\n",
      "        [-0.4657, -1.1417],\n",
      "        [-1.0266, -0.1638],\n",
      "        [-0.3879,  1.4113],\n",
      "        [ 0.2974,  0.6664]]) \n",
      " tensor([[ 5.5652],\n",
      "        [ 3.3013],\n",
      "        [-1.0554],\n",
      "        [ 4.0234],\n",
      "        [ 5.1900],\n",
      "        [ 6.0698],\n",
      "        [ 7.1442],\n",
      "        [ 2.7238],\n",
      "        [-1.3799],\n",
      "        [ 2.5420]])\n"
     ]
    }
   ],
   "source": [
    "batch_size = 10\n",
    "custom_data_iter = my_data_iter(10, features, labels)\n",
    "\n",
    "for X, y in custom_data_iter:\n",
    "    print(X, '\\n', y)\n",
    "    break"
   ]
  },
  {
   "cell_type": "markdown",
   "metadata": {},
   "source": [
    "### 定義模型"
   ]
  },
  {
   "cell_type": "code",
   "execution_count": 100,
   "metadata": {},
   "outputs": [],
   "source": [
    "def model(X, w, b):  #@save\n",
    "    \"\"\" linear regression \"\"\"\n",
    "    return torch.matmul(X, w) + b"
   ]
  },
  {
   "cell_type": "markdown",
   "metadata": {
    "origin_pos": 23
   },
   "source": [
    "### loss function"
   ]
  },
  {
   "cell_type": "code",
   "execution_count": 102,
   "metadata": {
    "origin_pos": 24,
    "tab": [
     "pytorch"
    ]
   },
   "outputs": [],
   "source": [
    "class MyMSE:\n",
    "    def __init__(self, reduction = \"mean\"):\n",
    "        self.reduction = reduction\n",
    "    def __call__(self, y_hat, y):\n",
    "        loss = (y_hat - y.reshape(y_hat.shape)) ** 2\n",
    "        if self.reduction == \"mean\":\n",
    "            cost = loss.mean()\n",
    "        if self.reduction == \"sum\":\n",
    "            cost = loss.sum()\n",
    "        if self.reduction == \"none\":\n",
    "            cost = loss\n",
    "        return cost\n",
    "\n",
    "# instance\n",
    "loss = MyMSE(reduction = \"mean\")"
   ]
  },
  {
   "cell_type": "markdown",
   "metadata": {
    "origin_pos": 25
   },
   "source": [
    "### optimizer"
   ]
  },
  {
   "cell_type": "code",
   "execution_count": 103,
   "metadata": {
    "origin_pos": 27,
    "tab": [
     "pytorch"
    ]
   },
   "outputs": [],
   "source": [
    "def optimizer(params, lr = 0.03):  #@save\n",
    "    \"\"\" sgd \"\"\"\n",
    "    with torch.no_grad():\n",
    "        for param in params:\n",
    "            param -= lr * param.grad"
   ]
  },
  {
   "cell_type": "markdown",
   "metadata": {
    "origin_pos": 29
   },
   "source": [
    "### training"
   ]
  },
  {
   "cell_type": "markdown",
   "metadata": {},
   "source": [
    "#### 走一個 batch 來看看發生什麼事"
   ]
  },
  {
   "cell_type": "code",
   "execution_count": 104,
   "metadata": {},
   "outputs": [],
   "source": [
    "# hyper-parameters\n",
    "lr = 0.03"
   ]
  },
  {
   "cell_type": "code",
   "execution_count": 112,
   "metadata": {},
   "outputs": [
    {
     "name": "stdout",
     "output_type": "stream",
     "text": [
      "tensor([[-1.6985,  0.0291],\n",
      "        [-0.0222,  0.0066],\n",
      "        [ 1.1131, -1.0533],\n",
      "        [ 0.7180,  0.5768],\n",
      "        [ 0.0799, -0.5924],\n",
      "        [ 0.1805,  0.9742],\n",
      "        [ 0.3105,  1.2170],\n",
      "        [ 0.3885,  0.6850],\n",
      "        [ 0.8224, -0.2691],\n",
      "        [-0.2953, -1.0634]])\n",
      "tensor([[0.6720],\n",
      "        [4.1316],\n",
      "        [9.9998],\n",
      "        [3.6875],\n",
      "        [6.3652],\n",
      "        [1.2642],\n",
      "        [0.6865],\n",
      "        [2.6544],\n",
      "        [6.7504],\n",
      "        [7.2257]])\n"
     ]
    }
   ],
   "source": [
    "# data\n",
    "custom_data_iter = my_data_iter(10, features, labels)\n",
    "X, y = next(iter(custom_data_iter))\n",
    "print(X)\n",
    "print(y)"
   ]
  },
  {
   "cell_type": "code",
   "execution_count": 90,
   "metadata": {},
   "outputs": [],
   "source": [
    "# 初始化參數\n",
    "w = torch.normal(0, 0.01, size=(2,1), requires_grad=True)\n",
    "b = torch.zeros(1, requires_grad=True)"
   ]
  },
  {
   "cell_type": "markdown",
   "metadata": {},
   "source": [
    "* 看一下初始化的參數，和真值的差距"
   ]
  },
  {
   "cell_type": "code",
   "execution_count": 91,
   "metadata": {},
   "outputs": [
    {
     "name": "stdout",
     "output_type": "stream",
     "text": [
      "estimate w: tensor([[-0.0079],\n",
      "        [-0.0013]], requires_grad=True)\n",
      "true w: tensor([ 2.0000, -3.4000])\n",
      "mse of parameter estimation: 15.583215713500977\n"
     ]
    }
   ],
   "source": [
    "print(f\"estimate w: {w}\")\n",
    "print(f\"true w: {true_w}\")\n",
    "print(f\"mse of parameter estimation: {((w.reshape(-1)-true_w)**2).sum()}\")"
   ]
  },
  {
   "cell_type": "code",
   "execution_count": 92,
   "metadata": {},
   "outputs": [
    {
     "name": "stdout",
     "output_type": "stream",
     "text": [
      "estimate b: tensor([0.], requires_grad=True)\n",
      "true b: 4.2\n",
      "mse of parameter estimation: 17.64\n"
     ]
    }
   ],
   "source": [
    "print(f\"estimate b: {b}\")\n",
    "print(f\"true b: {true_b}\")\n",
    "print(f\"mse of parameter estimation: {((b.item()-true_b)**2)}\")"
   ]
  },
  {
   "cell_type": "markdown",
   "metadata": {},
   "source": [
    "* 可以看到，差距蠻遠的。\n",
    "* 每個參數，都有他目前對應的 gradient，可以這樣看："
   ]
  },
  {
   "cell_type": "code",
   "execution_count": 93,
   "metadata": {},
   "outputs": [
    {
     "name": "stdout",
     "output_type": "stream",
     "text": [
      "None\n",
      "None\n"
     ]
    }
   ],
   "source": [
    "print(w.grad)\n",
    "print(b.grad)"
   ]
  },
  {
   "cell_type": "markdown",
   "metadata": {},
   "source": [
    "* 可以看到，目前 w, b 都沒有 gradient  \n",
    "* 接著，來做第一次 forward"
   ]
  },
  {
   "cell_type": "code",
   "execution_count": 94,
   "metadata": {},
   "outputs": [
    {
     "name": "stdout",
     "output_type": "stream",
     "text": [
      "tensor(25.1611, grad_fn=<MeanBackward0>)\n"
     ]
    }
   ],
   "source": [
    "y_hat = model(X, w, b)\n",
    "batch_cost = loss(y_hat, y)\n",
    "print(batch_cost)"
   ]
  },
  {
   "cell_type": "markdown",
   "metadata": {},
   "source": [
    "* 可以看到，起始的 cost 還蠻高，mse 到 25.  \n",
    "* 接著，我們做 backward：  \n",
    "  * 取得 gradient. \n",
    "  * 利用 gradient，來更新參數"
   ]
  },
  {
   "cell_type": "code",
   "execution_count": 95,
   "metadata": {},
   "outputs": [
    {
     "name": "stdout",
     "output_type": "stream",
     "text": [
      "tensor([[-2.3259],\n",
      "        [ 5.6211]])\n",
      "tensor([-6.3185])\n"
     ]
    }
   ],
   "source": [
    "batch_cost.backward()\n",
    "print(w.grad)\n",
    "print(b.grad)"
   ]
  },
  {
   "cell_type": "markdown",
   "metadata": {},
   "source": [
    "* 可以看到，對 cost 做 backward 後，他自動找到要算 gradient 的對象 (w, b)，並且，把對應的 gradient 塞進去  \n",
    "* 然後，可以用我們寫好的 sgd，來更新參數"
   ]
  },
  {
   "cell_type": "code",
   "execution_count": 96,
   "metadata": {},
   "outputs": [],
   "source": [
    "optimizer([w, b], lr = 0.03)"
   ]
  },
  {
   "cell_type": "code",
   "execution_count": 97,
   "metadata": {},
   "outputs": [
    {
     "name": "stdout",
     "output_type": "stream",
     "text": [
      "estimate w: tensor([[ 0.0619],\n",
      "        [-0.1699]], requires_grad=True)\n",
      "true w: tensor([ 2.0000, -3.4000])\n",
      "mse of parameter estimation: 14.190025329589844\n"
     ]
    }
   ],
   "source": [
    "print(f\"estimate w: {w}\")\n",
    "print(f\"true w: {true_w}\")\n",
    "print(f\"mse of parameter estimation: {((w.reshape(-1)-true_w)**2).sum()}\")"
   ]
  },
  {
   "cell_type": "code",
   "execution_count": 98,
   "metadata": {},
   "outputs": [
    {
     "name": "stdout",
     "output_type": "stream",
     "text": [
      "estimate b: tensor([0.1896], requires_grad=True)\n",
      "true b: 4.2\n",
      "mse of parameter estimation: 16.083666673612385\n"
     ]
    }
   ],
   "source": [
    "print(f\"estimate b: {b}\")\n",
    "print(f\"true b: {true_b}\")\n",
    "print(f\"mse of parameter estimation: {((b.item()-true_b)**2)}\")"
   ]
  },
  {
   "cell_type": "markdown",
   "metadata": {},
   "source": [
    "* 可以看到，經過一個 batch，w 和 b 的參數估計，都更接近真值了"
   ]
  },
  {
   "cell_type": "markdown",
   "metadata": {},
   "source": [
    "* 最後，這邊要注意一下：  \n",
    "  * 每次做完參數更新後，都會把參數對應的 gradient 歸 0。  \n",
    "  * 做法是： `w.grad.zero_()` or `b.grad.zero_()`. \n",
    "  * 要這麼做的原因是，當我們做 `my_cost.backward()` 時，他背後做的事情是：  \n",
    "    * 先依據目前的 cost，算出每個 trainiable variable 的 gradient. \n",
    "    * 把這個 gradient，\"累加\" 到目前 trainable variable 的 gradient 上. \n",
    "  * 所以，如果你不把 trainable variable 的 gradient 歸 0，那新的 gradient 變成 新+舊 的 gradient，整個歪掉. \n",
    "  * 那 pytorch 慣例的寫法，不是在更新完 weight 後，清空 gradient。而是在算 backward 前，清空 gradient. \n",
    "  * 雖然看起來這兩種做法，看似等價，但如果你是依據現有的 model weight 延續做 retrain 的話，那你就不能確認一開始的 gradient 是 0。所以總是先歸0，再做 backward，就變成是 pytorch 的 convention. \n",
    "  * 這在等一下的 3 個 epoch 範例就可以看到例子"
   ]
  },
  {
   "cell_type": "markdown",
   "metadata": {},
   "source": [
    "#### 走 3 個 epoch 看看"
   ]
  },
  {
   "cell_type": "code",
   "execution_count": 106,
   "metadata": {
    "origin_pos": 30,
    "tab": [
     "pytorch"
    ]
   },
   "outputs": [],
   "source": [
    "# hyper-parameters\n",
    "lr = 0.03\n",
    "num_epochs = 3\n",
    "\n",
    "# 初始化參數\n",
    "w = torch.normal(0, 0.01, size=(2,1), requires_grad=True)\n",
    "b = torch.zeros(1, requires_grad=True)\n",
    "params = (w, b)"
   ]
  },
  {
   "cell_type": "code",
   "execution_count": 107,
   "metadata": {
    "origin_pos": 32,
    "tab": [
     "pytorch"
    ]
   },
   "outputs": [
    {
     "name": "stdout",
     "output_type": "stream",
     "text": [
      "epoch 1, loss 0.00040435069240629673\n",
      "epoch 2, loss 0.00010177450167248026\n",
      "epoch 3, loss 0.00010079665662487969\n"
     ]
    }
   ],
   "source": [
    "for epoch in range(num_epochs):\n",
    "    custom_data_iter = my_data_iter(10, features, labels)\n",
    "    for X, y in custom_data_iter:\n",
    "        # forward step\n",
    "        y_hat = model(X, w, b)\n",
    "        batch_cost = loss(y_hat, y)\n",
    "        \n",
    "        # 清空 gradient\n",
    "        for param in params:\n",
    "            if param.grad is not None:\n",
    "                param.grad.zero_()\n",
    "        \n",
    "        # backward step\n",
    "        batch_cost.backward()\n",
    "        optimizer([w, b], lr = 0.03)  # 使用参数的梯度更新参數\n",
    "        \n",
    "    with torch.no_grad():\n",
    "        y_hat_all = model(features, w, b)\n",
    "        epoch_cost = loss(y_hat_all, labels)\n",
    "        print(f'epoch {epoch +1}, loss {epoch_cost}')\n",
    "        #print(f'epoch {epoch + 1}, loss {float(epoch_cost):f}')"
   ]
  },
  {
   "cell_type": "markdown",
   "metadata": {},
   "source": [
    "* 可以看到，參數估計結果，和真值非常接近"
   ]
  },
  {
   "cell_type": "code",
   "execution_count": 110,
   "metadata": {},
   "outputs": [
    {
     "name": "stdout",
     "output_type": "stream",
     "text": [
      "estimate w: tensor([[ 2.0004],\n",
      "        [-3.3999]], requires_grad=True)\n",
      "true w: tensor([ 2.0000, -3.4000])\n",
      "mse of parameter estimation: 1.8516522004574654e-07\n"
     ]
    }
   ],
   "source": [
    "print(f\"estimate w: {w}\")\n",
    "print(f\"true w: {true_w}\")\n",
    "print(f\"mse of parameter estimation: {((w.reshape(-1)-true_w)**2).sum()}\")"
   ]
  },
  {
   "cell_type": "code",
   "execution_count": 111,
   "metadata": {},
   "outputs": [
    {
     "name": "stdout",
     "output_type": "stream",
     "text": [
      "estimate b: tensor([4.1996], requires_grad=True)\n",
      "true b: 4.2\n",
      "mse of parameter estimation: 1.8969775737802604e-07\n"
     ]
    }
   ],
   "source": [
    "print(f\"estimate b: {b}\")\n",
    "print(f\"true b: {true_b}\")\n",
    "print(f\"mse of parameter estimation: {((b.item()-true_b)**2)}\")"
   ]
  },
  {
   "cell_type": "markdown",
   "metadata": {
    "tags": []
   },
   "source": [
    "## 內建 function"
   ]
  },
  {
   "cell_type": "markdown",
   "metadata": {},
   "source": [
    "### data iter"
   ]
  },
  {
   "cell_type": "code",
   "execution_count": 113,
   "metadata": {},
   "outputs": [],
   "source": [
    "from torch.utils.data import TensorDataset, DataLoader\n",
    "\n",
    "dataset = TensorDataset(features, labels)\n",
    "data_iter = DataLoader(dataset, batch_size = 10, shuffle = True)"
   ]
  },
  {
   "cell_type": "markdown",
   "metadata": {},
   "source": [
    "* 驗證一下："
   ]
  },
  {
   "cell_type": "code",
   "execution_count": 114,
   "metadata": {},
   "outputs": [
    {
     "name": "stdout",
     "output_type": "stream",
     "text": [
      "tensor([[ 0.8684,  1.8096],\n",
      "        [-0.4814, -0.4445],\n",
      "        [-0.3560, -1.1624],\n",
      "        [-1.6850,  0.9945],\n",
      "        [ 2.2541, -0.8971],\n",
      "        [-0.5724, -0.4106],\n",
      "        [-4.1179, -0.5625],\n",
      "        [-0.4651, -1.3560],\n",
      "        [-0.3070,  0.7921],\n",
      "        [ 0.4441, -0.7416]]) \n",
      " tensor([[-0.2113],\n",
      "        [ 4.7432],\n",
      "        [ 7.4426],\n",
      "        [-2.5434],\n",
      "        [11.7608],\n",
      "        [ 4.4673],\n",
      "        [-2.1368],\n",
      "        [ 7.8829],\n",
      "        [ 0.8922],\n",
      "        [ 7.6340]])\n"
     ]
    }
   ],
   "source": [
    "for X, y in data_iter:\n",
    "    print(X, '\\n', y)\n",
    "    break"
   ]
  },
  {
   "cell_type": "markdown",
   "metadata": {},
   "source": [
    "### 定義模型"
   ]
  },
  {
   "cell_type": "code",
   "execution_count": 115,
   "metadata": {},
   "outputs": [],
   "source": [
    "from torch import nn\n",
    "model = nn.Sequential(\n",
    "    nn.Linear(2, 1) # input 2, output 1\n",
    ")"
   ]
  },
  {
   "cell_type": "markdown",
   "metadata": {},
   "source": [
    "* 我們可以看一下這個模型的架構："
   ]
  },
  {
   "cell_type": "code",
   "execution_count": 132,
   "metadata": {},
   "outputs": [
    {
     "data": {
      "text/plain": [
       "<bound method Module.state_dict of Sequential(\n",
       "  (0): Linear(in_features=2, out_features=1, bias=True)\n",
       ")>"
      ]
     },
     "execution_count": 132,
     "metadata": {},
     "output_type": "execute_result"
    }
   ],
   "source": [
    "model.state_dict"
   ]
  },
  {
   "cell_type": "markdown",
   "metadata": {},
   "source": [
    "* 可以看到，他只有一層，這一層是 linear 層。\n",
    "* 所以我們可以取出這一層來看看："
   ]
  },
  {
   "cell_type": "code",
   "execution_count": 133,
   "metadata": {},
   "outputs": [
    {
     "data": {
      "text/plain": [
       "Linear(in_features=2, out_features=1, bias=True)"
      ]
     },
     "execution_count": 133,
     "metadata": {},
     "output_type": "execute_result"
    }
   ],
   "source": [
    "model[0]"
   ]
  },
  {
   "cell_type": "markdown",
   "metadata": {},
   "source": [
    "* 取裡面的 weight 和 bias 來看看："
   ]
  },
  {
   "cell_type": "code",
   "execution_count": 134,
   "metadata": {},
   "outputs": [
    {
     "data": {
      "text/plain": [
       "Parameter containing:\n",
       "tensor([[ 0.1620, -0.4444]], requires_grad=True)"
      ]
     },
     "execution_count": 134,
     "metadata": {},
     "output_type": "execute_result"
    }
   ],
   "source": [
    "model[0].weight"
   ]
  },
  {
   "cell_type": "code",
   "execution_count": 135,
   "metadata": {},
   "outputs": [
    {
     "data": {
      "text/plain": [
       "Parameter containing:\n",
       "tensor([-0.5005], requires_grad=True)"
      ]
     },
     "execution_count": 135,
     "metadata": {},
     "output_type": "execute_result"
    }
   ],
   "source": [
    "model[0].bias"
   ]
  },
  {
   "cell_type": "markdown",
   "metadata": {},
   "source": [
    "* 單純把數值取出來："
   ]
  },
  {
   "cell_type": "code",
   "execution_count": 136,
   "metadata": {},
   "outputs": [
    {
     "data": {
      "text/plain": [
       "tensor([[ 0.1620, -0.4444]])"
      ]
     },
     "execution_count": 136,
     "metadata": {},
     "output_type": "execute_result"
    }
   ],
   "source": [
    "model[0].weight.data"
   ]
  },
  {
   "cell_type": "code",
   "execution_count": 137,
   "metadata": {},
   "outputs": [
    {
     "data": {
      "text/plain": [
       "tensor([-0.5005])"
      ]
     },
     "execution_count": 137,
     "metadata": {},
     "output_type": "execute_result"
    }
   ],
   "source": [
    "model[0].bias.data"
   ]
  },
  {
   "cell_type": "markdown",
   "metadata": {},
   "source": [
    "* 一次取全部的參數："
   ]
  },
  {
   "cell_type": "code",
   "execution_count": 138,
   "metadata": {},
   "outputs": [
    {
     "data": {
      "text/plain": [
       "<generator object Module.parameters at 0x132cbb190>"
      ]
     },
     "execution_count": 138,
     "metadata": {},
     "output_type": "execute_result"
    }
   ],
   "source": [
    "model.parameters()"
   ]
  },
  {
   "cell_type": "markdown",
   "metadata": {},
   "source": [
    "* 是個 generator，那就用 for 迴圈去看總共有哪些東西："
   ]
  },
  {
   "cell_type": "code",
   "execution_count": 118,
   "metadata": {},
   "outputs": [
    {
     "name": "stdout",
     "output_type": "stream",
     "text": [
      "Parameter containing:\n",
      "tensor([[ 0.1620, -0.4444]], requires_grad=True)\n",
      "Parameter containing:\n",
      "tensor([-0.5005], requires_grad=True)\n"
     ]
    }
   ],
   "source": [
    "for param in model.parameters():\n",
    "    print(param)"
   ]
  },
  {
   "cell_type": "markdown",
   "metadata": {},
   "source": [
    "* 發現就是 w 和 b  \n",
    "* 所以，等等要餵給 optimizer 的參數，就是 `model.parameters()`. \n",
    "* 然後，如果想看 w 和 b 的估計狀況，要用 `model[0].weight.data` 和 `model[0].bias.data`. \n",
    "* 如果想看 w 和 b 的 gradient，要用 `model[0].weight.grad` 和 `model[0].bias.grad`"
   ]
  },
  {
   "cell_type": "markdown",
   "metadata": {},
   "source": [
    "* 如果要取得 w 和 b 的數值，那要這麼做："
   ]
  },
  {
   "cell_type": "markdown",
   "metadata": {},
   "source": [
    "### loss function"
   ]
  },
  {
   "cell_type": "code",
   "execution_count": 116,
   "metadata": {},
   "outputs": [],
   "source": [
    "loss = nn.MSELoss()"
   ]
  },
  {
   "cell_type": "markdown",
   "metadata": {},
   "source": [
    "### optimizer"
   ]
  },
  {
   "cell_type": "code",
   "execution_count": 119,
   "metadata": {},
   "outputs": [],
   "source": [
    "optimizer = torch.optim.SGD(model.parameters(), lr = 0.03)"
   ]
  },
  {
   "cell_type": "markdown",
   "metadata": {},
   "source": [
    "### training"
   ]
  },
  {
   "cell_type": "markdown",
   "metadata": {},
   "source": [
    "#### 走一個 batch 看看發生什麼事"
   ]
  },
  {
   "cell_type": "code",
   "execution_count": 120,
   "metadata": {},
   "outputs": [
    {
     "name": "stdout",
     "output_type": "stream",
     "text": [
      "tensor([[-1.7370e+00,  2.2797e+00],\n",
      "        [-1.3517e+00,  6.1767e-01],\n",
      "        [-8.5405e-02, -4.3337e-01],\n",
      "        [-4.4443e-01, -2.2241e-01],\n",
      "        [ 4.1111e-01, -7.4746e-01],\n",
      "        [ 1.6160e+00,  2.0642e+00],\n",
      "        [-2.3694e+00, -4.2574e-01],\n",
      "        [-1.6769e-03, -1.1355e+00],\n",
      "        [ 7.4750e-01,  3.2721e-01],\n",
      "        [ 7.4800e-01,  9.3969e-01]])\n",
      "tensor([[-7.0367],\n",
      "        [-0.6083],\n",
      "        [ 5.5124],\n",
      "        [ 4.0628],\n",
      "        [ 7.5595],\n",
      "        [ 0.3955],\n",
      "        [ 0.9199],\n",
      "        [ 8.0442],\n",
      "        [ 4.5495],\n",
      "        [ 2.5009]])\n"
     ]
    }
   ],
   "source": [
    "# data\n",
    "X, y = next(iter(data_iter))\n",
    "print(X)\n",
    "print(y)"
   ]
  },
  {
   "cell_type": "markdown",
   "metadata": {},
   "source": [
    "* 看一下初始參數和真值的差距"
   ]
  },
  {
   "cell_type": "code",
   "execution_count": 140,
   "metadata": {},
   "outputs": [],
   "source": [
    "w_est = model[0].weight.data\n",
    "b_est = model[0].bias.data"
   ]
  },
  {
   "cell_type": "code",
   "execution_count": 141,
   "metadata": {},
   "outputs": [
    {
     "name": "stdout",
     "output_type": "stream",
     "text": [
      "estimate w: tensor([[ 0.1620, -0.4444]])\n",
      "true w: tensor([ 2.0000, -3.4000])\n",
      "mse of parameter estimation: 12.113733291625977\n"
     ]
    }
   ],
   "source": [
    "print(f\"estimate w: {w_est}\")\n",
    "print(f\"true w: {true_w}\")\n",
    "print(f\"mse of parameter estimation: {((w_est.reshape(-1)-true_w)**2).sum()}\")"
   ]
  },
  {
   "cell_type": "code",
   "execution_count": 142,
   "metadata": {},
   "outputs": [
    {
     "name": "stdout",
     "output_type": "stream",
     "text": [
      "estimate b: tensor([-0.5005])\n",
      "true b: 4.2\n",
      "mse of parameter estimation: 22.09457495294072\n"
     ]
    }
   ],
   "source": [
    "print(f\"estimate b: {b_est}\")\n",
    "print(f\"true b: {true_b}\")\n",
    "print(f\"mse of parameter estimation: {((b_est.item()-true_b)**2)}\")"
   ]
  },
  {
   "cell_type": "markdown",
   "metadata": {},
   "source": [
    "* 此時，這些參數對應的 gradient 也都還是 None"
   ]
  },
  {
   "cell_type": "code",
   "execution_count": 144,
   "metadata": {},
   "outputs": [
    {
     "name": "stdout",
     "output_type": "stream",
     "text": [
      "None\n",
      "None\n"
     ]
    }
   ],
   "source": [
    "print(model[0].weight.grad)\n",
    "print(model[0].bias.grad)"
   ]
  },
  {
   "cell_type": "markdown",
   "metadata": {},
   "source": [
    "* 做第一次 forward"
   ]
  },
  {
   "cell_type": "code",
   "execution_count": 143,
   "metadata": {},
   "outputs": [
    {
     "name": "stdout",
     "output_type": "stream",
     "text": [
      "tensor(24.7222, grad_fn=<MseLossBackward>)\n"
     ]
    }
   ],
   "source": [
    "y_hat = model(X)\n",
    "batch_cost = loss(y_hat, y)\n",
    "print(batch_cost)"
   ]
  },
  {
   "cell_type": "markdown",
   "metadata": {},
   "source": [
    "* backward"
   ]
  },
  {
   "cell_type": "code",
   "execution_count": 145,
   "metadata": {},
   "outputs": [],
   "source": [
    "batch_cost.backward()"
   ]
  },
  {
   "cell_type": "markdown",
   "metadata": {},
   "source": [
    "* 此時，gradient 已經算出來了："
   ]
  },
  {
   "cell_type": "code",
   "execution_count": 146,
   "metadata": {},
   "outputs": [
    {
     "name": "stdout",
     "output_type": "stream",
     "text": [
      "tensor([[-2.8292,  4.5661]])\n",
      "tensor([-6.5510])\n"
     ]
    }
   ],
   "source": [
    "print(model[0].weight.grad)\n",
    "print(model[0].bias.grad)"
   ]
  },
  {
   "cell_type": "markdown",
   "metadata": {},
   "source": [
    "* 更新參數 by optimizer"
   ]
  },
  {
   "cell_type": "code",
   "execution_count": 147,
   "metadata": {},
   "outputs": [],
   "source": [
    "optimizer.step()"
   ]
  },
  {
   "cell_type": "markdown",
   "metadata": {},
   "source": [
    "* 看一下參數更新的狀況，是否和真值更近了一些："
   ]
  },
  {
   "cell_type": "code",
   "execution_count": 148,
   "metadata": {},
   "outputs": [],
   "source": [
    "w_est = model[0].weight.data\n",
    "b_est = model[0].bias.data"
   ]
  },
  {
   "cell_type": "code",
   "execution_count": 149,
   "metadata": {},
   "outputs": [
    {
     "name": "stdout",
     "output_type": "stream",
     "text": [
      "estimate w: tensor([[ 0.2468, -0.5814]])\n",
      "true w: tensor([ 2.0000, -3.4000])\n",
      "mse of parameter estimation: 11.017970085144043\n"
     ]
    }
   ],
   "source": [
    "print(f\"estimate w: {w_est}\")\n",
    "print(f\"true w: {true_w}\")\n",
    "print(f\"mse of parameter estimation: {((w_est.reshape(-1)-true_w)**2).sum()}\")"
   ]
  },
  {
   "cell_type": "code",
   "execution_count": 150,
   "metadata": {},
   "outputs": [
    {
     "name": "stdout",
     "output_type": "stream",
     "text": [
      "estimate b: tensor([-0.3040])\n",
      "true b: 4.2\n",
      "mse of parameter estimation: 20.28563309076185\n"
     ]
    }
   ],
   "source": [
    "print(f\"estimate b: {b_est}\")\n",
    "print(f\"true b: {true_b}\")\n",
    "print(f\"mse of parameter estimation: {((b_est.item()-true_b)**2)}\")"
   ]
  },
  {
   "cell_type": "markdown",
   "metadata": {},
   "source": [
    "* 沒錯～ 估計得更好了"
   ]
  },
  {
   "cell_type": "markdown",
   "metadata": {},
   "source": [
    "#### 走 3 個 epoch 看看"
   ]
  },
  {
   "cell_type": "code",
   "execution_count": 151,
   "metadata": {},
   "outputs": [
    {
     "name": "stdout",
     "output_type": "stream",
     "text": [
      "epoch 1, loss 0.000374063674826175\n",
      "epoch 2, loss 0.00010071097494801506\n",
      "epoch 3, loss 0.0001010773194138892\n"
     ]
    }
   ],
   "source": [
    "num_epochs = 3\n",
    "for epoch in range(num_epochs):\n",
    "    for X, y in data_iter:\n",
    "        # forward\n",
    "        y_hat = model(X)\n",
    "        batch_cost = loss(y_hat ,y)\n",
    "        \n",
    "        # 清 gradient\n",
    "        optimizer.zero_grad()\n",
    "        \n",
    "        # backward\n",
    "        batch_cost.backward()\n",
    "        optimizer.step()\n",
    "    \n",
    "    # training epoch loss\n",
    "    epoch_cost = loss(model(features), labels)\n",
    "    print(f'epoch {epoch + 1}, loss {epoch_cost}')"
   ]
  },
  {
   "cell_type": "markdown",
   "metadata": {},
   "source": [
    "* 可以看一下，參數估計結果和真值非常接近"
   ]
  },
  {
   "cell_type": "code",
   "execution_count": 152,
   "metadata": {},
   "outputs": [],
   "source": [
    "w_est = model[0].weight.data\n",
    "b_est = model[0].bias.data"
   ]
  },
  {
   "cell_type": "code",
   "execution_count": 153,
   "metadata": {},
   "outputs": [
    {
     "name": "stdout",
     "output_type": "stream",
     "text": [
      "estimate w: tensor([[ 2.0005, -3.4002]])\n",
      "true w: tensor([ 2.0000, -3.4000])\n",
      "mse of parameter estimation: 3.2639093205943936e-07\n"
     ]
    }
   ],
   "source": [
    "print(f\"estimate w: {w_est}\")\n",
    "print(f\"true w: {true_w}\")\n",
    "print(f\"mse of parameter estimation: {((w_est.reshape(-1)-true_w)**2).sum()}\")"
   ]
  },
  {
   "cell_type": "code",
   "execution_count": 154,
   "metadata": {},
   "outputs": [
    {
     "name": "stdout",
     "output_type": "stream",
     "text": [
      "estimate b: tensor([4.1997])\n",
      "true b: 4.2\n",
      "mse of parameter estimation: 1.216326290888321e-07\n"
     ]
    }
   ],
   "source": [
    "print(f\"estimate b: {b_est}\")\n",
    "print(f\"true b: {true_b}\")\n",
    "print(f\"mse of parameter estimation: {((b_est.item()-true_b)**2)}\")"
   ]
  },
  {
   "cell_type": "markdown",
   "metadata": {},
   "source": [
    "## 內建 function vs 自己寫的"
   ]
  },
  {
   "cell_type": "markdown",
   "metadata": {},
   "source": [
    "* 最大的差別，應該是在 data iterator\n",
    "* 自己寫的 data iterator，他跑完後就沒了，所以寫法必須寫成這樣：  \n",
    "\n",
    "```python\n",
    "for epoch in range(num_epochs):\n",
    "    # 每個 epoch 下，都要再做出一個新的 iterator\n",
    "    custom_data_iter = my_data_iter(10, features, labels)\n",
    "    for X, y in custom_data_iter:\n",
    "        ...\n",
    "```\n",
    "\n",
    "* 但如果是用內建 function 的 iterator，那就做一次就好，因為它會自動幫你重新實例化：\n",
    "\n",
    "\n",
    "```python\n",
    "dataset = TensorDataset(features, labels)\n",
    "data_iter = DataLoader(dataset, batch_size = 10, shuffle = True) # 就做這麼一次就好\n",
    "\n",
    "for epoch in range(num_epochs):\n",
    "    for X, y in data_iter:\n",
    "        ...\n",
    "```"
   ]
  },
  {
   "cell_type": "code",
   "execution_count": null,
   "metadata": {},
   "outputs": [],
   "source": []
  }
 ],
 "metadata": {
  "kernelspec": {
   "display_name": "Python 3",
   "language": "python",
   "name": "python3"
  },
  "language_info": {
   "codemirror_mode": {
    "name": "ipython",
    "version": 3
   },
   "file_extension": ".py",
   "mimetype": "text/x-python",
   "name": "python",
   "nbconvert_exporter": "python",
   "pygments_lexer": "ipython3",
   "version": "3.8.0"
  }
 },
 "nbformat": 4,
 "nbformat_minor": 4
}