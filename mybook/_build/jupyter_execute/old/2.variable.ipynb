{
 "cells": [
  {
   "cell_type": "markdown",
   "metadata": {
    "id": "qFdPvlXBOdUN"
   },
   "source": [
    "# Introduction to Variables"
   ]
  },
  {
   "cell_type": "markdown",
   "metadata": {
    "id": "AKhB9CMxndDs"
   },
   "source": [
    "* 上一節介紹的 tensor，其實就是 `tf.constant()` 的結果，特點是 immutable，所以你無法去改值 \n",
    "* 例如： `my_tensor = tf.constant([1,2,3])`, 然後 `my_tensor[0] = 1` 這是不行的\n",
    "* 但在 ML 中，有些 tensor，我會希望可以改值，例如 model 的 weight，在每次學習過程中，都需要更新。那 weight 就無法用 tensor 來處理。\n",
    "* 這時候， `tf.Variable` 這個 class，就可以把它想成 mutable 的 tensor， A `tf.Variable` represents a tensor whose value can be changed by running ops on it.  所以可以幫助我們 shared, persistent state your program manipulates. \n",
    "* `tf.keras` 就是用 `tf.Variable` 來儲存 model parameters. \n",
    "* 而這一章，就是要來講，如何 create, update, 以及 manage instances of `tf.Variable` in TensorFlow."
   ]
  },
  {
   "cell_type": "markdown",
   "metadata": {
    "id": "xZoJJ4vdvTrD"
   },
   "source": [
    "## Setup"
   ]
  },
  {
   "cell_type": "code",
   "execution_count": 1,
   "metadata": {
    "id": "7tUZJk7lDiGo",
    "tags": []
   },
   "outputs": [],
   "source": [
    "import tensorflow as tf\n",
    "\n",
    "# Uncomment to see where your variables get placed (see below)\n",
    "# tf.debugging.set_log_device_placement(True)"
   ]
  },
  {
   "cell_type": "markdown",
   "metadata": {
    "id": "vORGXDarogWm"
   },
   "source": [
    "## Create a variable"
   ]
  },
  {
   "cell_type": "code",
   "execution_count": 5,
   "metadata": {
    "id": "dsYXSqleojj7",
    "tags": []
   },
   "outputs": [
    {
     "data": {
      "text/plain": [
       "<tf.Variable 'Variable:0' shape=(2, 2) dtype=float32, numpy=\n",
       "array([[1., 2.],\n",
       "       [3., 4.]], dtype=float32)>"
      ]
     },
     "execution_count": 5,
     "metadata": {},
     "output_type": "execute_result"
    }
   ],
   "source": [
    "# tf.constant\n",
    "my_tensor = tf.constant([[1.0, 2.0], [3.0, 4.0]])\n",
    "\n",
    "# tf.variable\n",
    "my_variable = tf.Variable(my_tensor)\n",
    "\n",
    "my_variable"
   ]
  },
  {
   "cell_type": "markdown",
   "metadata": {
    "id": "VQHwJ_Itoujf"
   },
   "source": [
    "* 可以看到，是 `tf.Variable` 這個 class  \n",
    "* 而 `tf.Variable` 其實就是 mutable 的 tensor，所以他也有 `dtype` 和 `shape` 兩個 attribute"
   ]
  },
  {
   "cell_type": "code",
   "execution_count": 6,
   "metadata": {
    "id": "GhNfPwCYpvlq",
    "tags": []
   },
   "outputs": [
    {
     "name": "stdout",
     "output_type": "stream",
     "text": [
      "Shape:  (2, 2)\n",
      "DType:  <dtype: 'float32'>\n"
     ]
    }
   ],
   "source": [
    "print(\"Shape: \", my_variable.shape)\n",
    "print(\"DType: \", my_variable.dtype)"
   ]
  },
  {
   "cell_type": "markdown",
   "metadata": {},
   "source": [
    "## assign"
   ]
  },
  {
   "cell_type": "markdown",
   "metadata": {},
   "source": [
    "* 來看一下他和 tensor 最大的不同"
   ]
  },
  {
   "cell_type": "code",
   "execution_count": 11,
   "metadata": {},
   "outputs": [
    {
     "ename": "TypeError",
     "evalue": "'tensorflow.python.framework.ops.EagerTensor' object does not support item assignment",
     "output_type": "error",
     "traceback": [
      "\u001b[0;31m---------------------------------------------------------------------------\u001b[0m",
      "\u001b[0;31mTypeError\u001b[0m                                 Traceback (most recent call last)",
      "\u001b[0;32m<ipython-input-11-6442d690897a>\u001b[0m in \u001b[0;36m<module>\u001b[0;34m\u001b[0m\n\u001b[1;32m      1\u001b[0m \u001b[0;31m# tensor (i.e. tf.constant) 是 immutable\u001b[0m\u001b[0;34m\u001b[0m\u001b[0;34m\u001b[0m\u001b[0;34m\u001b[0m\u001b[0m\n\u001b[0;32m----> 2\u001b[0;31m \u001b[0mmy_tensor\u001b[0m\u001b[0;34m[\u001b[0m\u001b[0;36m0\u001b[0m\u001b[0;34m,\u001b[0m\u001b[0;36m0\u001b[0m\u001b[0;34m]\u001b[0m \u001b[0;34m=\u001b[0m \u001b[0;36m99.99\u001b[0m\u001b[0;34m\u001b[0m\u001b[0;34m\u001b[0m\u001b[0m\n\u001b[0m",
      "\u001b[0;31mTypeError\u001b[0m: 'tensorflow.python.framework.ops.EagerTensor' object does not support item assignment"
     ]
    }
   ],
   "source": [
    "# tensor (i.e. tf.constant) 是 immutable\n",
    "my_tensor[0,0] = 99.99"
   ]
  },
  {
   "cell_type": "code",
   "execution_count": 15,
   "metadata": {},
   "outputs": [
    {
     "data": {
      "text/plain": [
       "<tf.Variable 'UnreadVariable' shape=(2, 2) dtype=float32, numpy=\n",
       "array([[99.99,  2.  ],\n",
       "       [ 3.  ,  4.  ]], dtype=float32)>"
      ]
     },
     "execution_count": 15,
     "metadata": {},
     "output_type": "execute_result"
    }
   ],
   "source": [
    "# variable 是 mutable，用 `.assign()` 來加入新值\n",
    "my_variable[0,0].assign(99.99) # 當下就更新了，不需要 my_variable = my_variable[0,0].assign(99.99)"
   ]
  },
  {
   "cell_type": "markdown",
   "metadata": {},
   "source": [
    "* 那在模型訓練時，更常用的，是把整個 tf.Variable 裡面的所有值都替換 (e.g. 權重更新)"
   ]
  },
  {
   "cell_type": "code",
   "execution_count": 20,
   "metadata": {},
   "outputs": [
    {
     "data": {
      "text/plain": [
       "<tf.Variable 'UnreadVariable' shape=(2,) dtype=float32, numpy=array([1., 2.], dtype=float32)>"
      ]
     },
     "execution_count": 20,
     "metadata": {},
     "output_type": "execute_result"
    }
   ],
   "source": [
    "a = tf.Variable([2.0, 3.0])\n",
    "\n",
    "# This will keep the same dtype, float32\n",
    "a.assign([1, 2]) "
   ]
  },
  {
   "cell_type": "markdown",
   "metadata": {},
   "source": [
    "* 其他用法，例如 python，在更新資料時，會用\n",
    "  * `a = a + 1` or `a += 1`. \n",
    "  * `b = b - 1` or `b -= 1`. \n",
    "* 那在 variable 中，要用 `assign_add` 和 `assign_sub`，例如：\n",
    "  * `a.assign_add(1)`. \n",
    "  * `b.assign_sub(1)`. "
   ]
  },
  {
   "cell_type": "code",
   "execution_count": 22,
   "metadata": {},
   "outputs": [
    {
     "name": "stdout",
     "output_type": "stream",
     "text": [
      "[7. 9.]\n",
      "[0. 0.]\n"
     ]
    }
   ],
   "source": [
    "a = tf.Variable([2.0, 3.0])\n",
    "\n",
    "print(a.assign_add([5,6]).numpy())  # [7. 9.]\n",
    "print(a.assign_sub([7,9]).numpy())  # [0. 0.]"
   ]
  },
  {
   "cell_type": "markdown",
   "metadata": {},
   "source": [
    "* 最後，要注意的是，一但宣告了 Variable，他就幫你在記憶體中開一個位子了，所以，你不能塞不同 size 的東西進去："
   ]
  },
  {
   "cell_type": "code",
   "execution_count": 21,
   "metadata": {},
   "outputs": [
    {
     "name": "stdout",
     "output_type": "stream",
     "text": [
      "ValueError: Shapes (2,) and (3,) are incompatible\n"
     ]
    }
   ],
   "source": [
    "# Not allowed as it resizes the variable: \n",
    "try:\n",
    "  a.assign([1.0, 2.0, 3.0])\n",
    "except Exception as e:\n",
    "  print(f\"{type(e).__name__}: {e}\")"
   ]
  },
  {
   "cell_type": "markdown",
   "metadata": {},
   "source": [
    "## convert"
   ]
  },
  {
   "cell_type": "markdown",
   "metadata": {},
   "source": [
    "* variable 可以用. \n",
    "  * `tf.convert_to_tensor()` 轉成 tensor (i.e. tf.constant)\n",
    "  * 用 `.numpy()` 轉成 numpy  "
   ]
  },
  {
   "cell_type": "code",
   "execution_count": 23,
   "metadata": {},
   "outputs": [
    {
     "name": "stdout",
     "output_type": "stream",
     "text": [
      "<tf.Variable 'Variable:0' shape=(2, 2) dtype=float32, numpy=\n",
      "array([[99.99,  2.  ],\n",
      "       [ 3.  ,  4.  ]], dtype=float32)>\n",
      "tf.Tensor(\n",
      "[[99.99  2.  ]\n",
      " [ 3.    4.  ]], shape=(2, 2), dtype=float32)\n"
     ]
    }
   ],
   "source": [
    "# 轉成 tensor\n",
    "print(my_variable)\n",
    "print(tf.convert_to_tensor(my_variable))"
   ]
  },
  {
   "cell_type": "code",
   "execution_count": 19,
   "metadata": {},
   "outputs": [
    {
     "name": "stdout",
     "output_type": "stream",
     "text": [
      "<tf.Variable 'Variable:0' shape=(2, 2) dtype=float32, numpy=\n",
      "array([[99.99,  2.  ],\n",
      "       [ 3.  ,  4.  ]], dtype=float32)>\n",
      "[[99.99  2.  ]\n",
      " [ 3.    4.  ]]\n"
     ]
    }
   ],
   "source": [
    "# 轉成 numpy\n",
    "print(my_variable)\n",
    "print(my_variable.numpy())"
   ]
  },
  {
   "cell_type": "markdown",
   "metadata": {
    "id": "ZtzepotYUe7B"
   },
   "source": [
    "## Lifecycles, naming, and watching"
   ]
  },
  {
   "cell_type": "markdown",
   "metadata": {},
   "source": [
    "* In Python-based TensorFlow, `tf.Variable` instance have the same lifecycle as other Python objects. \n",
    "* When there are no references to a variable it is automatically deallocated.\n",
    "* Variables 可以被命名，這樣可以幫助我們 track and debug  \n",
    "* 而且，不同 variables 可以命相同的名字(只是可以而已，不要真的這麼做，會混淆自己)  "
   ]
  },
  {
   "cell_type": "code",
   "execution_count": 24,
   "metadata": {
    "id": "VBFbzKj8RaPf",
    "tags": []
   },
   "outputs": [
    {
     "name": "stdout",
     "output_type": "stream",
     "text": [
      "tf.Tensor(\n",
      "[[False False]\n",
      " [False False]], shape=(2, 2), dtype=bool)\n"
     ]
    }
   ],
   "source": [
    "# Create a and b; they will have the same name but will be backed by\n",
    "# different tensors.\n",
    "a = tf.Variable(my_tensor, name=\"Mark\")\n",
    "# A new variable with the same name, but different value\n",
    "# Note that the scalar add is broadcast\n",
    "b = tf.Variable(my_tensor + 1, name=\"Mark\")\n",
    "\n",
    "# These are elementwise-unequal, despite having the same name\n",
    "print(a == b)"
   ]
  },
  {
   "cell_type": "markdown",
   "metadata": {},
   "source": [
    "* 至於，為啥 variable 要命名？  這是因為在做 training 時， model 的每個 layer ，都會有自己的 name，這樣要 reload 之前存好的 weight 時，他會用 name 去對應和 recover\n",
    "* 通常，你也不用真的去命名，因為他會自動幫你命名一個 unique name  。\n",
    "* 另外，有些 variable 需要被微分，但有些不用 (例如 counter)，我們可以將 variable 中的 `trainable` 參數定為 False，之後就不會被自動求導。例如底下的例子："
   ]
  },
  {
   "cell_type": "code",
   "execution_count": 25,
   "metadata": {
    "id": "B5Sj1DqhbZvx",
    "tags": []
   },
   "outputs": [],
   "source": [
    "step_counter = tf.Variable(1, trainable=False)"
   ]
  },
  {
   "cell_type": "markdown",
   "metadata": {
    "id": "DD_xfDLDTDNU"
   },
   "source": [
    "## Placing variables and tensors"
   ]
  },
  {
   "cell_type": "markdown",
   "metadata": {},
   "source": [
    "* 通常來說，為了較好的計算速度， tensorflow 會將 tensors 和 variables 放到最快的裝置上做計算，也就是說，大多數的 variables 都會被放到 GPU 上。\n",
    "* 但你也可以 override 這個設定，下面給的例子，就是強迫把底下的計算，都放在 CPU 上執行"
   ]
  },
  {
   "cell_type": "code",
   "execution_count": 26,
   "metadata": {
    "id": "2SjpD7wVUSBJ",
    "tags": []
   },
   "outputs": [
    {
     "name": "stdout",
     "output_type": "stream",
     "text": [
      "tf.Tensor(\n",
      "[[22. 28.]\n",
      " [49. 64.]], shape=(2, 2), dtype=float32)\n"
     ]
    }
   ],
   "source": [
    "with tf.device('CPU:0'):\n",
    "\n",
    "  # Create some tensors\n",
    "  a = tf.Variable([[1.0, 2.0, 3.0], [4.0, 5.0, 6.0]])\n",
    "  b = tf.constant([[1.0, 2.0], [3.0, 4.0], [5.0, 6.0]])\n",
    "  c = tf.matmul(a, b)\n",
    "\n",
    "print(c)"
   ]
  },
  {
   "cell_type": "markdown",
   "metadata": {},
   "source": [
    "* 注意，儘管剛剛在設定是 ok 的，但還是建議使用 [distribution strategies](distributed_training.ipynb) 的建議，讓你的計算能被最佳化。"
   ]
  },
  {
   "cell_type": "markdown",
   "metadata": {
    "id": "PXbh-p2BXKcr"
   },
   "source": [
    "* 此外，你也可以將 tensor or variable \"放在\" 一個 device (e.g. CPU)，計算的時後再放到另一個 device (e.g. GPU)\n",
    "* 這樣做會造成一些 delay，因為 data needs to be copied between the devices.\n",
    "* 然而，你還是有機會要做這件事，例如，you had multiple GPU workers but only want one copy of the variables.\n",
    "* 底下來個例子："
   ]
  },
  {
   "cell_type": "code",
   "execution_count": 11,
   "metadata": {
    "execution": {
     "iopub.execute_input": "2022-04-27T01:32:59.852742Z",
     "iopub.status.busy": "2022-04-27T01:32:59.852529Z",
     "iopub.status.idle": "2022-04-27T01:32:59.859931Z",
     "shell.execute_reply": "2022-04-27T01:32:59.859324Z"
    },
    "id": "dgWHN3QSfNiQ"
   },
   "outputs": [
    {
     "name": "stdout",
     "output_type": "stream",
     "text": [
      "tf.Tensor(\n",
      "[[ 1.  4.  9.]\n",
      " [ 4. 10. 18.]], shape=(2, 3), dtype=float32)\n"
     ]
    }
   ],
   "source": [
    "with tf.device('CPU:0'):\n",
    "  a = tf.Variable([[1.0, 2.0, 3.0], [4.0, 5.0, 6.0]])\n",
    "  b = tf.Variable([[1.0, 2.0, 3.0]])\n",
    "\n",
    "with tf.device('GPU:0'):\n",
    "  # Element-wise multiply\n",
    "  k = a * b\n",
    "\n",
    "print(k)"
   ]
  },
  {
   "cell_type": "markdown",
   "metadata": {
    "id": "fksvRaqoYfay"
   },
   "source": [
    "Note: Because `tf.config.set_soft_device_placement` is turned on by default, even if you run this code on a device without a GPU, it will still run.  The multiplication step will happen on the CPU.\n",
    "\n",
    "For more on distributed training, refer to the [guide](distributed_training.ipynb)."
   ]
  },
  {
   "cell_type": "markdown",
   "metadata": {
    "id": "SzCkWlF2S4yo"
   },
   "source": [
    "## Next steps\n",
    "\n",
    "To understand how variables are typically used, see our guide on [automatic differentiation](autodiff.ipynb)."
   ]
  }
 ],
 "metadata": {
  "colab": {
   "collapsed_sections": [],
   "name": "variable.ipynb",
   "toc_visible": true
  },
  "kernelspec": {
   "display_name": "Python 3",
   "language": "python",
   "name": "python3"
  },
  "language_info": {
   "codemirror_mode": {
    "name": "ipython",
    "version": 3
   },
   "file_extension": ".py",
   "mimetype": "text/x-python",
   "name": "python",
   "nbconvert_exporter": "python",
   "pygments_lexer": "ipython3",
   "version": "3.8.0"
  }
 },
 "nbformat": 4,
 "nbformat_minor": 4
}