{
 "cells": [
  {
   "cell_type": "markdown",
   "metadata": {
    "id": "UkQwGmM64L88"
   },
   "source": [
    "# Pytorch Cheatsheet"
   ]
  },
  {
   "cell_type": "markdown",
   "metadata": {
    "id": "t2mIcaFQ4L9A"
   },
   "source": [
    "* settings"
   ]
  },
  {
   "cell_type": "code",
   "execution_count": 1,
   "metadata": {
    "colab": {
     "base_uri": "https://localhost:8080/"
    },
    "executionInfo": {
     "elapsed": 33333,
     "status": "ok",
     "timestamp": 1671629496799,
     "user": {
      "displayName": "Han-Yueh Lee",
      "userId": "16164657475335713235"
     },
     "user_tz": -480
    },
    "id": "zEROVAar4L9C",
    "outputId": "173ff722-413d-4b3f-eb3f-884984624eb9"
   },
   "outputs": [
    {
     "name": "stdout",
     "output_type": "stream",
     "text": [
      "Mounted at /content/drive\n"
     ]
    }
   ],
   "source": [
    "from google.colab import drive\n",
    "drive.mount('/content/drive')"
   ]
  },
  {
   "cell_type": "code",
   "execution_count": 2,
   "metadata": {
    "executionInfo": {
     "elapsed": 2021,
     "status": "ok",
     "timestamp": 1671629567419,
     "user": {
      "displayName": "Han-Yueh Lee",
      "userId": "16164657475335713235"
     },
     "user_tz": -480
    },
    "id": "1ND4WTmJ4L9D"
   },
   "outputs": [],
   "source": [
    "import os\n",
    "os.chdir(\"/content/drive/MyDrive/0. codepool_python/python_dl/mybook/pytorch\")"
   ]
  },
  {
   "cell_type": "code",
   "execution_count": 45,
   "metadata": {
    "executionInfo": {
     "elapsed": 3763,
     "status": "ok",
     "timestamp": 1671629573162,
     "user": {
      "displayName": "Han-Yueh Lee",
      "userId": "16164657475335713235"
     },
     "user_tz": -480
    },
    "id": "I2RfHMp54L9E"
   },
   "outputs": [],
   "source": [
    "import numpy as np\n",
    "import torch\n",
    "import matplotlib.pyplot as plt\n",
    "import math"
   ]
  },
  {
   "cell_type": "markdown",
   "metadata": {
    "id": "XOB3V12G4L9E"
   },
   "source": [
    "## Tensors"
   ]
  },
  {
   "cell_type": "markdown",
   "metadata": {},
   "source": [
    "### 建立 tensor 的方式"
   ]
  },
  {
   "cell_type": "markdown",
   "metadata": {},
   "source": [
    "#### torch.empty(), torch.zeros(), torch.ones(), torch.rand()"
   ]
  },
  {
   "cell_type": "code",
   "execution_count": 3,
   "metadata": {},
   "outputs": [
    {
     "name": "stdout",
     "output_type": "stream",
     "text": [
      "tensor([[0.0000e+00, -0.0000e+00, 0.0000e+00, -0.0000e+00],\n",
      "        [1.1210e-44, 0.0000e+00, 0.0000e+00, 0.0000e+00],\n",
      "        [0.0000e+00, 0.0000e+00, 0.0000e+00, 0.0000e+00]])\n"
     ]
    }
   ],
   "source": [
    "# 建立出指定 shape 的 placeholder\n",
    "x = torch.empty(3, 4)\n",
    "print(x)"
   ]
  },
  {
   "cell_type": "markdown",
   "metadata": {},
   "source": [
    "* 這些數字都是假的，實際上只是在 memory 上幫你開好 (3, 4) 這種 shape 的 placeholder  "
   ]
  },
  {
   "cell_type": "code",
   "execution_count": 5,
   "metadata": {},
   "outputs": [
    {
     "data": {
      "text/plain": [
       "tensor([[0., 0., 0.],\n",
       "        [0., 0., 0.]])"
      ]
     },
     "execution_count": 5,
     "metadata": {},
     "output_type": "execute_result"
    }
   ],
   "source": [
    "torch.zeros(2,3)"
   ]
  },
  {
   "cell_type": "code",
   "execution_count": 6,
   "metadata": {},
   "outputs": [
    {
     "data": {
      "text/plain": [
       "tensor([[1., 1., 1.],\n",
       "        [1., 1., 1.]])"
      ]
     },
     "execution_count": 6,
     "metadata": {},
     "output_type": "execute_result"
    }
   ],
   "source": [
    "torch.ones(2, 3)"
   ]
  },
  {
   "cell_type": "code",
   "execution_count": 9,
   "metadata": {},
   "outputs": [
    {
     "data": {
      "text/plain": [
       "tensor([[0.6128, 0.1519, 0.0453],\n",
       "        [0.5035, 0.9978, 0.3884]])"
      ]
     },
     "execution_count": 9,
     "metadata": {},
     "output_type": "execute_result"
    }
   ],
   "source": [
    "torch.rand(2, 3) # 生出 0~1 的隨機數"
   ]
  },
  {
   "cell_type": "markdown",
   "metadata": {},
   "source": [
    "#### torch.manual_seed()"
   ]
  },
  {
   "cell_type": "code",
   "execution_count": 8,
   "metadata": {},
   "outputs": [
    {
     "name": "stdout",
     "output_type": "stream",
     "text": [
      "tensor([[0.3126, 0.3791, 0.3087],\n",
      "        [0.0736, 0.4216, 0.0691]])\n",
      "tensor([[0.2332, 0.4047, 0.2162],\n",
      "        [0.9927, 0.4128, 0.5938]])\n",
      "tensor([[0.3126, 0.3791, 0.3087],\n",
      "        [0.0736, 0.4216, 0.0691]])\n",
      "tensor([[0.2332, 0.4047, 0.2162],\n",
      "        [0.9927, 0.4128, 0.5938]])\n"
     ]
    }
   ],
   "source": [
    "torch.manual_seed(1729)\n",
    "random1 = torch.rand(2, 3)\n",
    "print(random1)\n",
    "\n",
    "random2 = torch.rand(2, 3)\n",
    "print(random2)\n",
    "\n",
    "torch.manual_seed(1729)\n",
    "random3 = torch.rand(2, 3)\n",
    "print(random3)\n",
    "\n",
    "random4 = torch.rand(2, 3)\n",
    "print(random4)"
   ]
  },
  {
   "cell_type": "markdown",
   "metadata": {},
   "source": [
    "* 設 seed 後，接續的第一、第二...、第 n 次生成，結果會不同，但只要再設一次 seed，那結果就會和之前的第一、第二、...、第 n 次相同"
   ]
  },
  {
   "cell_type": "markdown",
   "metadata": {},
   "source": [
    "#### torch.empty_like(), torch.zeros_like(), torch.ones_like(), torch.rand_like()"
   ]
  },
  {
   "cell_type": "code",
   "execution_count": 10,
   "metadata": {},
   "outputs": [
    {
     "name": "stdout",
     "output_type": "stream",
     "text": [
      "torch.Size([2, 2, 3])\n",
      "tensor([[[0.0000e+00, -0.0000e+00, 0.0000e+00],\n",
      "         [-0.0000e+00, 5.6107e-18, 4.5901e-41]],\n",
      "\n",
      "        [[0.0000e+00, 0.0000e+00, 0.0000e+00],\n",
      "         [0.0000e+00,        nan, 0.0000e+00]]])\n",
      "torch.Size([2, 2, 3])\n",
      "tensor([[[ 0.0000e+00, -0.0000e+00,  8.3198e+01],\n",
      "         [-2.5250e-29,  2.1071e-08,  1.4013e-45]],\n",
      "\n",
      "        [[ 0.0000e+00,  0.0000e+00,  1.4013e-45],\n",
      "         [ 0.0000e+00,  2.0860e-13,  4.5901e-41]]])\n",
      "torch.Size([2, 2, 3])\n",
      "tensor([[[0., 0., 0.],\n",
      "         [0., 0., 0.]],\n",
      "\n",
      "        [[0., 0., 0.],\n",
      "         [0., 0., 0.]]])\n",
      "torch.Size([2, 2, 3])\n",
      "tensor([[[1., 1., 1.],\n",
      "         [1., 1., 1.]],\n",
      "\n",
      "        [[1., 1., 1.],\n",
      "         [1., 1., 1.]]])\n",
      "torch.Size([2, 2, 3])\n",
      "tensor([[[0.6929, 0.1703, 0.1384],\n",
      "         [0.4759, 0.7481, 0.0361]],\n",
      "\n",
      "        [[0.5062, 0.8469, 0.2588],\n",
      "         [0.2707, 0.4115, 0.6839]]])\n"
     ]
    }
   ],
   "source": [
    "x = torch.empty(2, 2, 3)\n",
    "print(x.shape)\n",
    "print(x)\n",
    "\n",
    "empty_like_x = torch.empty_like(x)\n",
    "print(empty_like_x.shape)\n",
    "print(empty_like_x)\n",
    "\n",
    "zeros_like_x = torch.zeros_like(x)\n",
    "print(zeros_like_x.shape)\n",
    "print(zeros_like_x)\n",
    "\n",
    "ones_like_x = torch.ones_like(x)\n",
    "print(ones_like_x.shape)\n",
    "print(ones_like_x)\n",
    "\n",
    "rand_like_x = torch.rand_like(x)\n",
    "print(rand_like_x.shape)\n",
    "print(rand_like_x)"
   ]
  },
  {
   "cell_type": "markdown",
   "metadata": {},
   "source": [
    "#### `dtype = torch.int16` and `tensor_obj.to(torch.int32)`"
   ]
  },
  {
   "cell_type": "markdown",
   "metadata": {},
   "source": [
    "* 常見的 dtype\n",
    "  * torch.bool\n",
    "  * torch.int8\n",
    "  * torch.uint8\n",
    "  * torch.int16\n",
    "  * torch.int32\n",
    "  * torch.int64\n",
    "  * torch.half\n",
    "  * torch.float\n",
    "  * torch.double"
   ]
  },
  {
   "cell_type": "markdown",
   "metadata": {},
   "source": [
    "* 建立想要的 dtype 的 3 種方式:  \n",
    "  * 直接給小數點. \n",
    "  * 用 dtype = ...  \n",
    "  * 用 tensor_obj.to(...)"
   ]
  },
  {
   "cell_type": "code",
   "execution_count": 11,
   "metadata": {},
   "outputs": [
    {
     "name": "stdout",
     "output_type": "stream",
     "text": [
      "tensor([[3.1416, 2.7183],\n",
      "        [1.6180, 0.0073]])\n",
      "tensor([ 2,  3,  5,  7, 11, 13, 17, 19])\n",
      "tensor([[2, 4, 6],\n",
      "        [3, 6, 9]])\n"
     ]
    }
   ],
   "source": [
    "# 直接給小數點\n",
    "\n",
    "some_constants = torch.tensor([[3.1415926, 2.71828], [1.61803, 0.0072897]])\n",
    "print(some_constants)\n",
    "\n",
    "some_integers = torch.tensor((2, 3, 5, 7, 11, 13, 17, 19))\n",
    "print(some_integers)\n",
    "\n",
    "more_integers = torch.tensor(((2, 4, 6), [3, 6, 9]))\n",
    "print(more_integers)\n"
   ]
  },
  {
   "cell_type": "code",
   "execution_count": 12,
   "metadata": {},
   "outputs": [
    {
     "name": "stdout",
     "output_type": "stream",
     "text": [
      "tensor([[1, 1, 1],\n",
      "        [1, 1, 1]], dtype=torch.int16)\n",
      "tensor([[11.2406, 11.2083, 11.6692],\n",
      "        [18.3283,  0.2118, 18.4972]], dtype=torch.float64)\n"
     ]
    }
   ],
   "source": [
    "# 指定 type\n",
    "a = torch.ones((2, 3), dtype=torch.int16)\n",
    "print(a)\n",
    "\n",
    "b = torch.rand((2, 3), dtype=torch.float64) * 20.\n",
    "print(b)"
   ]
  },
  {
   "cell_type": "code",
   "execution_count": 14,
   "metadata": {},
   "outputs": [
    {
     "name": "stdout",
     "output_type": "stream",
     "text": [
      "tensor([[11, 11, 11],\n",
      "        [18,  0, 18]], dtype=torch.int32)\n"
     ]
    }
   ],
   "source": [
    "# 轉換 type\n",
    "c = b.to(torch.int32)\n",
    "print(c)"
   ]
  },
  {
   "cell_type": "markdown",
   "metadata": {},
   "source": [
    "### tensor_obj.clone()"
   ]
  },
  {
   "cell_type": "markdown",
   "metadata": {},
   "source": [
    "* tensor 是 mutable 的："
   ]
  },
  {
   "cell_type": "code",
   "execution_count": 15,
   "metadata": {},
   "outputs": [
    {
     "name": "stdout",
     "output_type": "stream",
     "text": [
      "tensor([[  1., 561.],\n",
      "        [  1.,   1.]])\n"
     ]
    }
   ],
   "source": [
    "a = torch.ones(2, 2)\n",
    "b = a\n",
    "\n",
    "a[0][1] = 561  # we change a...\n",
    "print(b)       # ...and b is also altered"
   ]
  },
  {
   "cell_type": "markdown",
   "metadata": {},
   "source": [
    "* 所以記得用 tensro_obj.clone() 來做 copy (就是 df.copy() 的類似寫法)"
   ]
  },
  {
   "cell_type": "code",
   "execution_count": 16,
   "metadata": {},
   "outputs": [
    {
     "name": "stdout",
     "output_type": "stream",
     "text": [
      "tensor([[True, True],\n",
      "        [True, True]])\n",
      "tensor([[1., 1.],\n",
      "        [1., 1.]])\n"
     ]
    }
   ],
   "source": [
    "a = torch.ones(2, 2)\n",
    "b = a.clone()\n",
    "\n",
    "assert b is not a      # different objects in memory...\n",
    "print(torch.eq(a, b))  # ...but still with the same contents!\n",
    "\n",
    "a[0][1] = 561          # a changes...\n",
    "print(b)               # ...but b is still all ones"
   ]
  },
  {
   "cell_type": "markdown",
   "metadata": {},
   "source": [
    "### tensor_obj.detach()"
   ]
  },
  {
   "cell_type": "markdown",
   "metadata": {},
   "source": [
    "* .detach() 的意思，主要就是刪掉 gradient 紀錄  \n",
    "* 這主要是用在：\n",
    "  * NN 計算到一半時，你想拿某個中間產物，出去算一些暫時的結果，然後再回來. \n",
    "  * 這時，你不希望中間跑出去算的哪些過程，也被記錄下來，導致去做 backpropagation 時，還會更新到那些 gradient，進而影想到真正的 variable 的 gradient"
   ]
  },
  {
   "cell_type": "code",
   "execution_count": 17,
   "metadata": {},
   "outputs": [
    {
     "name": "stdout",
     "output_type": "stream",
     "text": [
      "tensor([[0.6865, 0.3614],\n",
      "        [0.6493, 0.2633]], requires_grad=True)\n",
      "tensor([[0.6865, 0.3614],\n",
      "        [0.6493, 0.2633]], grad_fn=<CloneBackward0>)\n",
      "tensor([[0.6865, 0.3614],\n",
      "        [0.6493, 0.2633]])\n",
      "tensor([[0.6865, 0.3614],\n",
      "        [0.6493, 0.2633]], requires_grad=True)\n"
     ]
    }
   ],
   "source": [
    "a = torch.rand(2, 2, requires_grad=True) # turn on autograd\n",
    "print(a)\n",
    "\n",
    "b = a.clone()\n",
    "print(b)\n",
    "\n",
    "c = a.detach().clone()\n",
    "print(c)\n",
    "\n",
    "print(a)"
   ]
  },
  {
   "cell_type": "markdown",
   "metadata": {},
   "source": [
    "* 解釋一下這邊發生的事：  \n",
    "  * 我們用 `requires_grad = True` 建立了 a ，所以去 print(a) 時，他告訴我們： requires_grad = True，表示 autograd 和 computation history tracking 都有被 turn on. \n",
    "  * 當我們單純把 a clone 到 b 時，他不僅繼承了 a 的 requires_grad，他也記錄了你的這次 computation history: clone，所以寫成 CloneBackward. \n",
    "  * 但如果我們先把 a detach，再把 a clone 給 c，就可以發現 c 乾乾淨淨的沒有任何 gradient 的痕跡。  \n",
    "  * `detach()` 會 detaches the tensor from its computation history。他等於在說：不管接下來你要做啥計算，都把 autograd 給關起來。"
   ]
  },
  {
   "cell_type": "markdown",
   "metadata": {},
   "source": [
    "### `tensor_obj.unsqueeze(dim=xx)` 增軸; `tensor_obj.squeeze(dim=xx)` 減軸"
   ]
  },
  {
   "cell_type": "markdown",
   "metadata": {},
   "source": [
    "* 我們常常想把單一一張 img 的 shape，增軸成 batch = 1 的一張 img (i.e. 把 shape = (3, 266, 266) 增軸成 (1, 3, 266, 266))\n",
    "* 那 unsqueeze 就是增軸，例如這邊，我想增在 第 0 軸"
   ]
  },
  {
   "cell_type": "code",
   "execution_count": 21,
   "metadata": {},
   "outputs": [
    {
     "name": "stdout",
     "output_type": "stream",
     "text": [
      "torch.Size([3, 226, 226])\n",
      "torch.Size([1, 3, 226, 226])\n"
     ]
    }
   ],
   "source": [
    "a = torch.rand(3, 226, 226)\n",
    "print(a.shape)\n",
    "\n",
    "b = a.unsqueeze(dim = 0)\n",
    "print(b.shape)"
   ]
  },
  {
   "cell_type": "markdown",
   "metadata": {},
   "source": [
    "* 相反的，我們有時候拿到帶有 batch 資訊的資料時，我們想把他 un-batch. \n",
    "* 例如，我拿到 shape = (1, 1) 的 output，但最前面的 1 其實是 batch_size，他就等於 1 而已. \n",
    "* 我想把他拔掉，就用 squeeze"
   ]
  },
  {
   "cell_type": "code",
   "execution_count": 22,
   "metadata": {},
   "outputs": [
    {
     "name": "stdout",
     "output_type": "stream",
     "text": [
      "tensor([[0.6759]])\n",
      "torch.Size([1, 1])\n",
      "tensor([0.6759])\n",
      "torch.Size([1])\n"
     ]
    }
   ],
   "source": [
    "a = torch.rand(1,1)\n",
    "print(a)\n",
    "print(a.shape)\n",
    "\n",
    "b = a.squeeze(dim = 0)\n",
    "print(b)\n",
    "print(b.shape)"
   ]
  },
  {
   "cell_type": "code",
   "execution_count": 23,
   "metadata": {},
   "outputs": [
    {
     "name": "stdout",
     "output_type": "stream",
     "text": [
      "torch.Size([1, 20])\n",
      "tensor([[0.0746, 0.2186, 0.8389, 0.3639, 0.2582, 0.1838, 0.3514, 0.2332, 0.5520,\n",
      "         0.4285, 0.5416, 0.2346, 0.0468, 0.4869, 0.5096, 0.9663, 0.0631, 0.1065,\n",
      "         0.7211, 0.5715]])\n",
      "torch.Size([20])\n",
      "tensor([0.0746, 0.2186, 0.8389, 0.3639, 0.2582, 0.1838, 0.3514, 0.2332, 0.5520,\n",
      "        0.4285, 0.5416, 0.2346, 0.0468, 0.4869, 0.5096, 0.9663, 0.0631, 0.1065,\n",
      "        0.7211, 0.5715])\n"
     ]
    }
   ],
   "source": [
    "a = torch.rand(1, 20)\n",
    "print(a.shape)\n",
    "print(a)\n",
    "\n",
    "b = a.squeeze(0)\n",
    "print(b.shape)\n",
    "print(b)"
   ]
  },
  {
   "cell_type": "markdown",
   "metadata": {},
   "source": [
    "* pytorch 很聰明的，如果你的原始軸不是 1 ，他不會幫你 squeeze，例如下例就沒改變任何東西："
   ]
  },
  {
   "cell_type": "code",
   "execution_count": 26,
   "metadata": {},
   "outputs": [
    {
     "name": "stdout",
     "output_type": "stream",
     "text": [
      "tensor([[0.1736, 0.8499],\n",
      "        [0.9200, 0.4837]])\n",
      "torch.Size([2, 2])\n",
      "tensor([[0.1736, 0.8499],\n",
      "        [0.9200, 0.4837]])\n",
      "torch.Size([2, 2])\n"
     ]
    }
   ],
   "source": [
    "c = torch.rand(2, 2)\n",
    "print(c)\n",
    "print(c.shape)\n",
    "\n",
    "d = c.squeeze(0)\n",
    "print(d)\n",
    "print(d.shape)"
   ]
  },
  {
   "cell_type": "markdown",
   "metadata": {
    "id": "2o2S6Y8E4h9_"
   },
   "source": [
    "### Moving to GPU"
   ]
  },
  {
   "cell_type": "code",
   "execution_count": 4,
   "metadata": {
    "colab": {
     "base_uri": "https://localhost:8080/"
    },
    "executionInfo": {
     "elapsed": 5,
     "status": "ok",
     "timestamp": 1671629637438,
     "user": {
      "displayName": "Han-Yueh Lee",
      "userId": "16164657475335713235"
     },
     "user_tz": -480
    },
    "id": "JSSZNWQs4L9E",
    "outputId": "a7e807b9-8a7c-4978-9ba8-cb6b217edf55"
   },
   "outputs": [
    {
     "data": {
      "text/plain": [
       "device(type='cuda')"
      ]
     },
     "execution_count": 4,
     "metadata": {},
     "output_type": "execute_result"
    }
   ],
   "source": [
    "device = torch.device('cuda') if torch.cuda.is_available else torch.device('cpu')\n",
    "device"
   ]
  },
  {
   "cell_type": "markdown",
   "metadata": {
    "id": "-55p_x0t5Jze"
   },
   "source": [
    "* 建立時直接指定 device"
   ]
  },
  {
   "cell_type": "code",
   "execution_count": 5,
   "metadata": {
    "colab": {
     "base_uri": "https://localhost:8080/"
    },
    "executionInfo": {
     "elapsed": 5443,
     "status": "ok",
     "timestamp": 1671629710811,
     "user": {
      "displayName": "Han-Yueh Lee",
      "userId": "16164657475335713235"
     },
     "user_tz": -480
    },
    "id": "iUAk15vv5Hl5",
    "outputId": "b9a3d2e8-3c10-4fd8-fb17-4342f76cef88"
   },
   "outputs": [
    {
     "data": {
      "text/plain": [
       "tensor([[0.1151, 0.3213],\n",
       "        [0.0268, 0.3337]], device='cuda:0')"
      ]
     },
     "execution_count": 5,
     "metadata": {},
     "output_type": "execute_result"
    }
   ],
   "source": [
    "x = torch.rand(2, 2, device = device)\n",
    "x"
   ]
  },
  {
   "cell_type": "markdown",
   "metadata": {
    "id": "d3o9kLzu5h_n"
   },
   "source": [
    "* 確認 目前變數的 device"
   ]
  },
  {
   "cell_type": "code",
   "execution_count": 9,
   "metadata": {
    "colab": {
     "base_uri": "https://localhost:8080/"
    },
    "executionInfo": {
     "elapsed": 487,
     "status": "ok",
     "timestamp": 1671629795001,
     "user": {
      "displayName": "Han-Yueh Lee",
      "userId": "16164657475335713235"
     },
     "user_tz": -480
    },
    "id": "A4i_sH1A5lfF",
    "outputId": "b93310cc-047a-409c-b7af-3b53eed0c691"
   },
   "outputs": [
    {
     "data": {
      "text/plain": [
       "device(type='cuda', index=0)"
      ]
     },
     "execution_count": 9,
     "metadata": {},
     "output_type": "execute_result"
    }
   ],
   "source": [
    "x.device"
   ]
  },
  {
   "cell_type": "markdown",
   "metadata": {
    "id": "iPAcUxkG5R6F"
   },
   "source": [
    "* 轉換 device"
   ]
  },
  {
   "cell_type": "code",
   "execution_count": 10,
   "metadata": {
    "colab": {
     "base_uri": "https://localhost:8080/"
    },
    "executionInfo": {
     "elapsed": 544,
     "status": "ok",
     "timestamp": 1671629860010,
     "user": {
      "displayName": "Han-Yueh Lee",
      "userId": "16164657475335713235"
     },
     "user_tz": -480
    },
    "id": "Kp3C1SRK5Uv6",
    "outputId": "b29bfe91-a286-4f51-b077-2ec53a4cad92"
   },
   "outputs": [
    {
     "name": "stdout",
     "output_type": "stream",
     "text": [
      "cpu\n",
      "cuda:0\n",
      "cpu\n"
     ]
    }
   ],
   "source": [
    "y1 = torch.rand(2, 2)\n",
    "print(y1.device)\n",
    "\n",
    "y2 = y1.to(device)\n",
    "print(y2.device)\n",
    "\n",
    "y3 = y2.to(torch.device(\"cpu\"))\n",
    "print(y3.device)"
   ]
  },
  {
   "cell_type": "markdown",
   "metadata": {
    "id": "TN5cx7a6581J"
   },
   "source": [
    "* tensor 做計算時，必須在同一個 device 上才能算 (都在 GPU or 都在 CPU)"
   ]
  },
  {
   "cell_type": "code",
   "execution_count": 11,
   "metadata": {
    "colab": {
     "base_uri": "https://localhost:8080/",
     "height": 205
    },
    "executionInfo": {
     "elapsed": 755,
     "status": "error",
     "timestamp": 1671629928941,
     "user": {
      "displayName": "Han-Yueh Lee",
      "userId": "16164657475335713235"
     },
     "user_tz": -480
    },
    "id": "jdFDlqL56D8k",
    "outputId": "2815e591-4d2b-41d4-f7e4-2bea7b13c657"
   },
   "outputs": [
    {
     "ename": "RuntimeError",
     "evalue": "ignored",
     "output_type": "error",
     "traceback": [
      "\u001b[0;31m---------------------------------------------------------------------------\u001b[0m",
      "\u001b[0;31mRuntimeError\u001b[0m                              Traceback (most recent call last)",
      "\u001b[0;32m<ipython-input-11-7d8d3d884488>\u001b[0m in \u001b[0;36m<module>\u001b[0;34m\u001b[0m\n\u001b[1;32m      1\u001b[0m \u001b[0mx\u001b[0m \u001b[0;34m=\u001b[0m \u001b[0mtorch\u001b[0m\u001b[0;34m.\u001b[0m\u001b[0mrand\u001b[0m\u001b[0;34m(\u001b[0m\u001b[0;36m2\u001b[0m\u001b[0;34m,\u001b[0m \u001b[0;36m2\u001b[0m\u001b[0;34m)\u001b[0m\u001b[0;34m\u001b[0m\u001b[0;34m\u001b[0m\u001b[0m\n\u001b[0;32m----> 2\u001b[0;31m \u001b[0my\u001b[0m \u001b[0;34m=\u001b[0m \u001b[0mtorch\u001b[0m\u001b[0;34m.\u001b[0m\u001b[0mrand\u001b[0m\u001b[0;34m(\u001b[0m\u001b[0;36m2\u001b[0m\u001b[0;34m,\u001b[0m \u001b[0;36m2\u001b[0m\u001b[0;34m,\u001b[0m \u001b[0mdevice\u001b[0m\u001b[0;34m=\u001b[0m\u001b[0;34m'gpu'\u001b[0m\u001b[0;34m)\u001b[0m\u001b[0;34m\u001b[0m\u001b[0;34m\u001b[0m\u001b[0m\n\u001b[0m\u001b[1;32m      3\u001b[0m \u001b[0mz\u001b[0m \u001b[0;34m=\u001b[0m \u001b[0mx\u001b[0m \u001b[0;34m+\u001b[0m \u001b[0my\u001b[0m  \u001b[0;31m# exception will be thrown\u001b[0m\u001b[0;34m\u001b[0m\u001b[0;34m\u001b[0m\u001b[0m\n",
      "\u001b[0;31mRuntimeError\u001b[0m: Expected one of cpu, cuda, ipu, xpu, mkldnn, opengl, opencl, ideep, hip, ve, fpga, ort, xla, lazy, vulkan, mps, meta, hpu, privateuseone device type at start of device string: gpu"
     ]
    }
   ],
   "source": [
    "x = torch.rand(2, 2)\n",
    "y = torch.rand(2, 2, device='gpu')\n",
    "z = x + y  # exception will be thrown"
   ]
  },
  {
   "cell_type": "markdown",
   "metadata": {},
   "source": [
    "### `torch.from_numpy(np_array)` and `tensor_obj.clone().numpy()`"
   ]
  },
  {
   "cell_type": "markdown",
   "metadata": {},
   "source": [
    "* 把 numpy 改成 tensor 的目的：  \n",
    "  * 可以放到 GPU 上加速  \n",
    "  * 可以做 autograd. \n",
    "* 把 tensor 改成 numpy 的目的：  \n",
    "  * 做些中途的計算 & 產出，但不會涉及到 gradient 紀錄. \n",
    "  * 特別小心，如果直接用 `tensor_obj.numpy()`，那他們是共享同個記憶體，是 mutable 的，所以改動 numpy 時，會影響到 tensor。所以才要先 clone() 再 numpy() (至於 detach 就不必要了，因為當你轉成 numpy 時，本來就不會有 gradient 紀錄了)"
   ]
  },
  {
   "cell_type": "code",
   "execution_count": 27,
   "metadata": {},
   "outputs": [
    {
     "name": "stdout",
     "output_type": "stream",
     "text": [
      "[[1. 1. 1.]\n",
      " [1. 1. 1.]]\n",
      "tensor([[1., 1., 1.],\n",
      "        [1., 1., 1.]], dtype=torch.float64)\n"
     ]
    }
   ],
   "source": [
    "import numpy as np\n",
    "\n",
    "numpy_array = np.ones((2, 3))\n",
    "print(numpy_array)\n",
    "\n",
    "pytorch_tensor = torch.from_numpy(numpy_array)\n",
    "print(pytorch_tensor)"
   ]
  },
  {
   "cell_type": "markdown",
   "metadata": {},
   "source": [
    "* 直接做 `tensor_obj.numpy()`，那會是 mutable，改一個，影響另一個："
   ]
  },
  {
   "cell_type": "code",
   "execution_count": 38,
   "metadata": {},
   "outputs": [
    {
     "name": "stdout",
     "output_type": "stream",
     "text": [
      "tensor([[0.7552, 0.4874, 0.7107],\n",
      "        [0.6109, 0.6544, 0.7272]])\n",
      "[[0.7551676 0.4873578 0.7107467]\n",
      " [0.6108871 0.6544106 0.7271516]]\n"
     ]
    }
   ],
   "source": [
    "pytorch_rand = torch.rand(2, 3)\n",
    "print(pytorch_rand)\n",
    "\n",
    "numpy_rand = pytorch_rand.numpy()\n",
    "print(numpy_rand)"
   ]
  },
  {
   "cell_type": "code",
   "execution_count": 39,
   "metadata": {},
   "outputs": [
    {
     "name": "stdout",
     "output_type": "stream",
     "text": [
      "tensor([[ 1.,  1.,  1.],\n",
      "        [ 1., 23.,  1.]], dtype=torch.float64)\n",
      "[[ 0.7551676  0.4873578  0.7107467]\n",
      " [ 0.6108871 17.         0.7271516]]\n"
     ]
    }
   ],
   "source": [
    "numpy_array[1, 1] = 23\n",
    "print(pytorch_tensor)\n",
    "\n",
    "pytorch_rand[1, 1] = 17\n",
    "print(numpy_rand)"
   ]
  },
  {
   "cell_type": "markdown",
   "metadata": {},
   "source": [
    "* 但如果先 clone 再 .numpy，那就是不同記憶體了，彼此不影響："
   ]
  },
  {
   "cell_type": "code",
   "execution_count": 40,
   "metadata": {},
   "outputs": [
    {
     "name": "stdout",
     "output_type": "stream",
     "text": [
      "tensor([[0.3561, 0.8712, 0.8384],\n",
      "        [0.5608, 0.1938, 0.8030]])\n",
      "[[0.3561455  0.87122315 0.83837247]\n",
      " [0.560761   0.19379157 0.80295706]]\n"
     ]
    }
   ],
   "source": [
    "pytorch_rand = torch.rand(2, 3)\n",
    "print(pytorch_rand)\n",
    "\n",
    "numpy_rand = pytorch_rand.clone().numpy()\n",
    "print(numpy_rand)"
   ]
  },
  {
   "cell_type": "code",
   "execution_count": 41,
   "metadata": {},
   "outputs": [
    {
     "name": "stdout",
     "output_type": "stream",
     "text": [
      "tensor([[ 1.,  1.,  1.],\n",
      "        [ 1., 23.,  1.]], dtype=torch.float64)\n",
      "[[0.3561455  0.87122315 0.83837247]\n",
      " [0.560761   0.19379157 0.80295706]]\n"
     ]
    }
   ],
   "source": [
    "numpy_array[1, 1] = 23\n",
    "print(pytorch_tensor)\n",
    "\n",
    "pytorch_rand[1, 1] = 17\n",
    "print(numpy_rand)"
   ]
  },
  {
   "cell_type": "markdown",
   "metadata": {},
   "source": [
    "### 常用數學計算"
   ]
  },
  {
   "cell_type": "code",
   "execution_count": 42,
   "metadata": {},
   "outputs": [
    {
     "name": "stdout",
     "output_type": "stream",
     "text": [
      "tensor([[1., 1.],\n",
      "        [1., 1.]])\n",
      "tensor([[2., 2.],\n",
      "        [2., 2.]])\n",
      "tensor([[3., 3.],\n",
      "        [3., 3.]])\n",
      "tensor([[4., 4.],\n",
      "        [4., 4.]])\n",
      "tensor([[1.4142, 1.4142],\n",
      "        [1.4142, 1.4142]])\n"
     ]
    }
   ],
   "source": [
    "ones = torch.zeros(2, 2) + 1\n",
    "twos = torch.ones(2, 2) * 2\n",
    "threes = (torch.ones(2, 2) * 7 - 1) / 2\n",
    "fours = twos ** 2 # 次方計算\n",
    "sqrt2s = twos ** 0.5 # 開根號\n",
    "\n",
    "print(ones)\n",
    "print(twos)\n",
    "print(threes)\n",
    "print(fours)\n",
    "print(sqrt2s)"
   ]
  },
  {
   "cell_type": "code",
   "execution_count": 43,
   "metadata": {},
   "outputs": [
    {
     "name": "stdout",
     "output_type": "stream",
     "text": [
      "Common functions:\n",
      "tensor([[0.8304, 0.7952, 0.6749, 0.4929],\n",
      "        [0.4727, 0.2614, 0.9301, 0.8193]])\n",
      "tensor([[-0., -0., -0., -0.],\n",
      "        [1., 1., -0., -0.]])\n",
      "tensor([[-1., -1., -1., -1.],\n",
      "        [ 0.,  0., -1., -1.]])\n",
      "tensor([[-0.5000, -0.5000, -0.5000, -0.4929],\n",
      "        [ 0.4727,  0.2614, -0.5000, -0.5000]])\n"
     ]
    }
   ],
   "source": [
    "# common functions\n",
    "a = torch.rand(2, 4) * 2 - 1\n",
    "print('Common functions:')\n",
    "print(torch.abs(a))\n",
    "print(torch.ceil(a))\n",
    "print(torch.floor(a))\n",
    "print(torch.clamp(a, -0.5, 0.5))"
   ]
  },
  {
   "cell_type": "code",
   "execution_count": 46,
   "metadata": {},
   "outputs": [
    {
     "name": "stdout",
     "output_type": "stream",
     "text": [
      "\n",
      "Sine and arcsine:\n",
      "tensor([0.0000, 0.7854, 1.5708, 2.3562])\n",
      "tensor([0.0000, 0.7071, 1.0000, 0.7071])\n",
      "tensor([0.0000, 0.7854, 1.5708, 0.7854])\n"
     ]
    }
   ],
   "source": [
    "# trigonometric functions and their inverses\n",
    "angles = torch.tensor([0, math.pi / 4, math.pi / 2, 3 * math.pi / 4])\n",
    "sines = torch.sin(angles)\n",
    "inverses = torch.asin(sines)\n",
    "print('\\nSine and arcsine:')\n",
    "print(angles)\n",
    "print(sines)\n",
    "print(inverses)"
   ]
  },
  {
   "cell_type": "code",
   "execution_count": 47,
   "metadata": {},
   "outputs": [
    {
     "name": "stdout",
     "output_type": "stream",
     "text": [
      "\n",
      "Bitwise XOR:\n",
      "tensor([3, 2, 1])\n"
     ]
    }
   ],
   "source": [
    "# bitwise operations\n",
    "print('\\nBitwise XOR:')\n",
    "b = torch.tensor([1, 5, 11])\n",
    "c = torch.tensor([2, 7, 10])\n",
    "print(torch.bitwise_xor(b, c))"
   ]
  },
  {
   "cell_type": "code",
   "execution_count": 48,
   "metadata": {},
   "outputs": [
    {
     "name": "stdout",
     "output_type": "stream",
     "text": [
      "\n",
      "Broadcasted, element-wise equality comparison:\n",
      "tensor([[ True, False],\n",
      "        [False, False]])\n"
     ]
    }
   ],
   "source": [
    "# comparisons:\n",
    "print('\\nBroadcasted, element-wise equality comparison:')\n",
    "d = torch.tensor([[1., 2.], [3., 4.]])\n",
    "e = torch.ones(1, 2)  # many comparison ops support broadcasting!\n",
    "print(torch.eq(d, e)) # returns a tensor of type bool"
   ]
  },
  {
   "cell_type": "code",
   "execution_count": 49,
   "metadata": {},
   "outputs": [
    {
     "name": "stdout",
     "output_type": "stream",
     "text": [
      "\n",
      "Reduction ops:\n",
      "tensor(4.)\n",
      "4.0\n",
      "tensor(2.5000)\n",
      "tensor(1.2910)\n",
      "tensor(24.)\n",
      "tensor([1, 2])\n"
     ]
    }
   ],
   "source": [
    "# reductions:\n",
    "print('\\nReduction ops:')\n",
    "print(torch.max(d))        # returns a single-element tensor\n",
    "print(torch.max(d).item()) # extracts the value from the returned tensor\n",
    "print(torch.mean(d))       # average\n",
    "print(torch.std(d))        # standard deviation\n",
    "print(torch.prod(d))       # product of all numbers\n",
    "print(torch.unique(torch.tensor([1, 2, 1, 2, 1, 2]))) # filter unique elements"
   ]
  },
  {
   "cell_type": "code",
   "execution_count": 50,
   "metadata": {},
   "outputs": [
    {
     "name": "stdout",
     "output_type": "stream",
     "text": [
      "\n",
      "Vectors & Matrices:\n",
      "tensor([ 0.,  0., -1.])\n",
      "tensor([[0.0685, 0.9392],\n",
      "        [0.2532, 0.6231]])\n",
      "tensor([[0.2055, 2.8177],\n",
      "        [0.7597, 1.8692]])\n",
      "torch.return_types.svd(\n",
      "U=tensor([[-0.8183, -0.5748],\n",
      "        [-0.5748,  0.8183]]),\n",
      "S=tensor([3.4338, 0.5115]),\n",
      "V=tensor([[-0.1762,  0.9844],\n",
      "        [-0.9844, -0.1762]]))\n"
     ]
    }
   ],
   "source": [
    "# vector and linear algebra operations\n",
    "v1 = torch.tensor([1., 0., 0.])         # x unit vector\n",
    "v2 = torch.tensor([0., 1., 0.])         # y unit vector\n",
    "m1 = torch.rand(2, 2)                   # random matrix\n",
    "m2 = torch.tensor([[3., 0.], [0., 3.]]) # three times identity matrix\n",
    "\n",
    "print('\\nVectors & Matrices:')\n",
    "print(torch.cross(v2, v1)) # negative of z unit vector (v1 x v2 == -v2 x v1)\n",
    "print(m1)\n",
    "m3 = torch.matmul(m1, m2)\n",
    "print(m3)                  # 3 times m1\n",
    "print(torch.svd(m3))       # singular value decomposition"
   ]
  },
  {
   "cell_type": "markdown",
   "metadata": {
    "id": "yIS0ljOL4L9F"
   },
   "source": [
    "## 自動微分"
   ]
  },
  {
   "cell_type": "markdown",
   "metadata": {
    "id": "FT1crLmW4L9F"
   },
   "source": []
  },
  {
   "cell_type": "markdown",
   "metadata": {
    "id": "dcf7Osi64L9G"
   },
   "source": [
    "## Data preparation"
   ]
  },
  {
   "cell_type": "markdown",
   "metadata": {
    "id": "KPb52zVD4L9G"
   },
   "source": [
    "### Dataset - 自訂 class"
   ]
  },
  {
   "cell_type": "code",
   "execution_count": null,
   "metadata": {
    "id": "MnqOFGvr4L9H"
   },
   "outputs": [],
   "source": [
    "from torch.utils.data import Dataset\n",
    "\n",
    "class MyDataset(Dataset):\n",
    "    def __init__(self, feature_matrix, label_vector):             # 把資料存進 class object\n",
    "        self.feature_matrix = feature_matrix\n",
    "        self.label_vector = label_vector\n",
    "    def __len__(self):\n",
    "        assert len(self.feature_matrix) == len(self.label_vector) # 確定資料有互相對應\n",
    "        return len(self.feature_matrix)\n",
    "    def __getitem__(self, idx):                     # 定義我們需要取得某筆資料的方式\n",
    "        return self.feature_matrix[idx], self.label_vector[idx]"
   ]
  },
  {
   "cell_type": "code",
   "execution_count": null,
   "metadata": {
    "id": "SdXZbeAZ4L9I",
    "outputId": "5ca2722c-855c-4fe6-bf5e-db0536957600"
   },
   "outputs": [
    {
     "data": {
      "text/plain": [
       "((100, 100, 1), (10,))"
      ]
     },
     "execution_count": 14,
     "metadata": {},
     "output_type": "execute_result"
    }
   ],
   "source": [
    "# 測試看看\n",
    "\n",
    "X = np.random.rand(1000, 100, 100, 1)   # 虛構 1000 張 100 x 100 單色圖片\n",
    "Y = np.random.randint(0, 7, [1000, 10]) # 虛構 1000 個 labels\n",
    "\n",
    "my_dataset = MyDataset(X.astype(np.float32), Y.astype(np.float32))\n",
    "taken_x, taken_y = my_dataset[0] # 取得第一筆資料\n",
    "taken_x.shape, taken_y.shape"
   ]
  },
  {
   "cell_type": "markdown",
   "metadata": {
    "id": "XWDIwPoS4L9J"
   },
   "source": [
    "### Dataset - 直接用 `TensorDataset`"
   ]
  },
  {
   "cell_type": "code",
   "execution_count": null,
   "metadata": {
    "id": "o06ryKhX4L9K"
   },
   "outputs": [],
   "source": [
    "from torch.utils.data import TensorDataset\n",
    "\n",
    "# 手上有的資料，先轉成 Tensor\n",
    "X = np.random.rand(1000, 100, 100, 1)   # 虛構 1000 張 100 x 100 單色圖片\n",
    "Y = np.random.randint(0, 7, [1000, 10]) # 虛構 1000 個 labels\n",
    "tsrX, tsrY = torch.tensor(X), torch.tensor(Y)\n",
    "\n",
    "# 餵到 TensorDataset 裡面\n",
    "tsrdataset = TensorDataset(tsrX, tsrY)"
   ]
  },
  {
   "cell_type": "code",
   "execution_count": null,
   "metadata": {
    "id": "ufHwGTIi4L9K",
    "outputId": "e9f57751-904a-46c2-b210-f38d96b5310d"
   },
   "outputs": [
    {
     "name": "stdout",
     "output_type": "stream",
     "text": [
      "1000\n",
      "torch.Size([100, 100, 1]) torch.Size([10])\n"
     ]
    }
   ],
   "source": [
    "# 幾個重要的用法\n",
    "print(tsrdataset.__len__()) # 幾張圖\n",
    "taken_x, taken_y = tsrdataset[0] # 取得第一筆資料\n",
    "print(taken_x.shape, taken_y.shape)"
   ]
  },
  {
   "cell_type": "markdown",
   "metadata": {
    "id": "5t_vRU-64L9L"
   },
   "source": [
    "### DataLoader"
   ]
  },
  {
   "cell_type": "code",
   "execution_count": null,
   "metadata": {
    "id": "iccIfheQ4L9L",
    "outputId": "9b8f70f9-7091-4532-85ac-7f45dfa9bef0"
   },
   "outputs": [
    {
     "name": "stdout",
     "output_type": "stream",
     "text": [
      "(torch.Size([4, 100, 100, 1]), torch.Size([4, 10]))\n"
     ]
    }
   ],
   "source": [
    "from torch.utils.data import DataLoader\n",
    "\n",
    "# 將 dataset 包裝成 dataloader\n",
    "my_dataloader = DataLoader(\n",
    "    my_dataset, \n",
    "    batch_size=4,\n",
    "    shuffle=True #, \n",
    "    # num_workers=4\n",
    ")\n",
    "\n",
    "# 跑一個 loop 確認拿到的 batch 是否正確\n",
    "for batch_x, batch_y in my_dataloader:\n",
    "    print((batch_x.shape, batch_y.shape))\n",
    "    break"
   ]
  },
  {
   "cell_type": "markdown",
   "metadata": {
    "id": "3S44x0TW4L9M"
   },
   "source": [
    "### 內建 dataset"
   ]
  },
  {
   "cell_type": "markdown",
   "metadata": {
    "id": "VOq2f30o4L9M"
   },
   "source": [
    "#### 圖片類"
   ]
  },
  {
   "cell_type": "markdown",
   "metadata": {
    "id": "_U4u4tgo4L9N"
   },
   "source": [
    "##### 無 transform"
   ]
  },
  {
   "cell_type": "code",
   "execution_count": null,
   "metadata": {
    "id": "9UZNPk0a4L9N"
   },
   "outputs": [],
   "source": [
    "import torchvision\n",
    "\n",
    "# dataset\n",
    "mnist_train = torchvision.datasets.FashionMNIST(\n",
    "    root=\"data\", train=True, download=True)\n",
    "mnist_test = torchvision.datasets.FashionMNIST(\n",
    "    root=\"data\", train=False, download=True)"
   ]
  },
  {
   "cell_type": "markdown",
   "metadata": {
    "id": "A_NFTcGJ4L9N"
   },
   "source": [
    "* 此時為 dataset 格式"
   ]
  },
  {
   "cell_type": "code",
   "execution_count": null,
   "metadata": {
    "id": "7os5wKxB4L9O",
    "outputId": "0063e6cb-47f9-475d-8259-a3b27bc84bab"
   },
   "outputs": [
    {
     "data": {
      "text/plain": [
       "Dataset FashionMNIST\n",
       "    Number of datapoints: 60000\n",
       "    Root location: data\n",
       "    Split: Train"
      ]
     },
     "execution_count": 32,
     "metadata": {},
     "output_type": "execute_result"
    }
   ],
   "source": [
    "mnist_train"
   ]
  },
  {
   "cell_type": "markdown",
   "metadata": {
    "id": "ALktl29f4L9P"
   },
   "source": [
    "* 用 index 可以取資料"
   ]
  },
  {
   "cell_type": "code",
   "execution_count": null,
   "metadata": {
    "id": "hqeJNYn64L9P"
   },
   "outputs": [],
   "source": [
    "x, y = mnist_train[0] # 第 0 筆"
   ]
  },
  {
   "cell_type": "markdown",
   "metadata": {
    "id": "m_SlrD8Z4L9P"
   },
   "source": [
    "* x 會是 PIL 物件, y 是 lab"
   ]
  },
  {
   "cell_type": "code",
   "execution_count": null,
   "metadata": {
    "id": "NsSFnSBN4L9P",
    "outputId": "e516b8f1-608f-4278-cf96-7e1f7d8bd890"
   },
   "outputs": [
    {
     "data": {
      "text/plain": [
       "PIL.Image.Image"
      ]
     },
     "execution_count": 37,
     "metadata": {},
     "output_type": "execute_result"
    }
   ],
   "source": [
    "type(x)"
   ]
  },
  {
   "cell_type": "code",
   "execution_count": null,
   "metadata": {
    "id": "owGAU_LU4L9Q",
    "outputId": "d8f8433a-080a-4728-e1c5-02f27fc55050"
   },
   "outputs": [
    {
     "data": {
      "image/png": "[encoded data removed]",
      "text/plain": [
       "<PIL.Image.Image image mode=L size=28x28 at 0x13D41C100>"
      ]
     },
     "execution_count": 38,
     "metadata": {},
     "output_type": "execute_result"
    }
   ],
   "source": [
    "x"
   ]
  },
  {
   "cell_type": "code",
   "execution_count": null,
   "metadata": {
    "id": "-hRV0llv4L9Q",
    "outputId": "512d51ee-159d-4a9e-f6c5-1acbd1212c37"
   },
   "outputs": [
    {
     "data": {
      "image/png": "[encoded data removed]",
      "text/plain": [
       "<Figure size 432x288 with 1 Axes>"
      ]
     },
     "metadata": {
      "needs_background": "light"
     },
     "output_type": "display_data"
    }
   ],
   "source": [
    "plt.imshow(x);"
   ]
  },
  {
   "cell_type": "code",
   "execution_count": null,
   "metadata": {
    "id": "P-CYSZo94L9R",
    "outputId": "a873f759-1efc-4ec2-e1e1-2b76e8fee425"
   },
   "outputs": [
    {
     "data": {
      "text/plain": [
       "9"
      ]
     },
     "execution_count": 8,
     "metadata": {},
     "output_type": "execute_result"
    }
   ],
   "source": [
    "y"
   ]
  },
  {
   "cell_type": "markdown",
   "metadata": {
    "id": "UPPirh4p4L9S"
   },
   "source": [
    "* 可以把 x 轉成 numpy 看看："
   ]
  },
  {
   "cell_type": "code",
   "execution_count": null,
   "metadata": {
    "id": "v0AfEt_y4L9S",
    "outputId": "607f16c5-123e-4d0a-f20e-52bbde7e1b07"
   },
   "outputs": [
    {
     "name": "stdout",
     "output_type": "stream",
     "text": [
      "(28, 28)\n",
      "uint8\n",
      "0\n",
      "255\n"
     ]
    }
   ],
   "source": [
    "x_array = np.asarray(x)\n",
    "print(x_array.shape)\n",
    "print(x_array.dtype)\n",
    "print(x_array.min())\n",
    "print(x_array.max())"
   ]
  },
  {
   "cell_type": "markdown",
   "metadata": {
    "id": "QHeBkOCm4L9S"
   },
   "source": [
    "* 可以看到是 28x28 的圖，且是 uint8 type，介於 0~255 整數值  "
   ]
  },
  {
   "cell_type": "markdown",
   "metadata": {
    "id": "U1McesDe4L9T"
   },
   "source": [
    "##### 有 transform"
   ]
  },
  {
   "cell_type": "markdown",
   "metadata": {
    "id": "Lj2xBIER4L9T"
   },
   "source": [
    "* 圖片類資料庫，通常都會做以下 transform:  \n",
    "  * 把圖片改成 float32 浮點數 type. \n",
    "  * 把圖片正規化到 0~1 之間\n",
    "  * 轉成 tensor (灰階圖，會變成 (1,28,28), RGB圖仍是 (3, 28, 28)) \n",
    "* 這其實就是 `torchvision.transforms.ToTensor()` 在做的事\n",
    "* 看一下剛剛的例子"
   ]
  },
  {
   "cell_type": "code",
   "execution_count": null,
   "metadata": {
    "id": "DzbsQ6xf4L9T",
    "outputId": "c047bbe0-9c6f-4651-9c89-6d752fe4f1b8"
   },
   "outputs": [
    {
     "name": "stdout",
     "output_type": "stream",
     "text": [
      "<class 'PIL.Image.Image'>\n",
      "uint8\n",
      "<class 'torch.Tensor'>\n",
      "torch.float32\n",
      "tensor(0.)\n",
      "tensor(1.)\n"
     ]
    }
   ],
   "source": [
    "print(type(x))\n",
    "print(np.asarray(x).dtype)\n",
    "\n",
    "trans = torchvision.transforms.ToTensor()\n",
    "x_trans = trans(x)\n",
    "print(type(x_trans))\n",
    "print(x_trans.dtype)\n",
    "print(x_trans.min())\n",
    "print(x_trans.max())"
   ]
  },
  {
   "cell_type": "markdown",
   "metadata": {
    "id": "gqy6qj5S4L9T"
   },
   "source": [
    "* 讀檔時，就可以把這個放進去："
   ]
  },
  {
   "cell_type": "code",
   "execution_count": null,
   "metadata": {
    "id": "-6hw3N994L9T"
   },
   "outputs": [],
   "source": [
    "from torchvision import transforms\n",
    "trans = transforms.ToTensor()\n",
    "\n",
    "mnist_train = torchvision.datasets.FashionMNIST(\n",
    "    root=\"data\", train=True, transform=trans, download=True)\n",
    "mnist_test = torchvision.datasets.FashionMNIST(\n",
    "    root=\"data\", train=False, transform=trans, download=True)"
   ]
  },
  {
   "cell_type": "code",
   "execution_count": null,
   "metadata": {
    "id": "1aZDD_X_4L9T",
    "outputId": "c58ceda4-0c69-4407-d240-300a9bf41cfc"
   },
   "outputs": [
    {
     "data": {
      "text/plain": [
       "Dataset FashionMNIST\n",
       "    Number of datapoints: 60000\n",
       "    Root location: data\n",
       "    Split: Train\n",
       "    StandardTransform\n",
       "Transform: ToTensor()"
      ]
     },
     "execution_count": 27,
     "metadata": {},
     "output_type": "execute_result"
    }
   ],
   "source": [
    "mnist_train"
   ]
  },
  {
   "cell_type": "code",
   "execution_count": null,
   "metadata": {
    "id": "YnCIa0zU4L9U",
    "outputId": "94d3a4f8-f13f-4182-d3b4-8a3dd354fcb7"
   },
   "outputs": [
    {
     "name": "stdout",
     "output_type": "stream",
     "text": [
      "torch.Size([1, 28, 28])\n"
     ]
    }
   ],
   "source": [
    "x, y = mnist_train[0]\n",
    "print(x.shape)"
   ]
  },
  {
   "cell_type": "code",
   "execution_count": null,
   "metadata": {
    "id": "sPrzHHk34L9U",
    "outputId": "867da894-daf9-4de5-b7c5-1a81f3e3280a"
   },
   "outputs": [
    {
     "data": {
      "text/plain": [
       "(1, 28, 28)"
      ]
     },
     "execution_count": 29,
     "metadata": {},
     "output_type": "execute_result"
    }
   ],
   "source": [
    "x.numpy().shape"
   ]
  },
  {
   "cell_type": "markdown",
   "metadata": {
    "id": "3LMUdfbC4L9U"
   },
   "source": [
    "## Transforms"
   ]
  },
  {
   "cell_type": "markdown",
   "metadata": {
    "id": "GcFWBIlu4L9U",
    "tags": []
   },
   "source": [
    "## NN structures"
   ]
  },
  {
   "cell_type": "markdown",
   "metadata": {
    "id": "xEBz3zPN4L9U"
   },
   "source": [
    "### import"
   ]
  },
  {
   "cell_type": "markdown",
   "metadata": {
    "id": "gbseHBdC4L9V"
   },
   "source": [
    "* 萬用起手式"
   ]
  },
  {
   "cell_type": "code",
   "execution_count": 52,
   "metadata": {
    "id": "oofR9Vwi4L9V"
   },
   "outputs": [],
   "source": [
    "import torch.nn as nn\n",
    "import torch.nn.functional as F"
   ]
  },
  {
   "cell_type": "markdown",
   "metadata": {
    "id": "r5q6s5KM4L9V"
   },
   "source": [
    "## activation functions"
   ]
  },
  {
   "cell_type": "markdown",
   "metadata": {
    "id": "k-q7xHij4L9V"
   },
   "source": [
    "### 內建"
   ]
  },
  {
   "cell_type": "markdown",
   "metadata": {
    "id": "H6mXTNG84L9V"
   },
   "source": [
    "| activation function | `torch.nn as nn`                    | `torch.nn.functional as F` |\n",
    "|:-------------------:| ----------------------------------- | -------------------------- |\n",
    "| Sigmoid             | `nn.Sigmoid()`                      | `F.sigmoid`                |\n",
    "| Softmax             | `nn.Softmax(dim=None)`              | `F.softmax`                |\n",
    "| ReLU                | `nn.ReLU()`                         | `F.relu`                   |\n",
    "| LeakyReLU           | `nn.LeakyReLU(negative_slope=0.01)` | `F.leaky_relu`             |\n",
    "| Tanh                | `nn.Tanh()`                         | `F.tanh`                   |\n",
    "| GELU                | `nn.GELU()`                         | `F.gelu`                   |\n",
    "| ReLU6               | `nn.ReLU6()`                        | `F.relu6`                  |"
   ]
  },
  {
   "cell_type": "markdown",
   "metadata": {
    "id": "gAf0qwmF4L9V"
   },
   "source": [
    "#### ReLU"
   ]
  },
  {
   "cell_type": "markdown",
   "metadata": {
    "id": "Go7w3Hqa4L9V"
   },
   "source": [
    "* 主要重點：  \n",
    "  * $ReLU(x) = max(x, 0)$  \n",
    "  * $\\frac{x}{dx} ReLU(x) = 1$ if x > 0; $\\frac{x}{dx} ReLU(x) = 0$ if x <= 0\n",
    "  * relu 的導數，在 x = 0 時，數學上是不存在，但在工程上 \"定義\" 導數為 0，這樣就能繼續做了  \n",
    "  * relu 的優點是求導的結果簡單，不是 0 就是 1，在 backward 更新參數時， `weight_new = weight_old - learning_rate * grad`，那 grad 不是 0 就是 1，減輕了以往NN的梯度消失問題。  \n",
    "* 簡單範例："
   ]
  },
  {
   "cell_type": "code",
   "execution_count": null,
   "metadata": {
    "id": "BHm-JKTx4L9V",
    "outputId": "b49d2df1-57f5-4fd0-fbc7-a5184df2b175"
   },
   "outputs": [
    {
     "name": "stdout",
     "output_type": "stream",
     "text": [
      "tensor([0.0000, 0.0000, 0.0000, 0.0000, 0.0000, 0.0000, 0.0000, 0.0000, 0.0000,\n",
      "        0.0000, 0.0000, 0.0000, 0.0000, 0.0000, 0.0000, 0.0000, 0.0000, 0.0000,\n",
      "        0.0000, 0.0000, 0.0000, 0.0000, 0.0000, 0.0000, 0.0000, 0.0000, 0.0000,\n",
      "        0.0000, 0.0000, 0.0000, 0.0000, 0.0000, 0.0000, 0.0000, 0.0000, 0.0000,\n",
      "        0.0000, 0.0000, 0.0000, 0.0000, 0.0000, 0.0000, 0.0000, 0.0000, 0.0000,\n",
      "        0.0000, 0.0000, 0.0000, 0.0000, 0.0000, 0.0000, 0.0000, 0.0000, 0.0000,\n",
      "        0.0000, 0.0000, 0.0000, 0.0000, 0.0000, 0.0000, 0.0000, 0.0000, 0.0000,\n",
      "        0.0000, 0.0000, 0.0000, 0.0000, 0.0000, 0.0000, 0.0000, 0.0000, 0.0000,\n",
      "        0.0000, 0.0000, 0.0000, 0.0000, 0.0000, 0.0000, 0.0000, 0.0000, 0.0000,\n",
      "        0.1000, 0.2000, 0.3000, 0.4000, 0.5000, 0.6000, 0.7000, 0.8000, 0.9000,\n",
      "        1.0000, 1.1000, 1.2000, 1.3000, 1.4000, 1.5000, 1.6000, 1.7000, 1.8000,\n",
      "        1.9000, 2.0000, 2.1000, 2.2000, 2.3000, 2.4000, 2.5000, 2.6000, 2.7000,\n",
      "        2.8000, 2.9000, 3.0000, 3.1000, 3.2000, 3.3000, 3.4000, 3.5000, 3.6000,\n",
      "        3.7000, 3.8000, 3.9000, 4.0000, 4.1000, 4.2000, 4.3000, 4.4000, 4.5000,\n",
      "        4.6000, 4.7000, 4.8000, 4.9000, 5.0000, 5.1000, 5.2000, 5.3000, 5.4000,\n",
      "        5.5000, 5.6000, 5.7000, 5.8000, 5.9000, 6.0000, 6.1000, 6.2000, 6.3000,\n",
      "        6.4000, 6.5000, 6.6000, 6.7000, 6.8000, 6.9000, 7.0000, 7.1000, 7.2000,\n",
      "        7.3000, 7.4000, 7.5000, 7.6000, 7.7000, 7.8000, 7.9000],\n",
      "       grad_fn=<ReluBackward0>)\n"
     ]
    }
   ],
   "source": [
    "activation = nn.ReLU()\n",
    "\n",
    "x = torch.arange(-8.0, 8.0, 0.1, requires_grad=True)\n",
    "y = activation(x)\n",
    "print(y)"
   ]
  },
  {
   "cell_type": "code",
   "execution_count": null,
   "metadata": {
    "id": "Wi0ONP8u4L9W",
    "outputId": "169ee231-bbde-42eb-fe9b-6f77cdff6ff0"
   },
   "outputs": [
    {
     "data": {
      "image/png": "[encoded data removed]",
      "text/plain": [
       "<Figure size 432x288 with 1 Axes>"
      ]
     },
     "metadata": {
      "needs_background": "light"
     },
     "output_type": "display_data"
    }
   ],
   "source": [
    "plt.plot(x.detach(), y.detach());"
   ]
  },
  {
   "cell_type": "code",
   "execution_count": null,
   "metadata": {
    "id": "yzl_AgHw4L9W",
    "outputId": "64fb72cc-195a-46bb-dd95-43229da37eb1"
   },
   "outputs": [
    {
     "data": {
      "image/png": "[encoded data removed]",
      "text/plain": [
       "<Figure size 432x288 with 1 Axes>"
      ]
     },
     "metadata": {
      "needs_background": "light"
     },
     "output_type": "display_data"
    }
   ],
   "source": [
    "y.backward(torch.ones_like(x), retain_graph=True)\n",
    "plt.plot(x.detach(), x.grad); # gradient"
   ]
  },
  {
   "cell_type": "markdown",
   "metadata": {
    "id": "TjE99U0Z4L9W"
   },
   "source": [
    "#### Sigmoid"
   ]
  },
  {
   "cell_type": "markdown",
   "metadata": {
    "id": "b0nKQRYp4L9W"
   },
   "source": [
    "* 主要重點：  \n",
    "  * $sigmoid(x) = \\frac{1}{1 + exp(-x)}$  \n",
    "  * $\\frac{x}{dx} sigmoid(x) = sigmoid(x)(1-sigmoid(x))$  \n",
    "  * 從導數的性質，可以發現，gradient 在 x 靠近 0 時，值較大 (參數更新較快）， x 遠離 0 時， gradient 趨近於 0 (參數停止更新)"
   ]
  },
  {
   "cell_type": "code",
   "execution_count": null,
   "metadata": {
    "id": "AR2EYWFp4L9W",
    "outputId": "b4b069b9-a137-4388-a423-b7ea0df96a0e"
   },
   "outputs": [
    {
     "data": {
      "image/png": "[encoded data removed]",
      "text/plain": [
       "<Figure size 432x288 with 1 Axes>"
      ]
     },
     "metadata": {
      "needs_background": "light"
     },
     "output_type": "display_data"
    }
   ],
   "source": [
    "activation = nn.Sigmoid()\n",
    "\n",
    "x = torch.arange(-8.0, 8.0, 0.1, requires_grad=True)\n",
    "y = activation(x)\n",
    "\n",
    "plt.plot(x.detach(), y.detach());"
   ]
  },
  {
   "cell_type": "code",
   "execution_count": null,
   "metadata": {
    "id": "Y2hmDuMp4L9W",
    "outputId": "ab61bc77-67ac-46da-8fa6-849e01948188"
   },
   "outputs": [
    {
     "data": {
      "image/png": "[encoded data removed]",
      "text/plain": [
       "<Figure size 432x288 with 1 Axes>"
      ]
     },
     "metadata": {
      "needs_background": "light"
     },
     "output_type": "display_data"
    }
   ],
   "source": [
    "# gradients\n",
    "y.backward(torch.ones_like(x),retain_graph=True)\n",
    "plt.plot(x.detach(), x.grad);"
   ]
  },
  {
   "cell_type": "markdown",
   "metadata": {
    "id": "xaIjNfPs4L9X"
   },
   "source": [
    "### 自訂"
   ]
  },
  {
   "cell_type": "markdown",
   "metadata": {
    "id": "PbqtPqly4L9X"
   },
   "source": [
    "* 直接定義一個 function"
   ]
  },
  {
   "cell_type": "code",
   "execution_count": null,
   "metadata": {
    "id": "QTu1bBmA4L9X"
   },
   "outputs": [],
   "source": [
    "def relu(x):\n",
    "    a = torch.zeros_like(x) # shape 會與 x 一樣\n",
    "    return torch.max(x, a)"
   ]
  },
  {
   "cell_type": "markdown",
   "metadata": {
    "id": "S7Tgshco4L9Y",
    "jp-MarkdownHeadingCollapsed": true,
    "tags": []
   },
   "source": [
    "## custom layers & block"
   ]
  },
  {
   "cell_type": "markdown",
   "metadata": {
    "id": "1faUIXm14L9Z"
   },
   "source": [
    "* 幾個名詞定義一下：  \n",
    "  * layer: 只要是 input n 個 neruon, output m 個 neuron 的 function，就被稱為一個 layer。例如 `nn.Linear(in_dim, out_dim)` 就是個 linear layer. \n",
    "  * block: \n",
    "    * 多個 layer 組合在一起，稱為一個 block。例如一個 VGG block，就是由數個 conv, pooling layer 所組成. \n",
    "    * 通常用 sequential 來把 layer 組成 block; 或用 sub-class 來把 layer 組成 block\n",
    "  * model: \n",
    "    * 由 layers or/and blocks 組起來，只要 input 是 feature/images/sentences..，output 是 回歸/分類...結果，就都可稱為 model。\n",
    "    * 例如一個 linear layer 可以是 model (e.g. linear regression)，一個 block 可以是 model (e.g. 多層感知機)，多個 block 組在一起 (e.g. resnet) 也可以是 model  \n",
    "    * 所以，可以用 `layer` 來做出 model，也可以用 `sequential` 組成 model，也可以用 `sub-class` 組成 model"
   ]
  },
  {
   "cell_type": "markdown",
   "metadata": {
    "id": "k5_u2lgB4L9Z"
   },
   "source": [
    "### custom layer (不帶參數)"
   ]
  },
  {
   "cell_type": "code",
   "execution_count": null,
   "metadata": {
    "id": "7uZhCvT14L9Z"
   },
   "outputs": [],
   "source": [
    "class CenteredLayer(nn.Module):\n",
    "    \"\"\"用來做中心化(去平均)的layer\n",
    "    args:\n",
    "      X: 任何 shape，但通常是 (n, p)，然後我們想把 feature 都 de-mean\n",
    "    \"\"\"\n",
    "    def __init__(self, dim = 1):\n",
    "        super().__init__()\n",
    "        self.dim = dim\n",
    "\n",
    "    def forward(self, X):\n",
    "        return X - X.mean(dim = self.dim, keepdim = True)"
   ]
  },
  {
   "cell_type": "code",
   "execution_count": null,
   "metadata": {
    "id": "B1_nvttC4L9Z",
    "outputId": "9a1a91b7-8e9c-454b-bd87-984af7ac0aa6"
   },
   "outputs": [
    {
     "data": {
      "text/plain": [
       "tensor([[-0.9273,  0.1359],\n",
       "        [-1.1151, -1.3790],\n",
       "        [-0.5349, -4.1247],\n",
       "        [-1.9496,  0.5590],\n",
       "        [-1.4850,  1.3104]])"
      ]
     },
     "execution_count": 68,
     "metadata": {},
     "output_type": "execute_result"
    }
   ],
   "source": [
    "# 做 5 個 sample，每個 sample 都有 2 個 feature 的 X\n",
    "X = torch.randn(5, 2)\n",
    "X"
   ]
  },
  {
   "cell_type": "code",
   "execution_count": null,
   "metadata": {
    "id": "0aYFCEdC4L9a",
    "outputId": "2ea46d1f-ddf2-4537-8ffc-eba72f293296"
   },
   "outputs": [
    {
     "data": {
      "text/plain": [
       "tensor([[-0.5316,  0.5316],\n",
       "        [ 0.1319, -0.1319],\n",
       "        [ 1.7949, -1.7949],\n",
       "        [-1.2543,  1.2543],\n",
       "        [-1.3977,  1.3977]])"
      ]
     },
     "execution_count": 69,
     "metadata": {},
     "output_type": "execute_result"
    }
   ],
   "source": [
    "layer = CenteredLayer()\n",
    "layer(X)"
   ]
  },
  {
   "cell_type": "markdown",
   "metadata": {
    "id": "R_Hoivp54L9a"
   },
   "source": [
    "* 可以清楚看到，de-mean 後，每個 row 現在相加都是 0"
   ]
  },
  {
   "cell_type": "markdown",
   "metadata": {
    "id": "twthuUnS4L9a"
   },
   "source": [
    "* 之後，這種 layer 就可以當作前處理，然後這樣用："
   ]
  },
  {
   "cell_type": "code",
   "execution_count": null,
   "metadata": {
    "id": "9P_Xs_tr4L9a",
    "outputId": "a1968274-aacd-460c-f64c-007230258e59"
   },
   "outputs": [
    {
     "data": {
      "text/plain": [
       "tensor([[ 0.8472],\n",
       "        [ 0.4268],\n",
       "        [-0.6269],\n",
       "        [ 1.3052],\n",
       "        [ 1.3961]], grad_fn=<AddmmBackward0>)"
      ]
     },
     "execution_count": 72,
     "metadata": {},
     "output_type": "execute_result"
    }
   ],
   "source": [
    "model = nn.Sequential(\n",
    "    CenteredLayer(), # 前處理用，de-mean\n",
    "    nn.Linear(2, 1) # linear regression\n",
    ")\n",
    "model(X)"
   ]
  },
  {
   "cell_type": "markdown",
   "metadata": {
    "id": "HmQ574D14L9b"
   },
   "source": [
    "### custom layer (帶參數)"
   ]
  },
  {
   "cell_type": "markdown",
   "metadata": {
    "id": "s4DdqIQZ4L9b"
   },
   "source": [
    "* 重點在，weight, bias 要用 `nn.Parameter()` 來造，這樣就可以保有計算 gradient 等功能(預設 requires_grad = True) "
   ]
  },
  {
   "cell_type": "code",
   "execution_count": null,
   "metadata": {
    "id": "8boW830X4L9b",
    "outputId": "21e84c3d-38b5-41a0-bd21-6df4a9f15194"
   },
   "outputs": [
    {
     "data": {
      "text/plain": [
       "\u001b[0;31mInit signature:\u001b[0m  \u001b[0mnn\u001b[0m\u001b[0;34m.\u001b[0m\u001b[0mParameter\u001b[0m\u001b[0;34m(\u001b[0m\u001b[0mdata\u001b[0m\u001b[0;34m=\u001b[0m\u001b[0;32mNone\u001b[0m\u001b[0;34m,\u001b[0m \u001b[0mrequires_grad\u001b[0m\u001b[0;34m=\u001b[0m\u001b[0;32mTrue\u001b[0m\u001b[0;34m)\u001b[0m\u001b[0;34m\u001b[0m\u001b[0;34m\u001b[0m\u001b[0m\n",
       "\u001b[0;31mDocstring:\u001b[0m     \n",
       "A kind of Tensor that is to be considered a module parameter.\n",
       "\n",
       "Parameters are :class:`~torch.Tensor` subclasses, that have a\n",
       "very special property when used with :class:`Module` s - when they're\n",
       "assigned as Module attributes they are automatically added to the list of\n",
       "its parameters, and will appear e.g. in :meth:`~Module.parameters` iterator.\n",
       "Assigning a Tensor doesn't have such effect. This is because one might\n",
       "want to cache some temporary state, like last hidden state of the RNN, in\n",
       "the model. If there was no such class as :class:`Parameter`, these\n",
       "temporaries would get registered too.\n",
       "\n",
       "Args:\n",
       "    data (Tensor): parameter tensor.\n",
       "    requires_grad (bool, optional): if the parameter requires gradient. See\n",
       "        :ref:`locally-disable-grad-doc` for more details. Default: `True`\n",
       "\u001b[0;31mFile:\u001b[0m           ~/.pyenv/versions/3.8.0/lib/python3.8/site-packages/torch/nn/parameter.py\n",
       "\u001b[0;31mType:\u001b[0m           _ParameterMeta\n",
       "\u001b[0;31mSubclasses:\u001b[0m     UninitializedParameter\n"
      ]
     },
     "metadata": {},
     "output_type": "display_data"
    }
   ],
   "source": [
    "? nn.Parameter"
   ]
  },
  {
   "cell_type": "code",
   "execution_count": null,
   "metadata": {
    "id": "1Tyert_G4L9b"
   },
   "outputs": [],
   "source": [
    "class MyLinear(nn.Module):\n",
    "    \"\"\" 自己寫一個 dense 層 \"\"\"\n",
    "    def __init__(self, in_dim, out_dim):\n",
    "        super().__init__()\n",
    "        self.weight = nn.Parameter(torch.randn(in_dim, out_dim))\n",
    "        self.bias = nn.Parameter(torch.randn(out_dim,))\n",
    "    def forward(self, X):\n",
    "        linear = torch.matmul(X, self.weight.data) + self.bias.data\n",
    "        return linear"
   ]
  },
  {
   "cell_type": "markdown",
   "metadata": {
    "id": "zauuux3x4L9c"
   },
   "source": [
    "* 看一下實例化後，起始參數："
   ]
  },
  {
   "cell_type": "code",
   "execution_count": null,
   "metadata": {
    "id": "zY4Pagsl4L9c",
    "outputId": "d2d9d0aa-ab17-4458-b51f-84ca15df2029"
   },
   "outputs": [
    {
     "data": {
      "text/plain": [
       "Parameter containing:\n",
       "tensor([[-0.3640,  1.5913,  0.4055],\n",
       "        [-1.0218,  0.4775, -1.1235],\n",
       "        [-1.7111,  0.8637, -0.4625],\n",
       "        [-0.5543, -0.6704, -0.0141],\n",
       "        [-1.1417,  0.6179,  0.6895]], requires_grad=True)"
      ]
     },
     "execution_count": 76,
     "metadata": {},
     "output_type": "execute_result"
    }
   ],
   "source": [
    "linear = MyLinear(5, 3)\n",
    "linear.weight"
   ]
  },
  {
   "cell_type": "markdown",
   "metadata": {
    "id": "NVAVAte44L9c"
   },
   "source": [
    "* 用用看："
   ]
  },
  {
   "cell_type": "code",
   "execution_count": null,
   "metadata": {
    "id": "9vLMgK9R4L9c",
    "outputId": "71b1a31d-6df3-4079-8f34-38852309aacb"
   },
   "outputs": [
    {
     "data": {
      "text/plain": [
       "tensor([[-3.2610, -0.1284, -1.8087],\n",
       "        [ 0.6928,  1.0955, -1.3039],\n",
       "        [-3.6307,  2.3802, -0.8923],\n",
       "        [-1.7597,  1.9472, -0.6151],\n",
       "        [-2.2773,  0.8810, -1.5115],\n",
       "        [-0.4681,  1.1092,  1.5497],\n",
       "        [-1.9127,  1.2226, -0.9216],\n",
       "        [-2.4812,  1.8624,  0.1789],\n",
       "        [-0.7259,  1.6919,  1.7905],\n",
       "        [-0.0247, -1.7735, -0.9420]])"
      ]
     },
     "execution_count": 77,
     "metadata": {},
     "output_type": "execute_result"
    }
   ],
   "source": [
    "X = torch.randn(10, 5)\n",
    "linear(X)"
   ]
  },
  {
   "cell_type": "markdown",
   "metadata": {
    "id": "2hgf_RZL4L9d"
   },
   "source": [
    "### sequential block (`nn.Sequential(layer1, block2, ...)`)"
   ]
  },
  {
   "cell_type": "code",
   "execution_count": 55,
   "metadata": {},
   "outputs": [
    {
     "data": {
      "text/plain": [
       "tensor([[-1.0751e-01, -1.2425e-01,  1.4933e-01,  7.5487e-02,  2.6889e-01,\n",
       "         -2.4903e-01,  3.5666e-05, -7.2805e-02,  2.4102e-02, -7.0524e-02],\n",
       "        [-1.1472e-01, -4.5277e-02,  1.8385e-01, -1.1014e-01,  3.0093e-01,\n",
       "         -2.1793e-01, -7.2202e-02, -1.2279e-01,  1.7267e-01, -3.3422e-02]],\n",
       "       grad_fn=<AddmmBackward0>)"
      ]
     },
     "execution_count": 55,
     "metadata": {},
     "output_type": "execute_result"
    }
   ],
   "source": [
    "net = nn.Sequential(\n",
    "    nn.Linear(20, 256), \n",
    "    nn.ReLU(), \n",
    "    nn.Linear(256, 10)\n",
    ")\n",
    "\n",
    "X = torch.rand(2, 20)\n",
    "net(X)"
   ]
  },
  {
   "cell_type": "markdown",
   "metadata": {},
   "source": [
    "### sequential `for` tips"
   ]
  },
  {
   "cell_type": "markdown",
   "metadata": {},
   "source": [
    "* 我們可以建立一個自己的 sequential，就可以看到實際運作狀況："
   ]
  },
  {
   "cell_type": "code",
   "execution_count": 56,
   "metadata": {},
   "outputs": [],
   "source": [
    "class MySequential(nn.Module):\n",
    "    def __init__(self, *args):\n",
    "        super().__init__()\n",
    "        for idx, module in enumerate(args):\n",
    "            # args 就是 user 隨意要丟幾個 layer, block 進來，所組成的 list\n",
    "            # 变量_modules中。_module的类型是OrderedDict\n",
    "            self._modules[str(idx)] = module\n",
    "\n",
    "    def forward(self, X):\n",
    "        # OrderedDict保证了按照成员添加的顺序遍历它们\n",
    "        for block in self._modules.values():\n",
    "            X = block(X)\n",
    "        return X"
   ]
  },
  {
   "cell_type": "markdown",
   "metadata": {},
   "source": [
    "* 來試試看："
   ]
  },
  {
   "cell_type": "code",
   "execution_count": 57,
   "metadata": {},
   "outputs": [
    {
     "data": {
      "text/plain": [
       "tensor([[ 0.3512,  0.0382, -0.0272, -0.0299,  0.1932, -0.0300,  0.0591,  0.0224,\n",
       "          0.0579,  0.1903],\n",
       "        [ 0.3129,  0.1721,  0.1292,  0.0103,  0.2904,  0.1143, -0.0841, -0.1001,\n",
       "          0.2664,  0.1742]], grad_fn=<AddmmBackward0>)"
      ]
     },
     "execution_count": 57,
     "metadata": {},
     "output_type": "execute_result"
    }
   ],
   "source": [
    "net = MySequential(\n",
    "    nn.Linear(20, 256), \n",
    "    nn.ReLU(), \n",
    "    nn.Linear(256, 10)\n",
    ")\n",
    "\n",
    "net(X)"
   ]
  },
  {
   "cell_type": "markdown",
   "metadata": {
    "id": "Ir7Npw2n4L9c",
    "tags": []
   },
   "source": [
    "### custom block"
   ]
  },
  {
   "cell_type": "markdown",
   "metadata": {},
   "source": [
    "* 雖然 sequential block 很方便，但有時我們會需要在 forward 的時候，做一些靈活的控制，例如以下這個刻意做出來的例子："
   ]
  },
  {
   "cell_type": "code",
   "execution_count": 60,
   "metadata": {
    "id": "rPfKY2I44L9d"
   },
   "outputs": [],
   "source": [
    "class MLP(nn.Module):\n",
    "    def __init__(self):\n",
    "        super().__init__()\n",
    "        self.hidden = nn.Linear(20, 256)\n",
    "        self.out = nn.Linear(256, 10)\n",
    "        \n",
    "    def forward(self, X):\n",
    "        X = self.hidden(X)\n",
    "        X = F.relu(X)\n",
    "        X = self.out(X)\n",
    "        # 這邊開始是 flexible 的設計, 這就是 sequential 辦不到的\n",
    "        # 我希望控制輸出，當輸出的 tensor 的 L1 norm > 1 時，我就把他除以2，直到輸出的 L1 norm 壓在 1 以內\n",
    "        while X.abs().sum() > 1:\n",
    "            X /= 2\n",
    "        return X.sum()"
   ]
  },
  {
   "cell_type": "markdown",
   "metadata": {},
   "source": [
    "* 來試一下："
   ]
  },
  {
   "cell_type": "code",
   "execution_count": 61,
   "metadata": {},
   "outputs": [
    {
     "data": {
      "text/plain": [
       "tensor(0.0155, grad_fn=<SumBackward0>)"
      ]
     },
     "execution_count": 61,
     "metadata": {},
     "output_type": "execute_result"
    }
   ],
   "source": [
    "X = torch.rand(2, 20)\n",
    "\n",
    "net = MLP()\n",
    "net(X)"
   ]
  },
  {
   "cell_type": "markdown",
   "metadata": {},
   "source": [
    "## 參數管理"
   ]
  },
  {
   "cell_type": "markdown",
   "metadata": {},
   "source": [
    "* 假設 model 長這樣："
   ]
  },
  {
   "cell_type": "code",
   "execution_count": 76,
   "metadata": {},
   "outputs": [],
   "source": [
    "model = nn.Sequential(\n",
    "    nn.Linear(4, 8), \n",
    "    nn.ReLU(), \n",
    "    nn.Linear(8, 1)\n",
    ")\n",
    "\n",
    "optim = torch.optim.Adam(\n",
    "    model.parameters(), lr=1e-4)\n",
    "\n",
    "# loss\n",
    "criterion = nn.MSELoss()"
   ]
  },
  {
   "cell_type": "code",
   "execution_count": 77,
   "metadata": {},
   "outputs": [
    {
     "name": "stdout",
     "output_type": "stream",
     "text": [
      "tensor([[ 0.0542],\n",
      "        [-0.1957]], grad_fn=<AddmmBackward0>)\n"
     ]
    }
   ],
   "source": [
    "# device\n",
    "device = torch.device('cuda') if torch.cuda.is_available() else torch.device('cpu')\n",
    "\n",
    "# fake data: batch_size = 2\n",
    "X = torch.rand(size=(2, 4))\n",
    "y = torch.tensor([0.7, 0.2])\n",
    "\n",
    "# one-epoch training\n",
    "X = X.to(device)\n",
    "y = y.to(device)\n",
    "model = model.to(device)\n",
    "\n",
    "y_hat = model(X)        # 把 x tensor 移到 GPU 計算\n",
    "print(y_hat)\n",
    "\n",
    "loss = criterion(y, y_hat) # 把 y tensor 移到 GPU 計算，\n",
    "                                      ##  y_hat 因為是從 GPU model input GPU Tensor 出來的\n",
    "                                      ##  所以不用再次 .to(device) 當然要也是沒差啦 =_=|||\n",
    "optim.zero_grad() # 把 trainable variable/weights/parameters 的 gradient 給 歸 0\n",
    "loss.backward() # 利用 loss，計算出每個 trainable variable/weights/parameters 所對應的 gradient\n",
    "optim.step() # 更新 trainable variable/weights/parameters 的值： parameters_new = parameters_old - learning_rate * gradient"
   ]
  },
  {
   "cell_type": "markdown",
   "metadata": {},
   "source": [
    "### 看 model structure"
   ]
  },
  {
   "cell_type": "code",
   "execution_count": 78,
   "metadata": {},
   "outputs": [
    {
     "data": {
      "text/plain": [
       "Sequential(\n",
       "  (0): Linear(in_features=4, out_features=8, bias=True)\n",
       "  (1): ReLU()\n",
       "  (2): Linear(in_features=8, out_features=1, bias=True)\n",
       ")"
      ]
     },
     "execution_count": 78,
     "metadata": {},
     "output_type": "execute_result"
    }
   ],
   "source": [
    "model"
   ]
  },
  {
   "cell_type": "markdown",
   "metadata": {},
   "source": [
    "* 可以看到，他用 index 來表明每一層的 layer "
   ]
  },
  {
   "cell_type": "markdown",
   "metadata": {
    "tags": []
   },
   "source": [
    "### 看單一層的 weight, bias, gradient"
   ]
  },
  {
   "cell_type": "markdown",
   "metadata": {},
   "source": [
    "* 例如，看第 0 個 index 的 參數："
   ]
  },
  {
   "cell_type": "markdown",
   "metadata": {},
   "source": [
    "#### `.state_dict()`"
   ]
  },
  {
   "cell_type": "code",
   "execution_count": 87,
   "metadata": {},
   "outputs": [
    {
     "data": {
      "text/plain": [
       "OrderedDict([('weight',\n",
       "              tensor([[-0.3048,  0.2219,  0.2388,  0.3435],\n",
       "                      [ 0.3939, -0.3583, -0.3972,  0.4755],\n",
       "                      [-0.1534, -0.2841,  0.3249, -0.2912],\n",
       "                      [ 0.1784,  0.4749, -0.1225,  0.1678],\n",
       "                      [ 0.2339,  0.4488, -0.2803,  0.1215],\n",
       "                      [ 0.3486,  0.4914,  0.0383, -0.4629],\n",
       "                      [-0.1031, -0.1659, -0.3799,  0.4556],\n",
       "                      [ 0.1895,  0.3306,  0.0714,  0.4956]])),\n",
       "             ('bias',\n",
       "              tensor([-0.0700,  0.3040,  0.0767, -0.1222,  0.4878, -0.1032,  0.4792, -0.0021]))])"
      ]
     },
     "execution_count": 87,
     "metadata": {},
     "output_type": "execute_result"
    }
   ],
   "source": [
    "model[0].state_dict()"
   ]
  },
  {
   "cell_type": "markdown",
   "metadata": {},
   "source": [
    "* 所以，要取得 weight 或 bias 的資料可以這樣拿："
   ]
  },
  {
   "cell_type": "code",
   "execution_count": 102,
   "metadata": {},
   "outputs": [
    {
     "data": {
      "text/plain": [
       "tensor([[-0.3048,  0.2219,  0.2388,  0.3435],\n",
       "        [ 0.3939, -0.3583, -0.3972,  0.4755],\n",
       "        [-0.1534, -0.2841,  0.3249, -0.2912],\n",
       "        [ 0.1784,  0.4749, -0.1225,  0.1678],\n",
       "        [ 0.2339,  0.4488, -0.2803,  0.1215],\n",
       "        [ 0.3486,  0.4914,  0.0383, -0.4629],\n",
       "        [-0.1031, -0.1659, -0.3799,  0.4556],\n",
       "        [ 0.1895,  0.3306,  0.0714,  0.4956]])"
      ]
     },
     "execution_count": 102,
     "metadata": {},
     "output_type": "execute_result"
    }
   ],
   "source": [
    "model[0].state_dict()['weight']"
   ]
  },
  {
   "cell_type": "code",
   "execution_count": 103,
   "metadata": {},
   "outputs": [
    {
     "data": {
      "text/plain": [
       "tensor([-0.0700,  0.3040,  0.0767, -0.1222,  0.4878, -0.1032,  0.4792, -0.0021])"
      ]
     },
     "execution_count": 103,
     "metadata": {},
     "output_type": "execute_result"
    }
   ],
   "source": [
    "model[0].state_dict()['bias']"
   ]
  },
  {
   "cell_type": "markdown",
   "metadata": {},
   "source": [
    "#### `.weight`, `.weight.data`, `.weight.grad`"
   ]
  },
  {
   "cell_type": "markdown",
   "metadata": {},
   "source": [
    "* 除了這種做法外，也可以用 `.weight` 取得 weight 物件，再往下去取得 data 和 gradient 資訊："
   ]
  },
  {
   "cell_type": "code",
   "execution_count": 104,
   "metadata": {},
   "outputs": [
    {
     "name": "stdout",
     "output_type": "stream",
     "text": [
      "Parameter containing:\n",
      "tensor([[-0.3048,  0.2219,  0.2388,  0.3435],\n",
      "        [ 0.3939, -0.3583, -0.3972,  0.4755],\n",
      "        [-0.1534, -0.2841,  0.3249, -0.2912],\n",
      "        [ 0.1784,  0.4749, -0.1225,  0.1678],\n",
      "        [ 0.2339,  0.4488, -0.2803,  0.1215],\n",
      "        [ 0.3486,  0.4914,  0.0383, -0.4629],\n",
      "        [-0.1031, -0.1659, -0.3799,  0.4556],\n",
      "        [ 0.1895,  0.3306,  0.0714,  0.4956]], requires_grad=True)\n",
      "<class 'torch.nn.parameter.Parameter'>\n"
     ]
    }
   ],
   "source": [
    "print(model[0].weight) # 這是物件\n",
    "print(type(model[0].weight))"
   ]
  },
  {
   "cell_type": "code",
   "execution_count": 105,
   "metadata": {},
   "outputs": [
    {
     "data": {
      "text/plain": [
       "tensor([[-0.3048,  0.2219,  0.2388,  0.3435],\n",
       "        [ 0.3939, -0.3583, -0.3972,  0.4755],\n",
       "        [-0.1534, -0.2841,  0.3249, -0.2912],\n",
       "        [ 0.1784,  0.4749, -0.1225,  0.1678],\n",
       "        [ 0.2339,  0.4488, -0.2803,  0.1215],\n",
       "        [ 0.3486,  0.4914,  0.0383, -0.4629],\n",
       "        [-0.1031, -0.1659, -0.3799,  0.4556],\n",
       "        [ 0.1895,  0.3306,  0.0714,  0.4956]])"
      ]
     },
     "execution_count": 105,
     "metadata": {},
     "output_type": "execute_result"
    }
   ],
   "source": [
    "# 取這個物件，底下的 data (i.e. value)\n",
    "model[0].weight.data"
   ]
  },
  {
   "cell_type": "code",
   "execution_count": 106,
   "metadata": {},
   "outputs": [
    {
     "data": {
      "text/plain": [
       "tensor([[ 0.1611,  0.1510,  0.1755,  0.1280],\n",
       "        [-0.2097, -0.1966, -0.2285, -0.1666],\n",
       "        [ 0.0000,  0.0000,  0.0000,  0.0000],\n",
       "        [ 0.0678,  0.0636,  0.0739,  0.0539],\n",
       "        [ 0.0354,  0.0331,  0.0385,  0.0281],\n",
       "        [ 0.0608,  0.0955,  0.0774,  0.0291],\n",
       "        [ 0.1630,  0.1528,  0.1776,  0.1295],\n",
       "        [ 0.1269,  0.1189,  0.1383,  0.1008]])"
      ]
     },
     "execution_count": 106,
     "metadata": {},
     "output_type": "execute_result"
    }
   ],
   "source": [
    "# gradient\n",
    "model[0].weight.grad"
   ]
  },
  {
   "cell_type": "markdown",
   "metadata": {},
   "source": [
    "#### `.bias`, `.bias.data`, `.bias.grad`"
   ]
  },
  {
   "cell_type": "code",
   "execution_count": 88,
   "metadata": {},
   "outputs": [
    {
     "data": {
      "text/plain": [
       "Parameter containing:\n",
       "tensor([-0.0700,  0.3040,  0.0767, -0.1222,  0.4878, -0.1032,  0.4792, -0.0021],\n",
       "       requires_grad=True)"
      ]
     },
     "execution_count": 88,
     "metadata": {},
     "output_type": "execute_result"
    }
   ],
   "source": [
    "model[0].bias"
   ]
  },
  {
   "cell_type": "code",
   "execution_count": 89,
   "metadata": {},
   "outputs": [
    {
     "data": {
      "text/plain": [
       "tensor([-0.0700,  0.3040,  0.0767, -0.1222,  0.4878, -0.1032,  0.4792, -0.0021])"
      ]
     },
     "execution_count": 89,
     "metadata": {},
     "output_type": "execute_result"
    }
   ],
   "source": [
    "model[0].bias.data"
   ]
  },
  {
   "cell_type": "code",
   "execution_count": 95,
   "metadata": {},
   "outputs": [
    {
     "data": {
      "text/plain": [
       "tensor([ 0.2477, -0.3225,  0.0000,  0.1043,  0.0544,  0.0989,  0.2507,  0.1951])"
      ]
     },
     "execution_count": 95,
     "metadata": {},
     "output_type": "execute_result"
    }
   ],
   "source": [
    "model[0].bias.grad"
   ]
  },
  {
   "cell_type": "markdown",
   "metadata": {},
   "source": [
    "#### `.parameters()`"
   ]
  },
  {
   "cell_type": "markdown",
   "metadata": {},
   "source": [
    "* 也可以用 `.parameters`，出來的會是物件："
   ]
  },
  {
   "cell_type": "code",
   "execution_count": 110,
   "metadata": {},
   "outputs": [
    {
     "data": {
      "text/plain": [
       "<generator object Module.parameters at 0x13e20ee40>"
      ]
     },
     "execution_count": 110,
     "metadata": {},
     "output_type": "execute_result"
    }
   ],
   "source": [
    "model[0].parameters()"
   ]
  },
  {
   "cell_type": "code",
   "execution_count": 112,
   "metadata": {},
   "outputs": [
    {
     "data": {
      "text/plain": [
       "[Parameter containing:\n",
       " tensor([[-0.3048,  0.2219,  0.2388,  0.3435],\n",
       "         [ 0.3939, -0.3583, -0.3972,  0.4755],\n",
       "         [-0.1534, -0.2841,  0.3249, -0.2912],\n",
       "         [ 0.1784,  0.4749, -0.1225,  0.1678],\n",
       "         [ 0.2339,  0.4488, -0.2803,  0.1215],\n",
       "         [ 0.3486,  0.4914,  0.0383, -0.4629],\n",
       "         [-0.1031, -0.1659, -0.3799,  0.4556],\n",
       "         [ 0.1895,  0.3306,  0.0714,  0.4956]], requires_grad=True),\n",
       " Parameter containing:\n",
       " tensor([-0.0700,  0.3040,  0.0767, -0.1222,  0.4878, -0.1032,  0.4792, -0.0021],\n",
       "        requires_grad=True)]"
      ]
     },
     "execution_count": 112,
     "metadata": {},
     "output_type": "execute_result"
    }
   ],
   "source": [
    "list(model[0].parameters())"
   ]
  },
  {
   "cell_type": "markdown",
   "metadata": {},
   "source": [
    "* 可以看到，list 裡面的第一個 element，很明顯是 weight, 第二個 element，很明顯是 bias，兩個都是物件，所以真的要取資料時，可以這樣取："
   ]
  },
  {
   "cell_type": "code",
   "execution_count": 119,
   "metadata": {},
   "outputs": [
    {
     "name": "stdout",
     "output_type": "stream",
     "text": [
      "0\n",
      "tensor([[-0.3048,  0.2219,  0.2388,  0.3435],\n",
      "        [ 0.3939, -0.3583, -0.3972,  0.4755],\n",
      "        [-0.1534, -0.2841,  0.3249, -0.2912],\n",
      "        [ 0.1784,  0.4749, -0.1225,  0.1678],\n",
      "        [ 0.2339,  0.4488, -0.2803,  0.1215],\n",
      "        [ 0.3486,  0.4914,  0.0383, -0.4629],\n",
      "        [-0.1031, -0.1659, -0.3799,  0.4556],\n",
      "        [ 0.1895,  0.3306,  0.0714,  0.4956]])\n",
      "tensor([[ 0.1611,  0.1510,  0.1755,  0.1280],\n",
      "        [-0.2097, -0.1966, -0.2285, -0.1666],\n",
      "        [ 0.0000,  0.0000,  0.0000,  0.0000],\n",
      "        [ 0.0678,  0.0636,  0.0739,  0.0539],\n",
      "        [ 0.0354,  0.0331,  0.0385,  0.0281],\n",
      "        [ 0.0608,  0.0955,  0.0774,  0.0291],\n",
      "        [ 0.1630,  0.1528,  0.1776,  0.1295],\n",
      "        [ 0.1269,  0.1189,  0.1383,  0.1008]])\n",
      "1\n",
      "tensor([-0.0700,  0.3040,  0.0767, -0.1222,  0.4878, -0.1032,  0.4792, -0.0021])\n",
      "tensor([ 0.2477, -0.3225,  0.0000,  0.1043,  0.0544,  0.0989,  0.2507,  0.1951])\n"
     ]
    }
   ],
   "source": [
    "for idx, param in enumerate(model[0].parameters()):\n",
    "    print(idx)\n",
    "    print(param.data)\n",
    "    print(param.grad)"
   ]
  },
  {
   "cell_type": "markdown",
   "metadata": {},
   "source": [
    "#### `.named_parameters`"
   ]
  },
  {
   "cell_type": "code",
   "execution_count": 120,
   "metadata": {},
   "outputs": [
    {
     "data": {
      "text/plain": [
       "[('weight',\n",
       "  Parameter containing:\n",
       "  tensor([[-0.3048,  0.2219,  0.2388,  0.3435],\n",
       "          [ 0.3939, -0.3583, -0.3972,  0.4755],\n",
       "          [-0.1534, -0.2841,  0.3249, -0.2912],\n",
       "          [ 0.1784,  0.4749, -0.1225,  0.1678],\n",
       "          [ 0.2339,  0.4488, -0.2803,  0.1215],\n",
       "          [ 0.3486,  0.4914,  0.0383, -0.4629],\n",
       "          [-0.1031, -0.1659, -0.3799,  0.4556],\n",
       "          [ 0.1895,  0.3306,  0.0714,  0.4956]], requires_grad=True)),\n",
       " ('bias',\n",
       "  Parameter containing:\n",
       "  tensor([-0.0700,  0.3040,  0.0767, -0.1222,  0.4878, -0.1032,  0.4792, -0.0021],\n",
       "         requires_grad=True))]"
      ]
     },
     "execution_count": 120,
     "metadata": {},
     "output_type": "execute_result"
    }
   ],
   "source": [
    "list(model[0].named_parameters())"
   ]
  },
  {
   "cell_type": "markdown",
   "metadata": {
    "tags": []
   },
   "source": [
    "### 看所有的 parameters, weight, bias, gradient"
   ]
  },
  {
   "cell_type": "markdown",
   "metadata": {},
   "source": [
    "* 有了前面的練習，應該就不難理解一次看全部的結果："
   ]
  },
  {
   "cell_type": "code",
   "execution_count": 116,
   "metadata": {},
   "outputs": [
    {
     "data": {
      "text/plain": [
       "Sequential(\n",
       "  (0): Linear(in_features=4, out_features=8, bias=True)\n",
       "  (1): ReLU()\n",
       "  (2): Linear(in_features=8, out_features=1, bias=True)\n",
       ")"
      ]
     },
     "execution_count": 116,
     "metadata": {},
     "output_type": "execute_result"
    }
   ],
   "source": [
    "model"
   ]
  },
  {
   "cell_type": "code",
   "execution_count": 115,
   "metadata": {},
   "outputs": [
    {
     "data": {
      "text/plain": [
       "OrderedDict([('0.weight',\n",
       "              tensor([[-0.3048,  0.2219,  0.2388,  0.3435],\n",
       "                      [ 0.3939, -0.3583, -0.3972,  0.4755],\n",
       "                      [-0.1534, -0.2841,  0.3249, -0.2912],\n",
       "                      [ 0.1784,  0.4749, -0.1225,  0.1678],\n",
       "                      [ 0.2339,  0.4488, -0.2803,  0.1215],\n",
       "                      [ 0.3486,  0.4914,  0.0383, -0.4629],\n",
       "                      [-0.1031, -0.1659, -0.3799,  0.4556],\n",
       "                      [ 0.1895,  0.3306,  0.0714,  0.4956]])),\n",
       "             ('0.bias',\n",
       "              tensor([-0.0700,  0.3040,  0.0767, -0.1222,  0.4878, -0.1032,  0.4792, -0.0021])),\n",
       "             ('2.weight',\n",
       "              tensor([[-0.2377,  0.3098, -0.2583, -0.1001, -0.0521, -0.1530, -0.2406, -0.1873]])),\n",
       "             ('2.bias', tensor([0.1550]))])"
      ]
     },
     "execution_count": 115,
     "metadata": {},
     "output_type": "execute_result"
    }
   ],
   "source": [
    "model.state_dict()"
   ]
  },
  {
   "cell_type": "markdown",
   "metadata": {},
   "source": [
    "* 可以看到 weight 和 bias 前面，有加上 index (i.e. 0 和 2)"
   ]
  },
  {
   "cell_type": "code",
   "execution_count": 121,
   "metadata": {},
   "outputs": [
    {
     "data": {
      "text/plain": [
       "<generator object Module.named_parameters at 0x13c52fe40>"
      ]
     },
     "execution_count": 121,
     "metadata": {},
     "output_type": "execute_result"
    }
   ],
   "source": [
    "model.named_parameters()"
   ]
  },
  {
   "cell_type": "code",
   "execution_count": 122,
   "metadata": {},
   "outputs": [
    {
     "data": {
      "text/plain": [
       "[('0.weight',\n",
       "  Parameter containing:\n",
       "  tensor([[-0.3048,  0.2219,  0.2388,  0.3435],\n",
       "          [ 0.3939, -0.3583, -0.3972,  0.4755],\n",
       "          [-0.1534, -0.2841,  0.3249, -0.2912],\n",
       "          [ 0.1784,  0.4749, -0.1225,  0.1678],\n",
       "          [ 0.2339,  0.4488, -0.2803,  0.1215],\n",
       "          [ 0.3486,  0.4914,  0.0383, -0.4629],\n",
       "          [-0.1031, -0.1659, -0.3799,  0.4556],\n",
       "          [ 0.1895,  0.3306,  0.0714,  0.4956]], requires_grad=True)),\n",
       " ('0.bias',\n",
       "  Parameter containing:\n",
       "  tensor([-0.0700,  0.3040,  0.0767, -0.1222,  0.4878, -0.1032,  0.4792, -0.0021],\n",
       "         requires_grad=True)),\n",
       " ('2.weight',\n",
       "  Parameter containing:\n",
       "  tensor([[-0.2377,  0.3098, -0.2583, -0.1001, -0.0521, -0.1530, -0.2406, -0.1873]],\n",
       "         requires_grad=True)),\n",
       " ('2.bias',\n",
       "  Parameter containing:\n",
       "  tensor([0.1550], requires_grad=True))]"
      ]
     },
     "execution_count": 122,
     "metadata": {},
     "output_type": "execute_result"
    }
   ],
   "source": [
    "list(model.named_parameters())"
   ]
  },
  {
   "cell_type": "markdown",
   "metadata": {},
   "source": [
    "### block factory"
   ]
  },
  {
   "cell_type": "markdown",
   "metadata": {},
   "source": [
    "* 如果我們把 block 給 nested 在一起，那要如何做參數管理？"
   ]
  },
  {
   "cell_type": "code",
   "execution_count": 123,
   "metadata": {},
   "outputs": [
    {
     "data": {
      "text/plain": [
       "tensor([[-0.4301],\n",
       "        [-0.4301]], grad_fn=<AddmmBackward0>)"
      ]
     },
     "execution_count": 123,
     "metadata": {},
     "output_type": "execute_result"
    }
   ],
   "source": [
    "def block1():\n",
    "    \n",
    "    out = nn.Sequential(\n",
    "        nn.Linear(4, 8), \n",
    "        nn.ReLU(),\n",
    "        nn.Linear(8, 4), \n",
    "        nn.ReLU()\n",
    "    )\n",
    "    \n",
    "    return out \n",
    "\n",
    "def block2():\n",
    "    net = nn.Sequential()\n",
    "    for i in range(4):\n",
    "        # 在這裡 nested\n",
    "        net.add_module(f'block {i}', block1())\n",
    "    return net\n",
    "\n",
    "rgnet = nn.Sequential(block2(), nn.Linear(4, 1))\n",
    "rgnet(X)"
   ]
  },
  {
   "cell_type": "code",
   "execution_count": 124,
   "metadata": {},
   "outputs": [
    {
     "name": "stdout",
     "output_type": "stream",
     "text": [
      "Sequential(\n",
      "  (0): Sequential(\n",
      "    (block 0): Sequential(\n",
      "      (0): Linear(in_features=4, out_features=8, bias=True)\n",
      "      (1): ReLU()\n",
      "      (2): Linear(in_features=8, out_features=4, bias=True)\n",
      "      (3): ReLU()\n",
      "    )\n",
      "    (block 1): Sequential(\n",
      "      (0): Linear(in_features=4, out_features=8, bias=True)\n",
      "      (1): ReLU()\n",
      "      (2): Linear(in_features=8, out_features=4, bias=True)\n",
      "      (3): ReLU()\n",
      "    )\n",
      "    (block 2): Sequential(\n",
      "      (0): Linear(in_features=4, out_features=8, bias=True)\n",
      "      (1): ReLU()\n",
      "      (2): Linear(in_features=8, out_features=4, bias=True)\n",
      "      (3): ReLU()\n",
      "    )\n",
      "    (block 3): Sequential(\n",
      "      (0): Linear(in_features=4, out_features=8, bias=True)\n",
      "      (1): ReLU()\n",
      "      (2): Linear(in_features=8, out_features=4, bias=True)\n",
      "      (3): ReLU()\n",
      "    )\n",
      "  )\n",
      "  (1): Linear(in_features=4, out_features=1, bias=True)\n",
      ")\n"
     ]
    }
   ],
   "source": [
    "print(rgnet)"
   ]
  },
  {
   "cell_type": "markdown",
   "metadata": {},
   "source": [
    "* 那要取資訊時，就是一層一層往下取就好："
   ]
  },
  {
   "cell_type": "code",
   "execution_count": 125,
   "metadata": {},
   "outputs": [
    {
     "data": {
      "text/plain": [
       "tensor([ 0.3477,  0.0886,  0.2932,  0.3275, -0.1417,  0.2814,  0.1715, -0.3397])"
      ]
     },
     "execution_count": 125,
     "metadata": {},
     "output_type": "execute_result"
    }
   ],
   "source": [
    "rgnet[0][1][0].bias.data"
   ]
  },
  {
   "cell_type": "markdown",
   "metadata": {},
   "source": [
    "## 參數初始化"
   ]
  },
  {
   "cell_type": "markdown",
   "metadata": {},
   "source": [
    "* 知道如何訪問參數後，現在來講如何初始化參數. \n",
    "* 這要用到 pytorch 的 `nn.init` module 提供的多種方法"
   ]
  },
  {
   "cell_type": "code",
   "execution_count": 128,
   "metadata": {},
   "outputs": [
    {
     "data": {
      "text/plain": [
       "(tensor([[ 0.0105,  0.0073, -0.0162,  0.0021],\n",
       "         [-0.0090, -0.0050, -0.0081,  0.0137],\n",
       "         [-0.0094,  0.0131, -0.0050, -0.0125],\n",
       "         [-0.0123, -0.0004, -0.0149,  0.0064],\n",
       "         [ 0.0014,  0.0075, -0.0244,  0.0135],\n",
       "         [ 0.0065, -0.0017, -0.0205,  0.0050],\n",
       "         [ 0.0271,  0.0054,  0.0010,  0.0047],\n",
       "         [ 0.0182,  0.0035,  0.0027, -0.0007]]),\n",
       " tensor([ 0.0125, -0.3895, -0.2890, -0.0959, -0.4549, -0.3239,  0.0046,  0.3682]))"
      ]
     },
     "execution_count": 128,
     "metadata": {},
     "output_type": "execute_result"
    }
   ],
   "source": [
    "# weight 和 bias 的初始值都設為 N(0, 0.01) 的 init\n",
    "def init_normal(m):\n",
    "    if type(m) == nn.Linear:\n",
    "        nn.init.normal_(m.weight, mean=0, std=0.01)\n",
    "        nn.init.zeros_(m.bias)\n",
    "\n",
    "        \n",
    "model = nn.Sequential(\n",
    "    nn.Linear(4, 8), \n",
    "    nn.ReLU(), \n",
    "    nn.Linear(8, 1)\n",
    ")\n",
    "\n",
    "model.apply(init_normal)\n",
    "model[0].weight.data, model[0].bias.data"
   ]
  },
  {
   "cell_type": "code",
   "execution_count": 129,
   "metadata": {},
   "outputs": [
    {
     "data": {
      "text/plain": [
       "(tensor([[1., 1., 1., 1.],\n",
       "         [1., 1., 1., 1.],\n",
       "         [1., 1., 1., 1.],\n",
       "         [1., 1., 1., 1.],\n",
       "         [1., 1., 1., 1.],\n",
       "         [1., 1., 1., 1.],\n",
       "         [1., 1., 1., 1.],\n",
       "         [1., 1., 1., 1.]]),\n",
       " tensor([0., 0., 0., 0., 0., 0., 0., 0.]))"
      ]
     },
     "execution_count": 129,
     "metadata": {},
     "output_type": "execute_result"
    }
   ],
   "source": [
    "# weight 的 初始值都設為 1, bias 都設為 0\n",
    "def init_constant(m):\n",
    "    if type(m) == nn.Linear:\n",
    "        nn.init.constant_(m.weight, 1)\n",
    "        nn.init.zeros_(m.bias)\n",
    "\n",
    "model.apply(init_constant)\n",
    "\n",
    "model[0].weight.data, model[0].bias.data"
   ]
  },
  {
   "cell_type": "code",
   "execution_count": 130,
   "metadata": {},
   "outputs": [
    {
     "data": {
      "text/plain": [
       "(tensor([[ 0.6934,  0.4680, -0.3913,  0.0849],\n",
       "         [ 0.1309,  0.5539, -0.4249, -0.5450],\n",
       "         [-0.1842, -0.2299, -0.4047,  0.2514],\n",
       "         [-0.6546,  0.4458, -0.6788, -0.1312],\n",
       "         [-0.1920,  0.0308,  0.1797, -0.3841],\n",
       "         [ 0.6221, -0.3523,  0.5078, -0.3886],\n",
       "         [-0.3136,  0.3043, -0.3935,  0.2180],\n",
       "         [ 0.5874, -0.5117, -0.5833,  0.0361]]),\n",
       " tensor([0., 0., 0., 0., 0., 0., 0., 0.]))"
      ]
     },
     "execution_count": 130,
     "metadata": {},
     "output_type": "execute_result"
    }
   ],
   "source": [
    "# xavier\n",
    "def init_xavier(m):\n",
    "    if type(m) == nn.Linear:\n",
    "        nn.init.xavier_uniform_(m.weight)\n",
    "\n",
    "model.apply(init_xavier)\n",
    "\n",
    "model[0].weight.data, model[0].bias.data"
   ]
  },
  {
   "cell_type": "code",
   "execution_count": 132,
   "metadata": {},
   "outputs": [
    {
     "name": "stdout",
     "output_type": "stream",
     "text": [
      "Init weight torch.Size([8, 4])\n",
      "Init weight torch.Size([1, 8])\n"
     ]
    },
    {
     "data": {
      "text/plain": [
       "Parameter containing:\n",
       "tensor([[ 7.3381, -6.7319, -5.7735,  8.2337],\n",
       "        [ 9.4036, -8.0004, -5.2134,  0.0000],\n",
       "        [ 0.0000, -8.1653, -5.6182, -0.0000],\n",
       "        [-0.0000,  0.0000,  5.3923, -0.0000],\n",
       "        [ 0.0000, -0.0000,  9.4830, -0.0000],\n",
       "        [ 0.0000,  0.0000,  5.3328,  9.0293],\n",
       "        [-0.0000, -5.9543,  5.0917, -0.0000],\n",
       "        [ 0.0000, -9.4781,  0.0000, -0.0000]], requires_grad=True)"
      ]
     },
     "execution_count": 132,
     "metadata": {},
     "output_type": "execute_result"
    }
   ],
   "source": [
    "# 自訂義初始化\n",
    "# weight 有 1/4 的可能性，來自 U(5, 10), 1/4 可能性來自 U(-10, -5), 1/2 可能性是 0\n",
    "\n",
    "def my_init(m):\n",
    "    if type(m) == nn.Linear:\n",
    "        print(\"Init\", *[(name, param.shape) for name, param in m.named_parameters()][0])\n",
    "        nn.init.uniform_(m.weight, -10, 10)\n",
    "        m.weight.data *= m.weight.data.abs() >= 5\n",
    "\n",
    "model.apply(my_init)\n",
    "model[0].weight"
   ]
  },
  {
   "cell_type": "markdown",
   "metadata": {},
   "source": [
    "* 我們也可以自己設定參數"
   ]
  },
  {
   "cell_type": "code",
   "execution_count": 133,
   "metadata": {},
   "outputs": [
    {
     "data": {
      "text/plain": [
       "tensor([42.0000, -5.7319, -4.7735,  9.2337])"
      ]
     },
     "execution_count": 133,
     "metadata": {},
     "output_type": "execute_result"
    }
   ],
   "source": [
    "model[0].weight.data[:] += 1\n",
    "model[0].weight.data[0, 0] = 42\n",
    "model[0].weight.data[0]"
   ]
  },
  {
   "cell_type": "markdown",
   "metadata": {
    "id": "SuVwkwv74L9X",
    "tags": []
   },
   "source": [
    "## Classical Layers"
   ]
  },
  {
   "cell_type": "markdown",
   "metadata": {
    "id": "7KwfCDA84L9X"
   },
   "source": [
    "### NN"
   ]
  },
  {
   "cell_type": "markdown",
   "metadata": {
    "id": "3u9SGDNv4L9X"
   },
   "source": [
    "#### `nn.Linear(in_dim, out_dim)`"
   ]
  },
  {
   "cell_type": "markdown",
   "metadata": {
    "id": "8kA1p_DR4L9X"
   },
   "source": [
    "### CNN"
   ]
  },
  {
   "cell_type": "markdown",
   "metadata": {
    "id": "5zjSWiDF4L9X"
   },
   "source": [
    "#### convolution"
   ]
  },
  {
   "cell_type": "markdown",
   "metadata": {
    "id": "zcENycuX4L9Y"
   },
   "source": [
    "* 2d convolution: `nn.Conv2d(in_channels, out_channels, kernel_size, stride=1, padding=0)`  \n",
    "* 1d convolution"
   ]
  },
  {
   "cell_type": "markdown",
   "metadata": {
    "id": "iuwfPgtG4L9Y"
   },
   "source": [
    "#### pooling"
   ]
  },
  {
   "cell_type": "markdown",
   "metadata": {
    "id": "oYg2bmEZ4L9Y"
   },
   "source": [
    "* maximum pooling:  `nn.MaxPool2d(kernel_size, stride=None, padding=0, dilation=1)`   \n",
    "* average pooling:   \n",
    "* global maximum pooling:   \n",
    "* global average pooling:  "
   ]
  },
  {
   "cell_type": "markdown",
   "metadata": {
    "id": "Ba1ZADwe4L9Y"
   },
   "source": [
    "#### VGG"
   ]
  },
  {
   "cell_type": "markdown",
   "metadata": {
    "id": "TkHcJGg24L9Y"
   },
   "source": [
    "#### ResNet"
   ]
  },
  {
   "cell_type": "markdown",
   "metadata": {
    "id": "r9OhratU4L9Y"
   },
   "source": [
    "### RNN"
   ]
  },
  {
   "cell_type": "markdown",
   "metadata": {
    "id": "NRQUC1jl4L9d"
   },
   "source": [
    "## Loss"
   ]
  },
  {
   "cell_type": "markdown",
   "metadata": {
    "id": "3No7oWdD4L9d"
   },
   "source": [
    "### overview"
   ]
  },
  {
   "cell_type": "code",
   "execution_count": null,
   "metadata": {
    "id": "DXHRHGVw4L9d"
   },
   "outputs": [],
   "source": [
    "import numpy as np\n",
    "import torch\n",
    "import torch.nn as nn\n",
    "import torch.nn.functional as F"
   ]
  },
  {
   "cell_type": "markdown",
   "metadata": {
    "id": "9ZKQZIon4L9d"
   },
   "source": [
    "* 官網連結: https://pytorch.org/docs/stable/nn.html#loss-functions  \n",
    "* 常用的整理："
   ]
  },
  {
   "cell_type": "markdown",
   "metadata": {
    "id": "jJpYa7UJ4L9e"
   },
   "source": [
    "| loss function                    | `torch.nn as nn`                    | `torch.nn.functional as F` |\n",
    "|:--------------------------------:| ----------------------------------- | -------------------------- |\n",
    "| Binary cross entropy             | `nn.BCELoss()`                      | `F.binary_cross_entropy`   |\n",
    "| Binary cross entropy with logits | `nn.BCEWithLogitsLoss()`            | `F.binary_cross_entropy_with_logits` |\n",
    "| categorical cross entropy        | `nn.CrossEntropyLoss()`             | `F.relu`                   |\n",
    "| mse                              | `nn.MSELoss()`                      | `F.leaky_relu`             |\n",
    "| mae                              | `nn.L1Loss()`                       | `F.tanh`                   |"
   ]
  },
  {
   "cell_type": "markdown",
   "metadata": {
    "id": "VEOS33cC4L9e"
   },
   "source": [
    "* 概念講一下：\n",
    "  * loss 在統計的定義，是對 \"單一\" sample 算 loss，例如 square error loss = $(y_i - \\hat{y_i})^2$\n",
    "  * 然後 mse 是 cost，不是 loss，所以 mse cost = $\\frac{1}{n}\\sum_{i=1}^n (y_i - \\hat{y_i})^2$  \n",
    "  * 但在 pytorch/tensorflow 中，這兩個已經被混用了，都叫做 loss. \n",
    "  * 至於，如何區別這兩者呢？靠 class/function 中的參數定義來決定。  \n",
    "  * 例如： `my_mse = nn.MSELoss()`, 然後 `my_mse(y_hat_vector, y_true_vector)`，算出來的就是 mse cost. \n",
    "  * 但如果 `my_mse = nn.MSELoss(reduction = 'none')`, 然後 `my_mse(y_hat_vector, y_true_vector)`，算出來的是 n 維的 mse loss"
   ]
  },
  {
   "cell_type": "markdown",
   "metadata": {
    "id": "cm1Ie_tU4L9e"
   },
   "source": [
    "* y 不一定要是向量，可以是矩陣或陣列：  \n",
    "  * 在統計上，學 loss 或 cost，都是從回歸的角度去學的，也就 向量 vs 向量， e.g. y = 100 維向量(100個sample)，y_hat 也是 100 維，那就可以算出 1 個 cost 和 100 個 loss. \n",
    "  * 但在 deep learning 裡面，y不一定是向量，y可以是矩陣，甚至多維陣列。\n",
    "  * 例如做 autoencoder 時\n",
    "    * y就是矩陣，比如 100 張圖片，每張圖片都是 8x8 的矩陣，那 y 可以定義成 (100, 8x8) 的 矩陣，(把圖片拉成 8x8 的向量)。\n",
    "    * y_hat 是這些影像 reconstruct 後的結果，所以也是 100 x 64 的矩陣。\n",
    "    * 那我照樣用剛剛定義好的 loss function，我就可以算出 1 個 cost 和 100x8x8 = 6400 個 loss。\n",
    "    * 所以關鍵在：他都是 `by element` 算 loss, 然後紀錄有多少 `個數`, 最後再用 `sum` 或 `mean` 回給你一個 cost。\n",
    "    * 這樣，就不需要管 y 的 shape 了。\n",
    "    * 例如：我這次不要把 8x8 拉成向量，所以 y 就是 (100, 8, 8) 的 array，那也無所謂，放入我的 loss function，他就可以算出 6400 個 loss，然後依照你的 reduction 的設定 (none or sum or mean)，回給你 6400 個 loss 或是 1 個 cost"
   ]
  },
  {
   "cell_type": "markdown",
   "metadata": {
    "id": "I-ea1fdV4L9e"
   },
   "source": [
    "* batch loss 是拿來更新參數用的， epoch loss 是用來檢查有無 overfitting 的\n",
    "  * deep learning 在 training or testing 時，都是一個 batch 一個 batch 做，最後再整合成一個 epoch  \n",
    "  * 每個 batch 在做的時候，都要算這個 batch 的 cost，他的目的是用來更 gradient 時，要對這個 cost 做偏微分。所以每個 batch 結束，會得到一個 cost\n",
    "  * 每個 epoch 結束，要算的 cost 是跨所有樣本的。他的目的，是要去比較 training sample 的 cost 和 validation sample 的 cost，來判斷是否 overfitting 了，要不要做 early stop"
   ]
  },
  {
   "cell_type": "markdown",
   "metadata": {
    "id": "U7x2Fnjh4L9e"
   },
   "source": [
    "* epoch loss 的算法設計.   \n",
    "  * 最常見的設計，是直接拿 batch cost 的結果來 summarise，因位省時省力：  \n",
    "    * 舉例來說，我有 10 個 batch，每個 batch 有 32 個 batch size. \n",
    "    * 每個 batch 結束時，其實都拿到該 batch 的 1 個 cost 或 32 個 loss. \n",
    "    * 那算 epoch cost 時，我就可以把 10 個 batch cost 取平均，或是 10x32 = 320 個 loss 取平均，就得到 epoch cost。\n",
    "    * pseudo code 就是  \n",
    "      * 先定義 `epoch_cost = 0`  \n",
    "      * 然後 for 迴圈去 loop 10 個 batch  \n",
    "      * 每次 batch 結束，就讓 `epoch_cost += batch_cost`. \n",
    "      * 迴圈結束後，用 epoch_cost / 10，得到 mean cost。\n",
    "      * 如果要用 loss 的寫法也很簡單。最外面就是定義 `loss_list = []`，然後每個回圈都是算出 batch_size 個 epoch_loss，然後 `loss_list.append(epoch_loss)`，最終再對 loss_list 取平均就好。"
   ]
  },
  {
   "cell_type": "markdown",
   "metadata": {
    "id": "zrgCMpXn4L9f",
    "tags": []
   },
   "source": [
    "### mse"
   ]
  },
  {
   "cell_type": "code",
   "execution_count": null,
   "metadata": {
    "id": "5sKEmsrV4L9f",
    "outputId": "1c68e431-c560-43d4-f360-71972d268657"
   },
   "outputs": [
    {
     "name": "stdout",
     "output_type": "stream",
     "text": [
      "tensor([-1.6104,  0.4109,  1.3322,  1.2199, -0.6273], requires_grad=True)\n",
      "tensor([ 0.7016, -1.6683,  1.0668,  0.9080, -1.2761])\n"
     ]
    }
   ],
   "source": [
    "y_hat = torch.randn(5, requires_grad=True)\n",
    "y_true = torch.randn(5)\n",
    "print(y_hat)\n",
    "print(y_true)"
   ]
  },
  {
   "cell_type": "markdown",
   "metadata": {
    "id": "ip7_JjqP4L9f"
   },
   "source": [
    "#### class 版本"
   ]
  },
  {
   "cell_type": "code",
   "execution_count": null,
   "metadata": {
    "id": "hp1oodqd4L9f",
    "outputId": "5425e20e-e33c-4226-a386-879772c3b5a3"
   },
   "outputs": [
    {
     "name": "stdout",
     "output_type": "stream",
     "text": [
      "tensor([5.3454, 4.3230, 0.0705, 0.0973, 0.4209], grad_fn=<MseLossBackward>)\n"
     ]
    }
   ],
   "source": [
    "# 算 loss\n",
    "my_loss = nn.MSELoss(reduction = \"none\")\n",
    "loss = my_loss(y_hat, y_true)\n",
    "print(loss)"
   ]
  },
  {
   "cell_type": "code",
   "execution_count": null,
   "metadata": {
    "id": "9uMC33QP4L9g",
    "outputId": "fc06f4fd-c01a-4a46-e189-a05e1be7e7bb"
   },
   "outputs": [
    {
     "name": "stdout",
     "output_type": "stream",
     "text": [
      "tensor(2.0514, grad_fn=<MseLossBackward>)\n",
      "tensor(2.0514, grad_fn=<MeanBackward0>)\n"
     ]
    }
   ],
   "source": [
    "# 算 cost (i.e mean loss)\n",
    "my_loss = nn.MSELoss()\n",
    "cost = my_loss(y_hat, y_true)\n",
    "print(cost)\n",
    "print(loss.mean())"
   ]
  },
  {
   "cell_type": "code",
   "execution_count": null,
   "metadata": {
    "id": "S2njHObn4L9g",
    "outputId": "aaf4c131-c20b-4a05-8265-bbd3094fc83b"
   },
   "outputs": [
    {
     "name": "stdout",
     "output_type": "stream",
     "text": [
      "tensor(10.2571, grad_fn=<MseLossBackward>)\n",
      "tensor(10.2571, grad_fn=<SumBackward0>)\n"
     ]
    }
   ],
   "source": [
    "# 算 cost (i.e sum loss)\n",
    "my_loss = nn.MSELoss(reduction = \"sum\")\n",
    "sum_cost = my_loss(y_hat, y_true)\n",
    "print(sum_cost)\n",
    "print(loss.sum())"
   ]
  },
  {
   "cell_type": "markdown",
   "metadata": {
    "id": "Yl-GKJ0N4L9g"
   },
   "source": [
    "#### function 版本"
   ]
  },
  {
   "cell_type": "code",
   "execution_count": null,
   "metadata": {
    "id": "TNwShra64L9g",
    "outputId": "98ac32bf-0d5d-4729-ed74-ddad594cc3f3"
   },
   "outputs": [
    {
     "name": "stdout",
     "output_type": "stream",
     "text": [
      "tensor([-0.7780, -0.4672, -1.0941, -1.0928, -1.0654], requires_grad=True)\n",
      "tensor([ 0.5094, -0.6637, -0.5560, -0.5600, -1.6072])\n",
      "tensor(0.5126, grad_fn=<MseLossBackward>)\n"
     ]
    }
   ],
   "source": [
    "# 用 function 做 cost\n",
    "y_hat = torch.randn(5, requires_grad=True)\n",
    "y_true = torch.randn(5)\n",
    "\n",
    "print(y_hat)\n",
    "print(y_true)\n",
    "print(F.mse_loss(y_hat, y_true))"
   ]
  },
  {
   "cell_type": "code",
   "execution_count": null,
   "metadata": {
    "id": "JnFDY6354L9h",
    "outputId": "8784f3d4-d9e1-48aa-cf97-7c368cc279fc"
   },
   "outputs": [
    {
     "name": "stdout",
     "output_type": "stream",
     "text": [
      "tensor([-0.9525,  0.9356, -0.1469, -0.3822,  2.0675], requires_grad=True)\n",
      "tensor([-0.3021, -0.6323, -1.2846, -0.1762, -0.0629])\n",
      "tensor([0.4230, 2.4583, 1.2943, 0.0424, 4.5388], grad_fn=<MseLossBackward>)\n"
     ]
    }
   ],
   "source": [
    "# 用 function 做 loss\n",
    "y_hat = torch.randn(5, requires_grad=True)\n",
    "y_true = torch.randn(5)\n",
    "\n",
    "print(y_hat)\n",
    "print(y_true)\n",
    "print(F.mse_loss(y_hat, y_true, reduction=\"none\"))"
   ]
  },
  {
   "cell_type": "markdown",
   "metadata": {
    "id": "ZHgYnmjw4L9h"
   },
   "source": [
    "### mae"
   ]
  },
  {
   "cell_type": "markdown",
   "metadata": {
    "id": "v-nPmzMu4L9h"
   },
   "source": [
    "### binary cross entropy"
   ]
  },
  {
   "cell_type": "code",
   "execution_count": null,
   "metadata": {
    "id": "ks-Q3HJv4L9h"
   },
   "outputs": [],
   "source": [
    "y_logit = torch.tensor([2.3552, -0.9071,  2.8323])\n",
    "y_hat = torch.tensor([0.9133, 0.2876, 0.9444]) # 就是 F.sigmoid(y_logit) 後的結果\n",
    "y = torch.tensor([0.0, 0.0, 0.0])"
   ]
  },
  {
   "cell_type": "markdown",
   "metadata": {
    "id": "dIo5kVdk4L9i"
   },
   "source": [
    "* y 是 vector/matrix/array 都可 (常見是 vector，element 個數就是樣本數)，值不是 0 就是 1。 e.g. [0, 1, 0] 表示三個樣本的真值。\n",
    "* y_hat 的 shape 同 y，值介於 0~1 之間。e.g. [0.3, 0.8, 0.1]，表示三個樣本的預測值。\n",
    "* `binary cross entropy`： $-\\frac{1}{n}\\sum_{i = 1}^{n}\\left[ y_i log(\\hat{y_i}) + (1-y_i)(1-log(\\hat{y_i})\\right]$ \n",
    "* 這在這個定義式的中間這項就是 loss： $y_i log(\\hat{y_i}) + (1-y_i)(1-log(\\hat{y_i})$ 。可用 `reduction = \"none\"` 來設定，就可拿到 n 個 loss\n",
    "* 那算 cost，可以像定義式那樣，用平均來做，可用 `reduction = \"mean\"` 來設定。不寫也可，預設就是取 mean"
   ]
  },
  {
   "cell_type": "markdown",
   "metadata": {
    "id": "u9x0jejd4L9i"
   },
   "source": [
    "#### class 版本"
   ]
  },
  {
   "cell_type": "code",
   "execution_count": null,
   "metadata": {
    "id": "DOqF1bJM4L9k",
    "outputId": "2251be81-76ef-4d99-c9e2-fadbae34b4a8"
   },
   "outputs": [
    {
     "name": "stdout",
     "output_type": "stream",
     "text": [
      "tensor([2.4453, 0.3391, 2.8896])\n"
     ]
    }
   ],
   "source": [
    "# loss 版\n",
    "my_loss = nn.BCELoss(reduction = \"none\")\n",
    "loss = my_loss(y_hat, y)\n",
    "print(loss)"
   ]
  },
  {
   "cell_type": "code",
   "execution_count": null,
   "metadata": {
    "id": "obZG0qeD4L9k",
    "outputId": "3c59ee6b-ef1d-4a2b-9b12-af42b16e5f6f"
   },
   "outputs": [
    {
     "name": "stdout",
     "output_type": "stream",
     "text": [
      "tensor(1.8913)\n",
      "tensor(1.8913)\n"
     ]
    }
   ],
   "source": [
    "# cost 版\n",
    "my_loss = nn.BCELoss()\n",
    "cost = my_loss(y_hat, y)\n",
    "print(cost)\n",
    "print(loss.mean())"
   ]
  },
  {
   "cell_type": "markdown",
   "metadata": {
    "id": "cVuqTBdu4L9k"
   },
   "source": [
    "#### function 版"
   ]
  },
  {
   "cell_type": "code",
   "execution_count": null,
   "metadata": {
    "id": "RG7wJbLu4L9k",
    "outputId": "91a14819-2a76-4ee7-c561-61bdbf017bce"
   },
   "outputs": [
    {
     "name": "stdout",
     "output_type": "stream",
     "text": [
      "tensor([2.4453, 0.3391, 2.8896])\n",
      "tensor(1.8913)\n"
     ]
    }
   ],
   "source": [
    "# loss 版\n",
    "print(F.binary_cross_entropy(y_hat, y, reduction = \"none\"))\n",
    "\n",
    "# cost 版\n",
    "print(F.binary_cross_entropy(y_hat, y))"
   ]
  },
  {
   "cell_type": "code",
   "execution_count": null,
   "metadata": {
    "id": "YnV1YudC4L9l",
    "outputId": "b52dabe8-ad61-40fc-9845-b49fb1c26f3e"
   },
   "outputs": [
    {
     "data": {
      "text/plain": [
       "tensor(1.8913)"
      ]
     },
     "execution_count": 94,
     "metadata": {},
     "output_type": "execute_result"
    }
   ],
   "source": [
    "# 自己照定義算\n",
    "-1*(torch.log(1-y_hat)).mean()"
   ]
  },
  {
   "cell_type": "markdown",
   "metadata": {
    "id": "LiRkrM5G4L9l"
   },
   "source": [
    "* 事實上，y和y_hat可以是任何shape，他都會幫你 by element 的去做 $ y_i log(\\hat{y_i}) + (1-y_i)(1-log(\\hat{y_i})$，然後最後取總平均"
   ]
  },
  {
   "cell_type": "code",
   "execution_count": null,
   "metadata": {
    "id": "K432Lc5r4L9l",
    "outputId": "6888de18-f669-4a58-e6e5-e2282e8a7dff"
   },
   "outputs": [
    {
     "name": "stdout",
     "output_type": "stream",
     "text": [
      "tensor([[0.2420, 0.5219, 0.5408, 0.7095, 0.1231],\n",
      "        [0.3518, 0.2747, 0.9089, 0.8097, 0.4674],\n",
      "        [0.2304, 0.0615, 0.1389, 0.2419, 0.7572]])\n",
      "tensor([[1., 1., 0., 0., 1.],\n",
      "        [0., 0., 1., 1., 1.],\n",
      "        [0., 0., 1., 1., 1.]])\n"
     ]
    }
   ],
   "source": [
    "y_hat = torch.rand((3,5))\n",
    "y = np.random.randint(low = 0, high = 2, size = (3,5))\n",
    "y = torch.tensor(y, dtype = torch.float32)\n",
    "\n",
    "print(y_hat)\n",
    "print(y)"
   ]
  },
  {
   "cell_type": "code",
   "execution_count": null,
   "metadata": {
    "id": "BUSyaitf4L9l",
    "outputId": "81c0adbf-bad5-40a7-e884-a9ac9a2dc782"
   },
   "outputs": [
    {
     "data": {
      "text/plain": [
       "tensor(0.7998)"
      ]
     },
     "execution_count": 23,
     "metadata": {},
     "output_type": "execute_result"
    }
   ],
   "source": [
    "F.binary_cross_entropy(y_hat, y)"
   ]
  },
  {
   "cell_type": "markdown",
   "metadata": {
    "id": "XETBixQg4L9l"
   },
   "source": [
    "* 而且，y 也 不一定要是 0 or 1， y也可以是 0~1 的數，此時 binary entropy 就是在衡量 y 和 y_hat 的 distribution 像不像的一個指標"
   ]
  },
  {
   "cell_type": "code",
   "execution_count": null,
   "metadata": {
    "id": "mFNaOGht4L9l",
    "outputId": "0c9580e6-203f-4e1a-cd72-e1d87f338220"
   },
   "outputs": [
    {
     "name": "stdout",
     "output_type": "stream",
     "text": [
      "tensor([[0.1801, 0.4587, 0.9839, 0.5115, 0.7780],\n",
      "        [0.2146, 0.9854, 0.0592, 0.6360, 0.2658],\n",
      "        [0.6827, 0.2666, 0.0440, 0.6086, 0.8917]])\n",
      "tensor([[0.6732, 0.5078, 0.8481, 0.7030, 0.9484],\n",
      "        [0.7353, 0.8262, 0.2038, 0.2685, 0.1202],\n",
      "        [0.5659, 0.6011, 0.3651, 0.3918, 0.4598]])\n"
     ]
    }
   ],
   "source": [
    "y_hat = torch.rand((3,5))\n",
    "y = torch.rand((3,5))\n",
    "\n",
    "print(y_hat)\n",
    "print(y)"
   ]
  },
  {
   "cell_type": "code",
   "execution_count": null,
   "metadata": {
    "id": "HloBQaGt4L9m",
    "outputId": "68185d3b-31a8-49a5-bd38-33f07a88e781"
   },
   "outputs": [
    {
     "data": {
      "text/plain": [
       "tensor(0.8157)"
      ]
     },
     "execution_count": 29,
     "metadata": {},
     "output_type": "execute_result"
    }
   ],
   "source": [
    "F.binary_cross_entropy(y_hat, y)"
   ]
  },
  {
   "cell_type": "markdown",
   "metadata": {
    "id": "OJPwkOiu4L9m"
   },
   "source": [
    "* 這其實就有用在 autoencoder 的 loss 上\n",
    "* y 是一張正規化後的影像(值都介於 0 到 1)，y_hat 是 reconstruct 後的影像，值也都介於 0 到 1 (因為最後有加 sigmoid)，此時算 loss 就可以用 binary_cross_entropy loss "
   ]
  },
  {
   "cell_type": "markdown",
   "metadata": {
    "id": "kfekcdKh4L9m"
   },
   "source": [
    "### binary cross entropy with logits"
   ]
  },
  {
   "cell_type": "code",
   "execution_count": null,
   "metadata": {
    "id": "FDg24NRy4L9m"
   },
   "outputs": [],
   "source": [
    "y_logit = torch.tensor([2.3552, -0.9071,  2.8323])\n",
    "y_hat = torch.tensor([0.9133, 0.2876, 0.9444]) # 就是 F.sigmoid(y_logit) 後的結果\n",
    "y = torch.tensor([0.0, 0.0, 0.0])"
   ]
  },
  {
   "cell_type": "markdown",
   "metadata": {
    "id": "MkkrMe_Y4L9m"
   },
   "source": [
    "* $\\hat{y_i}$ 在轉成機率值前叫 logit (從 deep learning 的角度，就是還沒做 sigmoid 前的值; 從統計角度，sigmoid 在做的就是 logit transform 的逆變換)。  \n",
    "* 所以他會幫你把這個 $\\hat{y_i}$ 轉成 $\\frac{1}{1+e^{-\\hat{y_i}}}$ (這就是 sigmoid function 在做的事，也就是 logit transform 的逆變換)，再丟進去 binary cross entropy 裡面。\n",
    "* 補充以下以前學過的統計知識：  \n",
    "  * logit transform 是把 0 到 1 的機率值，轉成實數域。 e.g. p 介於 0 到 1， $y = log\\left(\\frac{p}{1-p}\\right)$，此時 y 介於 -無窮 到 +無窮，此時的 y 被稱為 logits\n",
    "  * logit transform 逆變換，是把時數域壓到 0 到 1 之間。 e.g. y 介於 -無窮 到 +無窮. $p = \\frac{1}{1+e^{-y}}$，此時 p 介於 0 到 1, 此時的 p 被解釋為機率值"
   ]
  },
  {
   "cell_type": "markdown",
   "metadata": {
    "id": "IpgkhGt84L9n"
   },
   "source": [
    "### cross-entropy"
   ]
  },
  {
   "cell_type": "markdown",
   "metadata": {
    "id": "PqS_2zMv4L9n"
   },
   "source": [
    "* 先寫結論和用法，晚點補詳細的：  \n",
    "  * input 的 y_hat 必須是 logit (還沒經過 softmax), y可以是 [0,c) 的 integer，或是 one-hot encoding(必須是 float32，為了通用於 blended-label). "
   ]
  },
  {
   "cell_type": "markdown",
   "metadata": {
    "id": "Hhkl52E84L9n"
   },
   "source": [
    "* y_hat 需要是 logit"
   ]
  },
  {
   "cell_type": "code",
   "execution_count": null,
   "metadata": {
    "id": "X_JWTUpy4L9n"
   },
   "outputs": [],
   "source": [
    "y_hat_logit_mat = np.array(\n",
    "    [[-2.3, 2, 1.5],\n",
    "     [-1, 2, 3]]\n",
    ")\n",
    "y_hat_logit_mat = torch.tensor(y_hat_logit_mat)"
   ]
  },
  {
   "cell_type": "code",
   "execution_count": null,
   "metadata": {
    "id": "qSKr_kFv4L9o",
    "outputId": "843da3cd-4bc4-4fc9-9e45-2fb9525da897"
   },
   "outputs": [
    {
     "data": {
      "text/plain": [
       "tensor([[-2.3000,  2.0000,  1.5000],\n",
       "        [-1.0000,  2.0000,  3.0000]], dtype=torch.float64)"
      ]
     },
     "execution_count": 53,
     "metadata": {},
     "output_type": "execute_result"
    }
   ],
   "source": [
    "y_hat_logit_mat"
   ]
  },
  {
   "cell_type": "markdown",
   "metadata": {
    "id": "cgWSIrwn4L9o"
   },
   "source": [
    "* 熟悉的 softmax 是這樣："
   ]
  },
  {
   "cell_type": "code",
   "execution_count": null,
   "metadata": {
    "id": "C9h1yvaG4L9p",
    "outputId": "73474212-1d57-4ccc-8ef2-446eefe1cfb5"
   },
   "outputs": [
    {
     "data": {
      "text/plain": [
       "tensor([[0.0084, 0.6172, 0.3744],\n",
       "        [0.0132, 0.2654, 0.7214]], dtype=torch.float64)"
      ]
     },
     "execution_count": 54,
     "metadata": {},
     "output_type": "execute_result"
    }
   ],
   "source": [
    "y_hat_mat = torch.nn.functional.softmax(y_hat_logit_mat, dim = 1)\n",
    "y_hat_mat"
   ]
  },
  {
   "cell_type": "markdown",
   "metadata": {
    "id": "Ufs9QDJh4L9q"
   },
   "source": [
    "* y 可以是 int 或 one-hot"
   ]
  },
  {
   "cell_type": "code",
   "execution_count": null,
   "metadata": {
    "id": "d2GrY84D4L9q"
   },
   "outputs": [],
   "source": [
    "y_int = torch.tensor([1,1])\n",
    "y_one_hot = torch.tensor([[0,1,0],[0,1,0]], dtype = torch.float32)"
   ]
  },
  {
   "cell_type": "markdown",
   "metadata": {
    "id": "cwvuEdOC4L9q"
   },
   "source": [
    "* 算 cross-entropy"
   ]
  },
  {
   "cell_type": "code",
   "execution_count": null,
   "metadata": {
    "id": "X3gFiXQW4L9q",
    "outputId": "272b3f67-254d-49fc-87e0-26991a4da1c1"
   },
   "outputs": [
    {
     "name": "stdout",
     "output_type": "stream",
     "text": [
      "tensor([0.4825, 1.3266], dtype=torch.float64)\n",
      "tensor([0.4825, 1.3266], dtype=torch.float64)\n"
     ]
    }
   ],
   "source": [
    "from torch import nn\n",
    "loss = nn.CrossEntropyLoss(reduction='none')\n",
    "print(loss(y_hat_logit_mat, y_int))\n",
    "print(loss(y_hat_logit_mat, y_one_hot))"
   ]
  },
  {
   "cell_type": "code",
   "execution_count": null,
   "metadata": {
    "id": "iaPyHokI4L9r",
    "outputId": "2ca07faf-9c8b-4105-d8fd-a5dbc48576d7"
   },
   "outputs": [
    {
     "name": "stdout",
     "output_type": "stream",
     "text": [
      "tensor(0.9045, dtype=torch.float64)\n",
      "tensor(0.9045, dtype=torch.float64)\n"
     ]
    }
   ],
   "source": [
    "loss = nn.CrossEntropyLoss(reduction='mean')\n",
    "print(loss(y_hat_logit_mat, y_int))\n",
    "print(loss(y_hat_logit_mat, y_one_hot))"
   ]
  },
  {
   "cell_type": "markdown",
   "metadata": {
    "id": "pONWEvRH4L9r"
   },
   "source": [
    "### 自訂 loss"
   ]
  },
  {
   "cell_type": "markdown",
   "metadata": {
    "id": "UAswDLa_4L9r"
   },
   "source": [
    "### 對比學習"
   ]
  },
  {
   "cell_type": "markdown",
   "metadata": {
    "id": "9HhgkUXk4L9r"
   },
   "source": [
    "### autoencoder"
   ]
  },
  {
   "cell_type": "markdown",
   "metadata": {
    "id": "gjIMFaNK4L9r"
   },
   "source": [
    "## Optimizer"
   ]
  },
  {
   "cell_type": "markdown",
   "metadata": {},
   "source": [
    "* 官網很清楚： https://pytorch.org/docs/1.8.1/optim.html#how-to-adjust-learning-rate"
   ]
  },
  {
   "cell_type": "markdown",
   "metadata": {
    "id": "yxGOncFe4L9r"
   },
   "source": [
    "### 建立 optimizer"
   ]
  },
  {
   "cell_type": "markdown",
   "metadata": {},
   "source": [
    "### 不同 learning rate"
   ]
  },
  {
   "cell_type": "markdown",
   "metadata": {
    "id": "MXMcYqun4L9r"
   },
   "source": [
    "### learning rate scheduler"
   ]
  },
  {
   "cell_type": "markdown",
   "metadata": {
    "id": "8ydCVEIN4L9r"
   },
   "source": [
    "## Training loops"
   ]
  },
  {
   "cell_type": "markdown",
   "metadata": {
    "id": "y8HxS-7_4L9s"
   },
   "source": [
    "### 完整版 (了解概念用)"
   ]
  },
  {
   "cell_type": "markdown",
   "metadata": {
    "id": "c4Qavpxp4L9s"
   },
   "source": [
    "* Data 準備"
   ]
  },
  {
   "cell_type": "code",
   "execution_count": null,
   "metadata": {
    "id": "b9RpJqOk4L9s"
   },
   "outputs": [],
   "source": [
    "from torch.utils.data import TensorDataset\n",
    "\n",
    "# Training\n",
    "X = np.random.rand(1000, 100, 100, 1)   # 虛構 1000 張 100 x 100 單色圖片\n",
    "Y = np.random.randint(0, 7, [1000, 10]) # 虛構 1000 個 labels\n",
    "\n",
    "X, Y = X.astype(np.float32), Y.astype(np.float32)\n",
    "tsrX, tsrY = torch.tensor(X), torch.tensor(Y)\n",
    "tsrdataset = TensorDataset(tsrX, tsrY)\n",
    "\n",
    "tsrdataloader = DataLoader(\n",
    "    tsrdataset, batch_size=4,\n",
    "    shuffle=True, num_workers=4)\n",
    "\n",
    "# Validation\n",
    "vX = np.random.rand(100, 100, 100, 1)   # 虛構 100 張 100 x 100 單色圖片\n",
    "vY = np.random.randint(0, 7, [100, 10]) # 虛構 100 個 labels\n",
    "\n",
    "vX, vY = vX.astype(np.float32), vY.astype(np.float32)\n",
    "vtsrX, vtsrY = torch.tensor(vX), torch.tensor(vY)\n",
    "vtsrdataset = TensorDataset(tsrX, tsrY)\n",
    "\n",
    "vtsrdataloader = DataLoader(\n",
    "    vtsrdataset, batch_size=4,\n",
    "    shuffle=False, num_workers=4) # Validation 不需要 shuffle"
   ]
  },
  {
   "cell_type": "markdown",
   "metadata": {
    "id": "io1Ey6mJ4L9s"
   },
   "source": [
    "* model structure"
   ]
  },
  {
   "cell_type": "code",
   "execution_count": null,
   "metadata": {
    "id": "WBRu5MWk4L9s"
   },
   "outputs": [],
   "source": [
    "class SimpleNN(nn.Module):\n",
    "    def __init__(self):\n",
    "        super(SimpleNN, self).__init__()\n",
    "        self.fc = nn.Sequential(\n",
    "            nn.Flatten(),\n",
    "            nn.Linear(10000, 500),\n",
    "            nn.ReLU(),\n",
    "            nn.Linear(500, 10)\n",
    "        )\n",
    "    def forward(self, x):\n",
    "        # 傳入 model 的函數會經過 forward 做 inference\n",
    "        # x = x.view(x.size(0), -1) # flatten 的意思，原本的 x.size = (batch_size, 100, 100, 1) -> 改成 (batch_size, 100*100*1)\n",
    "        return self.fc(x)"
   ]
  },
  {
   "cell_type": "markdown",
   "metadata": {
    "id": "Iry9GjJB4L9s"
   },
   "source": [
    "* 確定 device"
   ]
  },
  {
   "cell_type": "code",
   "execution_count": null,
   "metadata": {
    "id": "wma47Zft4L9s",
    "outputId": "3dd82151-0556-42a0-b13c-f759d85c9bd3"
   },
   "outputs": [
    {
     "data": {
      "text/plain": [
       "'cpu'"
      ]
     },
     "execution_count": 56,
     "metadata": {},
     "output_type": "execute_result"
    }
   ],
   "source": [
    "device = \"cuda\" if torch.cuda.is_available() else \"cpu\"\n",
    "device"
   ]
  },
  {
   "cell_type": "code",
   "execution_count": null,
   "metadata": {
    "id": "mBeH2CER4L9t"
   },
   "outputs": [],
   "source": [
    "# model structure\n",
    "simpleNN = SimpleNN()\n",
    "simpleNN.to(device)                           # 把 model 移到 GPU 計算\n",
    "\n",
    "# optimizer\n",
    "optim = torch.optim.Adam(\n",
    "    simpleNN.parameters(), lr=1e-4)\n",
    "\n",
    "# loss\n",
    "criterion = nn.MSELoss()"
   ]
  },
  {
   "cell_type": "markdown",
   "metadata": {
    "id": "LWxqWVU-4L9t"
   },
   "source": [
    "* tensorboard 設定"
   ]
  },
  {
   "cell_type": "code",
   "execution_count": null,
   "metadata": {
    "id": "oY9KV_Dm4L9t"
   },
   "outputs": [],
   "source": [
    "# tensorboard setting\n",
    "%load_ext tensorboard\n",
    "\n",
    "import os\n",
    "logs_base_dir = \"runs\" # training 的紀錄，放在這個路徑下\n",
    "os.makedirs(logs_base_dir, exist_ok=True)\n",
    "\n",
    "from torch.utils.tensorboard import SummaryWriter\n",
    "tb = SummaryWriter()"
   ]
  },
  {
   "cell_type": "markdown",
   "metadata": {
    "id": "EQN8RxJG4L9t"
   },
   "source": [
    "* 開始 Training， 本質就是跑一個迴圈，在每一次（叫一個 **epoch**）要做的事有——\n",
    "  1. 載入資料\n",
    "  2. 經過 model 跑一次\n",
    "  3. 比對資料的正確性，算誤差（loss）\n",
    "  4. 把梯度清掉，然後根據這次誤差算新的梯度\n",
    "  5. 根據 optimizer 更新參數\n",
    "  6. 為了方便觀察，將本次 epoch 訓練的變化顯示出來，包括\n",
    "     - 進度條（觀察訓練快慢）\n",
    "     - batch loss （這個有時候會輸出太多東西）\n",
    "     - epoch loss （記得累計並除掉資料數量）\n",
    "     - 記錄到其他變數中（方便作圖）\n",
    "     - 記錄到 Tensorboard 中（SummaryWriter）\n",
    "\n",
    "* 為了避免 overfit，我們每個 epoch 還會進行一次 validation，事情少一些，變成——\n",
    "  1. 載入資料\n",
    "  2. 經過 model 跑一次\n",
    "  3. 比對資料的正確性，算誤差（loss）\n",
    "  4. 為了方便觀察，將本次 epoch validate 的結果顯示出來，包括\n",
    "     - 進度條（觀察訓練快慢）\n",
    "     - batch loss （這個有時候會輸出太多東西）\n",
    "     - epoch loss （記得累計並除掉資料數量）\n",
    "     - 記錄到其他變數中（方便作圖）\n",
    "     - 記錄到 Tensorboard 中（SummaryWriter）"
   ]
  },
  {
   "cell_type": "code",
   "execution_count": null,
   "metadata": {
    "id": "TWzueQdz4L9t"
   },
   "outputs": [],
   "source": [
    "%tensorboard --logdir {logs_base_dir} # 開啟 tensorboard"
   ]
  },
  {
   "cell_type": "code",
   "execution_count": null,
   "metadata": {
    "id": "LhG8zkLP4L9t",
    "outputId": "0fb3e03b-3512-480d-bf67-4ac958fa495e"
   },
   "outputs": [
    {
     "name": "stdout",
     "output_type": "stream",
     "text": [
      "Training   Epoch  1: Loss = 1.0920\n",
      "Validation Epoch  1: Loss = 0.9851\n",
      "Training   Epoch  2: Loss = 0.9812\n",
      "Validation Epoch  2: Loss = 0.9269\n",
      "Training   Epoch  3: Loss = 0.9155\n",
      "Validation Epoch  3: Loss = 0.8980\n",
      "Training   Epoch  4: Loss = 0.8593\n",
      "Validation Epoch  4: Loss = 0.7541\n",
      "Training   Epoch  5: Loss = 0.7777\n",
      "Validation Epoch  5: Loss = 0.6951\n",
      "Training   Epoch  6: Loss = 0.7110\n",
      "Validation Epoch  6: Loss = 0.6363\n",
      "Training   Epoch  7: Loss = 0.6274\n",
      "Validation Epoch  7: Loss = 0.5730\n",
      "Training   Epoch  8: Loss = 0.5564\n",
      "Validation Epoch  8: Loss = 0.4740\n",
      "Training   Epoch  9: Loss = 0.4752\n",
      "Validation Epoch  9: Loss = 0.3994\n",
      "Training   Epoch 10: Loss = 0.3927\n",
      "Validation Epoch 10: Loss = 0.3577\n"
     ]
    }
   ],
   "source": [
    "# training loop\n",
    "EPOCHS = 10\n",
    "for epoch in range(EPOCHS):\n",
    "    # training step (training data)\n",
    "    simpleNN.train() # 切換 simpleNN 為 training 模式，dropout 之類的操作會開啟\n",
    "    epoch_loss = 0.0\n",
    "    for x, y in tsrdataloader:\n",
    "        y_hat = simpleNN(x.to(device))        # 把 x tensor 移到 GPU 計算\n",
    "        loss = criterion(y.to(device), y_hat) # 把 y tensor 移到 GPU 計算，\n",
    "                                              ##  y_hat 因為是從 GPU model input GPU Tensor 出來的\n",
    "                                              ##  所以不用再次 .to(device) 當然要也是沒差啦 =_=|||\n",
    "        optim.zero_grad() # 把 trainable variable/weights/parameters 的 gradient 給 歸 0\n",
    "        loss.backward() # 利用 loss，計算出每個 trainable variable/weights/parameters 所對應的 gradient\n",
    "        optim.step() # 更新 trainable variable/weights/parameters 的值： parameters_new = parameters_old - learning_rate * gradient\n",
    "        epoch_loss += loss.item()\n",
    "    average_epoch_loss = epoch_loss / len(tsrdataset)\n",
    "    print(f\"Training   Epoch {epoch + 1:2d}: Loss = {average_epoch_loss:.4f}\")\n",
    "    tb.add_scalar(\"Loss/train\", average_epoch_loss, epoch + 1) # 寫進 tensorboard\n",
    "    \n",
    "\n",
    "    # evaluation step (validation data)\n",
    "    simpleNN.eval() # 將 simpleNN 切換到 evaluation mode， dropout 之類的操作會關閉\n",
    "    vepoch_loss = 0.0\n",
    "    for x, y in vtsrdataloader:\n",
    "        y_hat = simpleNN(x.to(device))\n",
    "        loss = criterion(y.to(device), y_hat)\n",
    "        vepoch_loss += loss.item()\n",
    "    vaverage_epoch_loss = vepoch_loss / len(vtsrdataset)\n",
    "    print(f\"Validation Epoch {epoch + 1:2d}: Loss = {vaverage_epoch_loss:.4f}\")\n",
    "    tb.add_scalar(\"Loss/val\", vaverage_epoch_loss, epoch + 1) # 寫進 tensorboard\n",
    "tb.close() # 加這個"
   ]
  },
  {
   "cell_type": "markdown",
   "metadata": {
    "id": "4qaS4EmV4L9u"
   },
   "source": [
    "### 模組版 (實際做實驗, deploy 時用)"
   ]
  },
  {
   "cell_type": "code",
   "execution_count": null,
   "metadata": {
    "id": "R-lBCVh14L9u"
   },
   "outputs": [],
   "source": [
    "def accuracy(y_hat, y):  #@save\n",
    "    \"\"\"計算預測正確的數量\"\"\"\n",
    "    if len(y_hat.shape) > 1 and y_hat.shape[1] > 1:\n",
    "        y_hat = y_hat.argmax(axis=1)\n",
    "    cmp = y_hat.type(y.dtype) == y\n",
    "    return float(cmp.type(y.dtype).sum())"
   ]
  },
  {
   "cell_type": "code",
   "execution_count": null,
   "metadata": {
    "id": "mlZJRlsg4L9u"
   },
   "outputs": [],
   "source": [
    "# 計算 metric 時用的\n",
    "class Accumulator:  #@save\n",
    "    \"\"\"在n个變量上累加\"\"\"\n",
    "    def __init__(self, n):\n",
    "        self.data = [0.0] * n # [0.0, 0.0, ..., 0.0], 共 n 個 0.0\n",
    "\n",
    "    def add(self, *args):\n",
    "        self.data = [a + float(b) for a, b in zip(self.data, args)]\n",
    "\n",
    "    def reset(self):\n",
    "        self.data = [0.0] * len(self.data)\n",
    "\n",
    "    def __getitem__(self, idx):\n",
    "        return self.data[idx]"
   ]
  },
  {
   "cell_type": "code",
   "execution_count": null,
   "metadata": {
    "id": "e-s7sWEV4L9u"
   },
   "outputs": [],
   "source": [
    "def evaluate_accuracy(model, data_iter):  #@save\n",
    "    \"\"\"計算在指定數據集上，模型的準確度\"\"\"\n",
    "    if isinstance(model, torch.nn.Module):\n",
    "        model.eval()  # 将模型设置为评估模式\n",
    "    metric = Accumulator(2)  # 正确预测数、预测总数\n",
    "    with torch.no_grad():\n",
    "        for X, y in data_iter:\n",
    "            metric.add(accuracy(net(X), y), y.numel())\n",
    "    return metric[0] / metric[1]"
   ]
  },
  {
   "cell_type": "code",
   "execution_count": null,
   "metadata": {
    "id": "OBnPalve4L9u"
   },
   "outputs": [],
   "source": [
    "# 單一 epoch 裡要做的事\n",
    "def train_epoch(model, train_iter, loss, optimizer):  #@save\n",
    "    \n",
    "    model.train()\n",
    "    # 訓練損失總和、訓練準確度總和、樣本數\n",
    "    metric = Accumulator(3)\n",
    "    for X, y in train_iter:\n",
    "        y_hat = model(X)\n",
    "        l = loss(y_hat, y)\n",
    "        optimizer.zero_grad()\n",
    "        l.mean().backward()\n",
    "        optimizer.step()\n",
    "        \n",
    "        metric.add(float(l.sum()), accuracy(y_hat, y), y.numel())\n",
    "    # 返回訓練損失 & 訓練準確度\n",
    "    return metric[0] / metric[2], metric[1] / metric[2]"
   ]
  },
  {
   "cell_type": "code",
   "execution_count": null,
   "metadata": {
    "id": "CT31ehqb4L9u"
   },
   "outputs": [],
   "source": [
    "class Animator:  #@save\n",
    "    \"\"\"在動畫中繪製數據\"\"\"\n",
    "    def __init__(self, xlabel=None, ylabel=None, legend=None, xlim=None,\n",
    "                 ylim=None, xscale='linear', yscale='linear',\n",
    "                 fmts=('-', 'm--', 'g-.', 'r:'), nrows=1, ncols=1,\n",
    "                 figsize=(3.5, 2.5)):\n",
    "        # 增量地绘制多条线\n",
    "        if legend is None:\n",
    "            legend = []\n",
    "        d2l.use_svg_display()\n",
    "        self.fig, self.axes = d2l.plt.subplots(nrows, ncols, figsize=figsize)\n",
    "        if nrows * ncols == 1:\n",
    "            self.axes = [self.axes, ]\n",
    "        # 使用lambda函数捕获参数\n",
    "        self.config_axes = lambda: d2l.set_axes(\n",
    "            self.axes[0], xlabel, ylabel, xlim, ylim, xscale, yscale, legend)\n",
    "        self.X, self.Y, self.fmts = None, None, fmts\n",
    "\n",
    "    def add(self, x, y):\n",
    "        # 向图表中添加多个数据点\n",
    "        if not hasattr(y, \"__len__\"):\n",
    "            y = [y]\n",
    "        n = len(y)\n",
    "        if not hasattr(x, \"__len__\"):\n",
    "            x = [x] * n\n",
    "        if not self.X:\n",
    "            self.X = [[] for _ in range(n)]\n",
    "        if not self.Y:\n",
    "            self.Y = [[] for _ in range(n)]\n",
    "        for i, (a, b) in enumerate(zip(x, y)):\n",
    "            if a is not None and b is not None:\n",
    "                self.X[i].append(a)\n",
    "                self.Y[i].append(b)\n",
    "        self.axes[0].cla()\n",
    "        for x, y, fmt in zip(self.X, self.Y, self.fmts):\n",
    "            self.axes[0].plot(x, y, fmt)\n",
    "        self.config_axes()\n",
    "        display.display(self.fig)\n",
    "        display.clear_output(wait=True)"
   ]
  },
  {
   "cell_type": "code",
   "execution_count": null,
   "metadata": {
    "id": "qrGUZb1E4L9v"
   },
   "outputs": [],
   "source": [
    "def train(model, train_iter, valid_iter, loss, num_epochs, optimizer):  #@save\n",
    "    #animator = Animator(xlabel='epoch', xlim=[1, num_epochs], ylim=[0.3, 0.9],\n",
    "    #                    legend=['train loss', 'train acc', 'test acc'])\n",
    "    for epoch in range(num_epochs):\n",
    "        train_metrics = train_epoch(model, train_iter, loss, updater)\n",
    "        valid_acc = evaluate_accuracy(model, valid_iter)\n",
    "        animator.add(epoch + 1, train_metrics + (valid_acc,))\n",
    "    train_loss, train_acc = train_metrics\n",
    "    assert train_loss < 0.5, train_loss\n",
    "    assert train_acc <= 1 and train_acc > 0.7, train_acc\n",
    "    assert valid_acc <= 1 and valid_acc > 0.7, valid_acc"
   ]
  },
  {
   "cell_type": "markdown",
   "metadata": {
    "id": "rdbpVFeZ4L9v"
   },
   "source": [
    "### CNN"
   ]
  },
  {
   "cell_type": "markdown",
   "metadata": {
    "id": "k1BId39k4L9v"
   },
   "source": [
    "## Prediction"
   ]
  },
  {
   "cell_type": "markdown",
   "metadata": {
    "id": "_93ERddN4L9v"
   },
   "source": [
    "* data 準備 (testing data)"
   ]
  },
  {
   "cell_type": "code",
   "execution_count": null,
   "metadata": {
    "id": "0z8Q71904L9v"
   },
   "outputs": [],
   "source": [
    "# Testing\n",
    "tX = np.random.rand(100, 100, 100, 1)   # 虛構 100 張 100 x 100 單色圖片\n",
    "tY = np.random.randint(0, 7, [100, 10]) # 虛構 100 個 labels\n",
    "\n",
    "tX, tY = tX.astype(np.float32), tY.astype(np.float32)\n",
    "ttsrX, ttsrY = torch.tensor(tX), torch.tensor(tY)\n",
    "ttsrdataset = TensorDataset(tsrX, tsrY)\n",
    "\n",
    "ttsrdataloader = DataLoader(\n",
    "    ttsrdataset, batch_size=4,\n",
    "    shuffle=False, num_workers=4) # Testing 不需要 shuffle"
   ]
  },
  {
   "cell_type": "code",
   "execution_count": null,
   "metadata": {
    "id": "y86AgtMd4L9w"
   },
   "outputs": [],
   "source": [
    "# prediction\n",
    "simpleNN.eval()\n",
    "y_hat = [simpleNN(x) for x, y in ttsrdataloader]"
   ]
  },
  {
   "cell_type": "code",
   "execution_count": null,
   "metadata": {
    "id": "9M5xpWNl4L9w"
   },
   "outputs": [],
   "source": [
    "def predict(model, test_iter, n=6):  #@save\n",
    "    for X, y in test_iter:\n",
    "        break\n",
    "    trues = d2l.get_fashion_mnist_labels(y)\n",
    "    preds = d2l.get_fashion_mnist_labels(net(X).argmax(axis=1))\n",
    "    titles = [true +'\\n' + pred for true, pred in zip(trues, preds)]\n",
    "    d2l.show_images(\n",
    "        X[0:n].reshape((n, 28, 28)), 1, n, titles=titles[0:n])\n",
    "\n",
    "predict_ch3(net, test_iter)"
   ]
  },
  {
   "cell_type": "markdown",
   "metadata": {
    "id": "f9K_XAaZ4L9w"
   },
   "source": [
    "## Evaluation"
   ]
  },
  {
   "cell_type": "markdown",
   "metadata": {
    "id": "gqb0XiGk4L9w"
   },
   "source": [
    "## Save/ load model"
   ]
  },
  {
   "cell_type": "markdown",
   "metadata": {},
   "source": [
    "### 只存 weight"
   ]
  },
  {
   "cell_type": "markdown",
   "metadata": {},
   "source": [
    "* https://pytorch.org/tutorials/beginner/basics/saveloadrun_tutorial.html"
   ]
  },
  {
   "cell_type": "code",
   "execution_count": null,
   "metadata": {},
   "outputs": [],
   "source": [
    "# 假設我們 train 好的 model 是 VGG\n",
    "import torch\n",
    "import torchvision.models as models\n",
    "model = models.vgg16(pretrained=True)\n",
    "\n",
    "# 只存 weight\n",
    "torch.save(model.state_dict(), 'model_weights.pth')\n",
    "\n",
    "# 之後做預測，要先 initialize model\n",
    "import torch\n",
    "import torchvision.models as models\n",
    "model = models.vgg16(pretrained=True)\n",
    "\n",
    "# load weight\n",
    "model.load_state_dict(torch.load('model_weights.pth'))\n",
    "\n",
    "# 開始做 inference\n",
    "model.eval() # 關閉 batch normalization layer, dropout layer 等\n",
    "model(x)"
   ]
  },
  {
   "cell_type": "markdown",
   "metadata": {},
   "source": [
    "### 存 weight 和 model structure"
   ]
  },
  {
   "cell_type": "markdown",
   "metadata": {},
   "source": [
    "* 如果把 model structure 和 weight 一起存起來，就可以 load 後，直接 predict"
   ]
  },
  {
   "cell_type": "code",
   "execution_count": null,
   "metadata": {},
   "outputs": [],
   "source": [
    "import torch\n",
    "import torchvision.models as models\n",
    "model = models.vgg16(pretrained=True)\n",
    "\n",
    "# 存檔時，存整個 model\n",
    "torch.save(model, 'model.pth')\n",
    "\n",
    "# 讀檔時，直接讀整個 model\n",
    "model = torch.load('model.pth') # 不需要 initialize 一個 model，再去讀 weight 了\n"
   ]
  },
  {
   "cell_type": "markdown",
   "metadata": {
    "id": "QNInaCoS4L9w"
   },
   "source": [
    "### checkpoints"
   ]
  },
  {
   "cell_type": "markdown",
   "metadata": {},
   "source": [
    "* https://pytorch.org/tutorials/recipes/recipes/saving_and_loading_a_general_checkpoint.html\n",
    "* 看官網這篇就 ok 了"
   ]
  },
  {
   "cell_type": "code",
   "execution_count": null,
   "metadata": {
    "id": "y-3knBui4L9w"
   },
   "outputs": [],
   "source": [
    "# Save model\n",
    "simpleNN.cpu() # 先移回 CPU\n",
    "torch.save(simpleNN.state_dict(), \"randmodel.model\")\n",
    "\n",
    "# Load model\n",
    "model2 = SimpleNN()\n",
    "model2.load_state_dict(torch.load(\"randmodel.model\"))\n",
    "\n",
    "# 確認是同一個 model\n",
    "torch.equal(model2(x), simpleNN(x))"
   ]
  },
  {
   "cell_type": "markdown",
   "metadata": {},
   "source": [
    "## callbacks"
   ]
  },
  {
   "cell_type": "markdown",
   "metadata": {},
   "source": [
    "### Early stopping"
   ]
  },
  {
   "cell_type": "markdown",
   "metadata": {},
   "source": [
    "* 修改自：https://stackoverflow.com/questions/71998978/early-stopping-in-pytorch"
   ]
  },
  {
   "cell_type": "code",
   "execution_count": 1,
   "metadata": {},
   "outputs": [],
   "source": [
    "class EarlyStopper:\n",
    "    def __init__(self, patience=1, min_delta=0):\n",
    "        self.patience = patience\n",
    "        self.min_delta = min_delta\n",
    "        self.counter = 0\n",
    "        self.min_validation_loss = np.inf\n",
    "        self.if_break = False\n",
    "\n",
    "    def monitor(self, validation_loss):\n",
    "        if validation_loss < self.min_validation_loss:\n",
    "            self.min_validation_loss = validation_loss\n",
    "            self.counter = 0\n",
    "        elif validation_loss > (self.min_validation_loss + self.min_delta):\n",
    "            self.counter += 1\n",
    "        self.if_break = True if self.counter >= self.patience else False"
   ]
  },
  {
   "cell_type": "markdown",
   "metadata": {},
   "source": [
    "* 然後這樣用："
   ]
  },
  {
   "cell_type": "code",
   "execution_count": null,
   "metadata": {},
   "outputs": [],
   "source": [
    "early_stopper = EarlyStopper(patience=3, min_delta=10)\n",
    "for epoch in np.arange(n_epochs):\n",
    "    train_loss = train_one_epoch(model, train_loader)\n",
    "    validation_loss = validate_one_epoch(model, validation_loader)\n",
    "    \n",
    "    early_stopper.monitor(validation_loss)\n",
    "    if early_stopper.counter == 0:\n",
    "        torch.save(model, 'model.pth')\n",
    "    if early_stopper.if_break:\n",
    "        break"
   ]
  },
  {
   "cell_type": "markdown",
   "metadata": {
    "id": "4BoTTxEi4L9w"
   },
   "source": [
    "## Visualization"
   ]
  },
  {
   "cell_type": "markdown",
   "metadata": {},
   "source": [
    "* tensorboard 參考這篇：\n",
    "  * https://pytorch.org/docs/stable/tensorboard.html\n",
    "  * https://pytorch.org/tutorials/beginner/introyt/tensorboardyt_tutorial.html"
   ]
  },
  {
   "cell_type": "markdown",
   "metadata": {
    "id": "CEi7Oqoi4L9x"
   },
   "source": [
    "## Explaianation"
   ]
  },
  {
   "cell_type": "code",
   "execution_count": null,
   "metadata": {
    "id": "HXBgYeF64L9z"
   },
   "outputs": [],
   "source": []
  }
 ],
 "metadata": {
  "accelerator": "GPU",
  "colab": {
   "provenance": []
  },
  "gpuClass": "standard",
  "kernelspec": {
   "display_name": "Python 3",
   "language": "python",
   "name": "python3"
  },
  "language_info": {
   "codemirror_mode": {
    "name": "ipython",
    "version": 3
   },
   "file_extension": ".py",
   "mimetype": "text/x-python",
   "name": "python",
   "nbconvert_exporter": "python",
   "pygments_lexer": "ipython3",
   "version": "3.8.0"
  },
  "toc-autonumbering": true
 },
 "nbformat": 4,
 "nbformat_minor": 4
}
